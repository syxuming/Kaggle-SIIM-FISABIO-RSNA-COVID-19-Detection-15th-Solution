{
 "cells": [
  {
   "cell_type": "code",
   "execution_count": 1,
   "id": "valued-hearts",
   "metadata": {
    "execution": {
     "iopub.execute_input": "2021-08-08T15:13:51.244703Z",
     "iopub.status.busy": "2021-08-08T15:13:51.244086Z",
     "iopub.status.idle": "2021-08-08T15:13:51.247645Z",
     "shell.execute_reply": "2021-08-08T15:13:51.248116Z",
     "shell.execute_reply.started": "2021-08-06T03:29:13.524046Z"
    },
    "papermill": {
     "duration": 0.059714,
     "end_time": "2021-08-08T15:13:51.248351",
     "exception": false,
     "start_time": "2021-08-08T15:13:51.188637",
     "status": "completed"
    },
    "tags": []
   },
   "outputs": [],
   "source": [
    "# 配置参数和模型超参数\n",
    "class CFG:\n",
    "    valid_bs = 32 # 验证集batch_size，请根据GPU性能调整\n",
    "    n_worker = 8 # 数据导入线程数，请根据CPU性能调整\n",
    "    multi_gpu = True\n",
    "    tta = True\n",
    "\n",
    "    image_size = 512 # 图片尺寸\n",
    "    model_arch = \"tf_efficientnetv2_l_21k\" # tf_efficientnetv2_l_21k  tf_efficientnet_b4  tf_efficientnetv2_m\n",
    "    model_arch1 = \"tf_efficientnetv2_m\" # tf_efficientnetv2_l_21k  tf_efficientnet_b4  tf_efficientnetv2_m\n",
    "    \n",
    "    model_path = [\"/kaggle/input/study-model-2/stage1_4749_fold0_tf_efficientnetv2_l_21k_512_best_9_5701.pth\",\n",
    "                  \"/kaggle/input/study-model-2/stage1_1852_fold1_tf_efficientnetv2_l_21k_512_best_9_5724.pth\",\n",
    "                  \"/kaggle/input/study-model/stage1_0218_fold2_tf_efficientnetv2_l_21k_512_best_7_6025.pth\",\n",
    "                  \"/kaggle/input/study-model/stage1_0218_fold3_tf_efficientnetv2_l_21k_512_best_9_5855.pth\",\n",
    "                  \"/kaggle/input/study-model/stage1_0218_fold4_tf_efficientnetv2_l_21k_512_best_9_5945.pth\",\n",
    "                 ]\n",
    "    class_weight = [1,1,1,1,1,] ####\n",
    "\n",
    "    class2_path = [\n",
    "        \"/kaggle/input/2class-pth/stage1_4632_fold0_tf_efficientnetv2_l_21k_512_best_9_9685.pth\",\n",
    "        \"/kaggle/input/2class-pth/stage1_5812_fold1_tf_efficientnetv2_l_21k_512_best_5_9688.pth\",\n",
    "        \"/kaggle/input/2class-pth/stage1_5812_fold2_tf_efficientnetv2_l_21k_512_best_7_9729.pth\",\n",
    "        \"/kaggle/input/2class-pth/stage1_5812_fold3_tf_efficientnetv2_l_21k_512_best_8_9691.pth\",\n",
    "        \"/kaggle/input/2class-pth/stage1_5812_fold4_tf_efficientnetv2_l_21k_512_best_9_9682.pth\",\n",
    "    ]"
   ]
  },
  {
   "cell_type": "code",
   "execution_count": 2,
   "id": "athletic-substance",
   "metadata": {
    "_kg_hide-input": true,
    "_kg_hide-output": true,
    "execution": {
     "iopub.execute_input": "2021-08-08T15:13:51.348476Z",
     "iopub.status.busy": "2021-08-08T15:13:51.347725Z",
     "iopub.status.idle": "2021-08-08T15:15:51.423038Z",
     "shell.execute_reply": "2021-08-08T15:15:51.422405Z",
     "shell.execute_reply.started": "2021-08-06T03:29:13.560319Z"
    },
    "papermill": {
     "duration": 120.133611,
     "end_time": "2021-08-08T15:15:51.423201",
     "exception": false,
     "start_time": "2021-08-08T15:13:51.289590",
     "status": "completed"
    },
    "tags": []
   },
   "outputs": [
    {
     "name": "stdout",
     "output_type": "stream",
     "text": [
      "\r\n",
      "Downloading and Extracting Packages\r\n",
      "######################################################################## | 100% \r\n",
      "Preparing transaction: - \b\bdone\r\n",
      "Verifying transaction: | \b\bdone\r\n",
      "Executing transaction: - \b\b\\ \b\bdone\r\n",
      "\r\n",
      "Downloading and Extracting Packages\r\n",
      "######################################################################## | 100% \r\n",
      "Preparing transaction: - \b\bdone\r\n",
      "Verifying transaction: | \b\bdone\r\n",
      "Executing transaction: - \b\b\\ \b\b| \b\bdone\r\n",
      "\r\n",
      "Downloading and Extracting Packages\r\n",
      "######################################################################## | 100% \r\n",
      "Preparing transaction: - \b\bdone\r\n",
      "Verifying transaction: | \b\bdone\r\n",
      "Executing transaction: - \b\bdone\r\n",
      "\r\n",
      "Downloading and Extracting Packages\r\n",
      "######################################################################## | 100% \r\n",
      "Preparing transaction: - \b\bdone\r\n",
      "Verifying transaction: | \b\bdone\r\n",
      "Executing transaction: - \b\b\\ \b\b| \b\b/ \b\b- \b\b\\ \b\b| \b\b/ \b\b- \b\b\\ \b\b| \b\b/ \b\b- \b\b\\ \b\b| \b\b/ \b\b- \b\b\\ \b\bdone\r\n",
      "\r\n",
      "Downloading and Extracting Packages\r\n",
      "######################################################################## | 100% \r\n",
      "Preparing transaction: - \b\bdone\r\n",
      "Verifying transaction: | \b\bdone\r\n",
      "Executing transaction: - \b\bdone\r\n",
      "\r\n",
      "Downloading and Extracting Packages\r\n",
      "######################################################################## | 100% \r\n",
      "Preparing transaction: - \b\bdone\r\n",
      "Verifying transaction: | \b\bdone\r\n",
      "Executing transaction: - \b\b\\ \b\b| \b\b/ \b\b- \b\b\\ \b\bdone\r\n"
     ]
    }
   ],
   "source": [
    "!conda install '/kaggle/input/pydicom-conda-helper/libjpeg-turbo-2.1.0-h7f98852_0.tar.bz2' -c conda-forge -y\n",
    "!conda install '/kaggle/input/pydicom-conda-helper/libgcc-ng-9.3.0-h2828fa1_19.tar.bz2' -c conda-forge -y\n",
    "!conda install '/kaggle/input/pydicom-conda-helper/gdcm-2.8.9-py37h500ead1_1.tar.bz2' -c conda-forge -y\n",
    "!conda install '/kaggle/input/pydicom-conda-helper/conda-4.10.1-py37h89c1867_0.tar.bz2' -c conda-forge -y\n",
    "!conda install '/kaggle/input/pydicom-conda-helper/certifi-2020.12.5-py37h89c1867_1.tar.bz2' -c conda-forge -y\n",
    "!conda install '/kaggle/input/pydicom-conda-helper/openssl-1.1.1k-h7f98852_0.tar.bz2' -c conda-forge -y\n",
    "\n",
    "!pip install /kaggle/input/kerasapplications -q\n",
    "!pip install /kaggle/input/efficientnet-keras-source-code/ -q --no-deps"
   ]
  },
  {
   "cell_type": "code",
   "execution_count": 3,
   "id": "convinced-plumbing",
   "metadata": {
    "execution": {
     "iopub.execute_input": "2021-08-08T15:15:51.545198Z",
     "iopub.status.busy": "2021-08-08T15:15:51.543680Z",
     "iopub.status.idle": "2021-08-08T15:16:13.431752Z",
     "shell.execute_reply": "2021-08-08T15:16:13.431263Z"
    },
    "papermill": {
     "duration": 21.955072,
     "end_time": "2021-08-08T15:16:13.431894",
     "exception": false,
     "start_time": "2021-08-08T15:15:51.476822",
     "status": "completed"
    },
    "tags": []
   },
   "outputs": [
    {
     "name": "stdout",
     "output_type": "stream",
     "text": [
      "Processing /kaggle/input/effdet-latestvinbigdata-wbf-fused/ensemble_boxes-1.0.4-py3-none-any.whl\r\n",
      "Installing collected packages: ensemble-boxes\r\n",
      "Successfully installed ensemble-boxes-1.0.4\r\n"
     ]
    }
   ],
   "source": [
    "!pip install '/kaggle/input/effdet-latestvinbigdata-wbf-fused/ensemble_boxes-1.0.4-py3-none-any.whl' --no-deps"
   ]
  },
  {
   "cell_type": "code",
   "execution_count": 4,
   "id": "wooden-footage",
   "metadata": {
    "execution": {
     "iopub.execute_input": "2021-08-08T15:16:13.566774Z",
     "iopub.status.busy": "2021-08-08T15:16:13.551423Z",
     "iopub.status.idle": "2021-08-08T15:19:55.763433Z",
     "shell.execute_reply": "2021-08-08T15:19:55.762992Z"
    },
    "papermill": {
     "duration": 222.275413,
     "end_time": "2021-08-08T15:19:55.763557",
     "exception": false,
     "start_time": "2021-08-08T15:16:13.488144",
     "status": "completed"
    },
    "tags": []
   },
   "outputs": [
    {
     "name": "stdout",
     "output_type": "stream",
     "text": [
      "Processing /kaggle/input/effdet-latestvinbigdata-wbf-fused/ensemble_boxes-1.0.4-py3-none-any.whl\r\n",
      "ensemble-boxes is already installed with the same version as the provided wheel. Use --force-reinstall to force an installation of the wheel.\r\n",
      "Processing /kaggle/input/mmdetectionv2140/addict-2.4.0-py3-none-any.whl\r\n",
      "Installing collected packages: addict\r\n",
      "Successfully installed addict-2.4.0\r\n",
      "Processing /kaggle/input/mmdetectionv2140/yapf-0.31.0-py2.py3-none-any.whl\r\n",
      "Installing collected packages: yapf\r\n",
      "Successfully installed yapf-0.31.0\r\n",
      "Processing /kaggle/input/mmdetectionv2140/terminal-0.4.0-py3-none-any.whl\r\n",
      "Installing collected packages: terminal\r\n",
      "Successfully installed terminal-0.4.0\r\n",
      "Processing /kaggle/input/mmdetectionv2140/terminaltables-3.1.0-py3-none-any.whl\r\n",
      "terminaltables is already installed with the same version as the provided wheel. Use --force-reinstall to force an installation of the wheel.\r\n",
      "Processing /kaggle/input/mmdetectionv2140/mmcv_full-1_3_8-cu110-torch1_7_0/mmcv_full-1.3.8-cp37-cp37m-manylinux1_x86_64.whl\r\n",
      "Installing collected packages: mmcv-full\r\n",
      "Successfully installed mmcv-full-1.3.8\r\n",
      "Processing /kaggle/input/mmdetectionv2140/pycocotools-2.0.2/pycocotools-2.0.2\r\n",
      "Building wheels for collected packages: pycocotools\r\n",
      "  Building wheel for pycocotools (setup.py) ... \u001B[?25l-\b \b\\\b \b|\b \b/\b \b-\b \b\\\b \b|\b \b/\b \bdone\r\n",
      "\u001B[?25h  Created wheel for pycocotools: filename=pycocotools-2.0.2-cp37-cp37m-linux_x86_64.whl size=272446 sha256=f315a2e755cc842b45841ecf628cade62e8ad89ddefe20fd39a39ee3324957f4\r\n",
      "  Stored in directory: /root/.cache/pip/wheels/3b/c9/26/f4ec5e3e2fdc837f5c5539fe16dbe35f82a358c7a4ccca98b4\r\n",
      "Successfully built pycocotools\r\n",
      "Installing collected packages: pycocotools\r\n",
      "Successfully installed pycocotools-2.0.2\r\n",
      "Processing /kaggle/input/mmdetectionv2140/mmpycocotools-12.0.3/mmpycocotools-12.0.3\r\n",
      "Building wheels for collected packages: mmpycocotools\r\n",
      "  Building wheel for mmpycocotools (setup.py) ... \u001B[?25l-\b \b\\\b \b|\b \b/\b \b-\b \b\\\b \b|\b \b/\b \bdone\r\n",
      "\u001B[?25h  Created wheel for mmpycocotools: filename=mmpycocotools-12.0.3-cp37-cp37m-linux_x86_64.whl size=272722 sha256=b8b0f08c7fb2b29ba577207eca26f652d0d9f4bc4596e99578e7b74db2811633\r\n",
      "  Stored in directory: /root/.cache/pip/wheels/6b/52/1c/2397d26e2e427dfd5555670bfb92e2882acc8a30aed0c8f890\r\n",
      "Successfully built mmpycocotools\r\n",
      "Installing collected packages: mmpycocotools\r\n",
      "Successfully installed mmpycocotools-12.0.3\r\n",
      "/kaggle/working/mmdetection\n",
      "Obtaining file:///kaggle/working/mmdetection\r\n",
      "Installing collected packages: mmdet\r\n",
      "  Running setup.py develop for mmdet\r\n",
      "Successfully installed mmdet\r\n",
      "/kaggle/working\n"
     ]
    }
   ],
   "source": [
    "%load_ext autoreload\n",
    "%autoreload 2\n",
    "\n",
    "!pip install '/kaggle/input/effdet-latestvinbigdata-wbf-fused/ensemble_boxes-1.0.4-py3-none-any.whl' --no-deps\n",
    "\n",
    "## MMDetection Offline Installation\n",
    "!pip install '/kaggle/input/mmdetectionv2140/addict-2.4.0-py3-none-any.whl' --no-deps\n",
    "!pip install '/kaggle/input/mmdetectionv2140/yapf-0.31.0-py2.py3-none-any.whl' --no-deps\n",
    "!pip install '/kaggle/input/mmdetectionv2140/terminal-0.4.0-py3-none-any.whl' --no-deps\n",
    "!pip install '/kaggle/input/mmdetectionv2140/terminaltables-3.1.0-py3-none-any.whl' --no-deps\n",
    "!pip install '/kaggle/input/mmdetectionv2140/mmcv_full-1_3_8-cu110-torch1_7_0/mmcv_full-1.3.8-cp37-cp37m-manylinux1_x86_64.whl' --no-deps\n",
    "!pip install '/kaggle/input/mmdetectionv2140/pycocotools-2.0.2/pycocotools-2.0.2' --no-deps\n",
    "!pip install '/kaggle/input/mmdetectionv2140/mmpycocotools-12.0.3/mmpycocotools-12.0.3' --no-deps\n",
    "\n",
    "!cp -r /kaggle/input/mmdetectionv2140/mmdetection-2.14.0 /kaggle/working/\n",
    "!mv /kaggle/working/mmdetection-2.14.0 /kaggle/working/mmdetection\n",
    "%cd /kaggle/working/mmdetection\n",
    "!pip install -e . --no-deps\n",
    "%cd /kaggle/working/\n",
    "\n",
    "import sys\n",
    "sys.path.append('/kaggle/working/mmdetection')"
   ]
  },
  {
   "cell_type": "code",
   "execution_count": 5,
   "id": "acoustic-england",
   "metadata": {
    "_cell_guid": "b1076dfc-b9ad-4769-8c92-a6c4dae69d19",
    "_uuid": "8f2839f25d086af736a60e9eeb907d3b93b6e0e5",
    "execution": {
     "iopub.execute_input": "2021-08-08T15:19:55.896442Z",
     "iopub.status.busy": "2021-08-08T15:19:55.895671Z",
     "iopub.status.idle": "2021-08-08T15:20:00.605176Z",
     "shell.execute_reply": "2021-08-08T15:20:00.604004Z"
    },
    "papermill": {
     "duration": 4.779337,
     "end_time": "2021-08-08T15:20:00.605377",
     "exception": false,
     "start_time": "2021-08-08T15:19:55.826040",
     "status": "completed"
    },
    "scrolled": true,
    "tags": []
   },
   "outputs": [],
   "source": [
    "import os\n",
    "\n",
    "from PIL import Image\n",
    "import pandas as pd\n",
    "from tqdm.auto import tqdm\n",
    "import numpy as np\n",
    "import pydicom\n",
    "from pydicom.pixel_data_handlers.util import apply_voi_lut\n",
    "from numba import cuda\n",
    "import gc\n",
    "import torch\n",
    "import sys\n",
    "sys.path.append(\"/kaggle/input/timmeffnetv2\")\n",
    "\n",
    "import time\n",
    "import cv2\n",
    "import PIL.Image\n",
    "import random\n",
    "from sklearn.metrics import accuracy_score\n",
    "from tqdm.notebook import tqdm\n",
    "import torch\n",
    "from torch.utils.data import DataLoader, Dataset\n",
    "import torch.nn as nn\n",
    "from torch.nn import Parameter\n",
    "import torch.nn.functional as F\n",
    "import torchvision\n",
    "import torchvision.transforms as transforms\n",
    "import torch.optim as optim\n",
    "import albumentations\n",
    "import timm\n",
    "import gc\n",
    "from collections import OrderedDict\n",
    "from warnings import filterwarnings\n",
    "filterwarnings(\"ignore\")\n",
    "device = torch.device('cuda')\n",
    "\n",
    "\n",
    "from glob import glob\n",
    "import shutil, os\n",
    "import matplotlib.pyplot as plt\n",
    "from sklearn.model_selection import GroupKFold\n",
    "import seaborn as sns"
   ]
  },
  {
   "cell_type": "code",
   "execution_count": 6,
   "id": "radical-rochester",
   "metadata": {
    "execution": {
     "iopub.execute_input": "2021-08-08T15:20:00.738836Z",
     "iopub.status.busy": "2021-08-08T15:20:00.738082Z",
     "iopub.status.idle": "2021-08-08T15:20:00.785916Z",
     "shell.execute_reply": "2021-08-08T15:20:00.785511Z"
    },
    "papermill": {
     "duration": 0.117035,
     "end_time": "2021-08-08T15:20:00.786064",
     "exception": false,
     "start_time": "2021-08-08T15:20:00.669029",
     "status": "completed"
    },
    "tags": []
   },
   "outputs": [],
   "source": [
    "# 设置随机种子，以便实验复现\n",
    "def seed_everything(seed):\n",
    "    random.seed(seed)\n",
    "    os.environ['PYTHONHASHSEED'] = str(seed)\n",
    "    np.random.seed(seed)\n",
    "    torch.manual_seed(seed)\n",
    "    torch.cuda.manual_seed(seed)\n",
    "    torch.backends.cudnn.deterministic = True\n",
    "    torch.backends.cudnn.benchmark = False # set True to be faster\n",
    "seed_everything(42)"
   ]
  },
  {
   "cell_type": "code",
   "execution_count": 7,
   "id": "vocational-steel",
   "metadata": {
    "execution": {
     "iopub.execute_input": "2021-08-08T15:20:00.917405Z",
     "iopub.status.busy": "2021-08-08T15:20:00.916633Z",
     "iopub.status.idle": "2021-08-08T15:20:00.970768Z",
     "shell.execute_reply": "2021-08-08T15:20:00.970352Z"
    },
    "papermill": {
     "duration": 0.12044,
     "end_time": "2021-08-08T15:20:00.970869",
     "exception": false,
     "start_time": "2021-08-08T15:20:00.850429",
     "status": "completed"
    },
    "tags": []
   },
   "outputs": [],
   "source": [
    "if pd.read_csv('/kaggle/input/siim-covid19-detection/sample_submission.csv').shape[0] == 2477:\n",
    "    fast_sub = True\n",
    "    fast_df = pd.DataFrame(([['00086460a852_study', 'negative 1 0 0 1 1'], \n",
    "                         ['000c9c05fd14_study', 'negative 1 0 0 1 1'], \n",
    "                         ['65761e66de9f_image', 'none 1 0 0 1 1'], \n",
    "                         ['51759b5579bc_image', 'none 1 0 0 1 1']]), \n",
    "                       columns=['id', 'PredictionString'])\n",
    "else:\n",
    "    fast_sub = False\n",
    "    \n",
    "# fast_sub = False"
   ]
  },
  {
   "cell_type": "markdown",
   "id": "limited-animation",
   "metadata": {
    "papermill": {
     "duration": 0.06167,
     "end_time": "2021-08-08T15:20:01.094614",
     "exception": false,
     "start_time": "2021-08-08T15:20:01.032944",
     "status": "completed"
    },
    "tags": []
   },
   "source": [
    "# .dcm to .png"
   ]
  },
  {
   "cell_type": "code",
   "execution_count": 8,
   "id": "smaller-bicycle",
   "metadata": {
    "execution": {
     "iopub.execute_input": "2021-08-08T15:20:01.224743Z",
     "iopub.status.busy": "2021-08-08T15:20:01.224004Z",
     "iopub.status.idle": "2021-08-08T15:20:01.266156Z",
     "shell.execute_reply": "2021-08-08T15:20:01.265745Z"
    },
    "papermill": {
     "duration": 0.109978,
     "end_time": "2021-08-08T15:20:01.266259",
     "exception": false,
     "start_time": "2021-08-08T15:20:01.156281",
     "status": "completed"
    },
    "tags": []
   },
   "outputs": [],
   "source": [
    "def read_xray(path, voi_lut = True, fix_monochrome = True):\n",
    "    # Original from: https://www.kaggle.com/raddar/convert-dicom-to-np-array-the-correct-way\n",
    "    dicom = pydicom.read_file(path)\n",
    "\n",
    "    if voi_lut:\n",
    "        data = apply_voi_lut(dicom.pixel_array, dicom)\n",
    "    else:\n",
    "        data = dicom.pixel_array\n",
    "               \n",
    "    # depending on this value, X-ray may look inverted - fix that:\n",
    "    if fix_monochrome and dicom.PhotometricInterpretation == \"MONOCHROME1\":\n",
    "        data = np.amax(data) - data\n",
    "        \n",
    "    data = data - np.min(data)\n",
    "    data = data / np.max(data)\n",
    "    data = (data * 255).astype(np.uint8)\n",
    "        \n",
    "    return data\n",
    "\n",
    "def resize(array, size, keep_ratio=False, resample=Image.LANCZOS):\n",
    "    # Original from: https://www.kaggle.com/xhlulu/vinbigdata-process-and-resize-to-image\n",
    "    im = Image.fromarray(array)\n",
    "    \n",
    "    if keep_ratio:\n",
    "        im.thumbnail((size, size), resample)\n",
    "    else:\n",
    "        im = im.resize((size, size), resample)\n",
    "    \n",
    "    return im"
   ]
  },
  {
   "cell_type": "code",
   "execution_count": 9,
   "id": "fresh-cargo",
   "metadata": {
    "execution": {
     "iopub.execute_input": "2021-08-08T15:20:01.398292Z",
     "iopub.status.busy": "2021-08-08T15:20:01.397549Z",
     "iopub.status.idle": "2021-08-08T15:20:02.880991Z",
     "shell.execute_reply": "2021-08-08T15:20:02.880031Z"
    },
    "papermill": {
     "duration": 1.553083,
     "end_time": "2021-08-08T15:20:02.881144",
     "exception": false,
     "start_time": "2021-08-08T15:20:01.328061",
     "status": "completed"
    },
    "tags": []
   },
   "outputs": [],
   "source": [
    "split = 'test'\n",
    "save_dir = f'/kaggle/tmp/{split}/'\n",
    "\n",
    "os.makedirs(save_dir, exist_ok=True)\n",
    "\n",
    "save_study_dir = f'/kaggle/tmp/{split}/study/'\n",
    "os.makedirs(save_study_dir, exist_ok=True)\n",
    "if fast_sub:\n",
    "    xray = read_xray('/kaggle/input/siim-covid19-detection/train/00086460a852/9e8302230c91/65761e66de9f.dcm')\n",
    "    im = resize(xray, size=512)  \n",
    "    study = '00086460a852' + '_study.png'\n",
    "    im.save(os.path.join(save_study_dir, study))\n",
    "    xray = read_xray('/kaggle/input/siim-covid19-detection/train/000c9c05fd14/e555410bd2cd/51759b5579bc.dcm')\n",
    "    im = resize(xray, size=512)  \n",
    "    study = '000c9c05fd14' + '_study.png'\n",
    "    im.save(os.path.join(save_study_dir, study))\n",
    "else:   \n",
    "    for dirname, _, filenames in tqdm(os.walk(f'/kaggle/input/siim-covid19-detection/{split}')):\n",
    "        for file in filenames:\n",
    "            # set keep_ratio=True to have original aspect ratio\n",
    "            xray = read_xray(os.path.join(dirname, file))\n",
    "            im = resize(xray, size=512)  \n",
    "            study = dirname.split('/')[-2] + '_study.png'\n",
    "            im.save(os.path.join(save_study_dir, study))"
   ]
  },
  {
   "cell_type": "code",
   "execution_count": 10,
   "id": "annual-training",
   "metadata": {
    "execution": {
     "iopub.execute_input": "2021-08-08T15:20:03.027630Z",
     "iopub.status.busy": "2021-08-08T15:20:03.026836Z",
     "iopub.status.idle": "2021-08-08T15:20:03.489730Z",
     "shell.execute_reply": "2021-08-08T15:20:03.489285Z"
    },
    "papermill": {
     "duration": 0.541227,
     "end_time": "2021-08-08T15:20:03.489850",
     "exception": false,
     "start_time": "2021-08-08T15:20:02.948623",
     "status": "completed"
    },
    "tags": []
   },
   "outputs": [
    {
     "data": {
      "text/html": [
       "<div>\n",
       "<style scoped>\n",
       "    .dataframe tbody tr th:only-of-type {\n",
       "        vertical-align: middle;\n",
       "    }\n",
       "\n",
       "    .dataframe tbody tr th {\n",
       "        vertical-align: top;\n",
       "    }\n",
       "\n",
       "    .dataframe thead th {\n",
       "        text-align: right;\n",
       "    }\n",
       "</style>\n",
       "<table border=\"1\" class=\"dataframe\">\n",
       "  <thead>\n",
       "    <tr style=\"text-align: right;\">\n",
       "      <th></th>\n",
       "      <th>id</th>\n",
       "      <th>dim0</th>\n",
       "      <th>dim1</th>\n",
       "      <th>split</th>\n",
       "    </tr>\n",
       "  </thead>\n",
       "  <tbody>\n",
       "    <tr>\n",
       "      <th>0</th>\n",
       "      <td>65761e66de9f_image</td>\n",
       "      <td>2330</td>\n",
       "      <td>2783</td>\n",
       "      <td>test</td>\n",
       "    </tr>\n",
       "    <tr>\n",
       "      <th>1</th>\n",
       "      <td>51759b5579bc_image</td>\n",
       "      <td>3093</td>\n",
       "      <td>2850</td>\n",
       "      <td>test</td>\n",
       "    </tr>\n",
       "  </tbody>\n",
       "</table>\n",
       "</div>"
      ],
      "text/plain": [
       "                   id  dim0  dim1 split\n",
       "0  65761e66de9f_image  2330  2783  test\n",
       "1  51759b5579bc_image  3093  2850  test"
      ]
     },
     "execution_count": 10,
     "metadata": {},
     "output_type": "execute_result"
    }
   ],
   "source": [
    "image_id = []\n",
    "dim0 = []\n",
    "dim1 = []\n",
    "splits = []\n",
    "save_dir = f'/kaggle/tmp/{split}/image/'\n",
    "os.makedirs(save_dir, exist_ok=True)\n",
    "if fast_sub:\n",
    "    xray = read_xray('/kaggle/input/siim-covid19-detection/train/00086460a852/9e8302230c91/65761e66de9f.dcm')\n",
    "    im = resize(xray, size=512)  \n",
    "    im.save(os.path.join(save_dir,'65761e66de9f_image.png'))\n",
    "    image_id.append('65761e66de9f.dcm'.replace('.dcm', ''))\n",
    "    dim0.append(xray.shape[0])\n",
    "    dim1.append(xray.shape[1])\n",
    "    splits.append(split)\n",
    "    \n",
    "    xray = read_xray('/kaggle/input/siim-covid19-detection/train/000c9c05fd14/e555410bd2cd/51759b5579bc.dcm')\n",
    "    im = resize(xray, size=512)  \n",
    "    im.save(os.path.join(save_dir, '51759b5579bc_image.png'))\n",
    "    image_id.append('51759b5579bc.dcm'.replace('.dcm', ''))\n",
    "    dim0.append(xray.shape[0])\n",
    "    dim1.append(xray.shape[1])\n",
    "    splits.append(split)\n",
    "else:\n",
    "    for dirname, _, filenames in tqdm(os.walk(f'/kaggle/input/siim-covid19-detection/{split}')):\n",
    "        for file in filenames:\n",
    "            # set keep_ratio=True to have original aspect ratio\n",
    "            xray = read_xray(os.path.join(dirname, file))\n",
    "            im = resize(xray, size=512)  \n",
    "            im.save(os.path.join(save_dir, file.replace('.dcm', '_image.png')))\n",
    "            image_id.append(file.replace('.dcm', ''))\n",
    "            dim0.append(xray.shape[0])\n",
    "            dim1.append(xray.shape[1])\n",
    "            splits.append(split)\n",
    "            \n",
    "meta = pd.DataFrame.from_dict({'image_id': image_id, 'dim0': dim0, 'dim1': dim1, 'split': splits})\n",
    "meta = meta[meta['split'] == 'test']\n",
    "meta['image_id'] = meta['image_id'] + '_image'\n",
    "meta.columns = ['id', 'dim0', 'dim1', 'split']\n",
    "meta"
   ]
  },
  {
   "cell_type": "code",
   "execution_count": 11,
   "id": "textile-oasis",
   "metadata": {
    "execution": {
     "iopub.execute_input": "2021-08-08T15:20:03.621621Z",
     "iopub.status.busy": "2021-08-08T15:20:03.620817Z",
     "iopub.status.idle": "2021-08-08T15:20:03.798848Z",
     "shell.execute_reply": "2021-08-08T15:20:03.797640Z"
    },
    "papermill": {
     "duration": 0.246197,
     "end_time": "2021-08-08T15:20:03.799001",
     "exception": false,
     "start_time": "2021-08-08T15:20:03.552804",
     "status": "completed"
    },
    "tags": []
   },
   "outputs": [],
   "source": [
    "meta.to_csv(\"/kaggle/working/meta.csv\",index=False)"
   ]
  },
  {
   "cell_type": "code",
   "execution_count": 12,
   "id": "dying-barbados",
   "metadata": {
    "execution": {
     "iopub.execute_input": "2021-08-08T15:20:03.931629Z",
     "iopub.status.busy": "2021-08-08T15:20:03.930815Z",
     "iopub.status.idle": "2021-08-08T15:20:03.977525Z",
     "shell.execute_reply": "2021-08-08T15:20:03.977115Z"
    },
    "papermill": {
     "duration": 0.114605,
     "end_time": "2021-08-08T15:20:03.977634",
     "exception": false,
     "start_time": "2021-08-08T15:20:03.863029",
     "status": "completed"
    },
    "tags": []
   },
   "outputs": [
    {
     "data": {
      "text/plain": [
       "2"
      ]
     },
     "execution_count": 12,
     "metadata": {},
     "output_type": "execute_result"
    }
   ],
   "source": [
    "if fast_sub:\n",
    "    all_sub_df = fast_df.copy()\n",
    "else:\n",
    "    all_sub_df = pd.read_csv('/kaggle/input/siim-covid19-detection/sample_submission.csv')\n",
    "    \n",
    "all_sub_df['id_last_str'] = all_sub_df[\"id\"].str[-1]\n",
    "\n",
    "study_len = all_sub_df[all_sub_df['id_last_str'] == 'y'].shape[0]\n",
    "study_len"
   ]
  },
  {
   "cell_type": "code",
   "execution_count": 13,
   "id": "indie-dodge",
   "metadata": {
    "execution": {
     "iopub.execute_input": "2021-08-08T15:20:04.108884Z",
     "iopub.status.busy": "2021-08-08T15:20:04.108035Z",
     "iopub.status.idle": "2021-08-08T15:20:04.154373Z",
     "shell.execute_reply": "2021-08-08T15:20:04.154761Z"
    },
    "papermill": {
     "duration": 0.114155,
     "end_time": "2021-08-08T15:20:04.154886",
     "exception": false,
     "start_time": "2021-08-08T15:20:04.040731",
     "status": "completed"
    },
    "tags": []
   },
   "outputs": [
    {
     "data": {
      "text/html": [
       "<div>\n",
       "<style scoped>\n",
       "    .dataframe tbody tr th:only-of-type {\n",
       "        vertical-align: middle;\n",
       "    }\n",
       "\n",
       "    .dataframe tbody tr th {\n",
       "        vertical-align: top;\n",
       "    }\n",
       "\n",
       "    .dataframe thead th {\n",
       "        text-align: right;\n",
       "    }\n",
       "</style>\n",
       "<table border=\"1\" class=\"dataframe\">\n",
       "  <thead>\n",
       "    <tr style=\"text-align: right;\">\n",
       "      <th></th>\n",
       "      <th>id</th>\n",
       "      <th>PredictionString</th>\n",
       "      <th>id_last_str</th>\n",
       "    </tr>\n",
       "  </thead>\n",
       "  <tbody>\n",
       "    <tr>\n",
       "      <th>0</th>\n",
       "      <td>00086460a852_study</td>\n",
       "      <td>negative 1 0 0 1 1</td>\n",
       "      <td>y</td>\n",
       "    </tr>\n",
       "    <tr>\n",
       "      <th>1</th>\n",
       "      <td>000c9c05fd14_study</td>\n",
       "      <td>negative 1 0 0 1 1</td>\n",
       "      <td>y</td>\n",
       "    </tr>\n",
       "    <tr>\n",
       "      <th>2</th>\n",
       "      <td>65761e66de9f_image</td>\n",
       "      <td>none 1 0 0 1 1</td>\n",
       "      <td>e</td>\n",
       "    </tr>\n",
       "    <tr>\n",
       "      <th>3</th>\n",
       "      <td>51759b5579bc_image</td>\n",
       "      <td>none 1 0 0 1 1</td>\n",
       "      <td>e</td>\n",
       "    </tr>\n",
       "  </tbody>\n",
       "</table>\n",
       "</div>"
      ],
      "text/plain": [
       "                   id    PredictionString id_last_str\n",
       "0  00086460a852_study  negative 1 0 0 1 1           y\n",
       "1  000c9c05fd14_study  negative 1 0 0 1 1           y\n",
       "2  65761e66de9f_image      none 1 0 0 1 1           e\n",
       "3  51759b5579bc_image      none 1 0 0 1 1           e"
      ]
     },
     "execution_count": 13,
     "metadata": {},
     "output_type": "execute_result"
    }
   ],
   "source": [
    "all_sub_df"
   ]
  },
  {
   "cell_type": "markdown",
   "id": "polish-lightweight",
   "metadata": {
    "papermill": {
     "duration": 0.063072,
     "end_time": "2021-08-08T15:20:04.281516",
     "exception": false,
     "start_time": "2021-08-08T15:20:04.218444",
     "status": "completed"
    },
    "tags": []
   },
   "source": [
    "# 2 Class Predict"
   ]
  },
  {
   "cell_type": "code",
   "execution_count": 14,
   "id": "unlimited-russia",
   "metadata": {
    "execution": {
     "iopub.execute_input": "2021-08-08T15:20:04.413043Z",
     "iopub.status.busy": "2021-08-08T15:20:04.412284Z",
     "iopub.status.idle": "2021-08-08T15:20:04.460830Z",
     "shell.execute_reply": "2021-08-08T15:20:04.460436Z"
    },
    "papermill": {
     "duration": 0.116051,
     "end_time": "2021-08-08T15:20:04.460946",
     "exception": false,
     "start_time": "2021-08-08T15:20:04.344895",
     "status": "completed"
    },
    "tags": []
   },
   "outputs": [
    {
     "data": {
      "text/html": [
       "<div>\n",
       "<style scoped>\n",
       "    .dataframe tbody tr th:only-of-type {\n",
       "        vertical-align: middle;\n",
       "    }\n",
       "\n",
       "    .dataframe tbody tr th {\n",
       "        vertical-align: top;\n",
       "    }\n",
       "\n",
       "    .dataframe thead th {\n",
       "        text-align: right;\n",
       "    }\n",
       "</style>\n",
       "<table border=\"1\" class=\"dataframe\">\n",
       "  <thead>\n",
       "    <tr style=\"text-align: right;\">\n",
       "      <th></th>\n",
       "      <th>id</th>\n",
       "      <th>PredictionString</th>\n",
       "      <th>file_path</th>\n",
       "      <th>pred_2class</th>\n",
       "    </tr>\n",
       "  </thead>\n",
       "  <tbody>\n",
       "    <tr>\n",
       "      <th>2</th>\n",
       "      <td>65761e66de9f_image</td>\n",
       "      <td>none 1 0 0 1 1</td>\n",
       "      <td>/kaggle/tmp/test/image/65761e66de9f_image.png</td>\n",
       "      <td>0</td>\n",
       "    </tr>\n",
       "    <tr>\n",
       "      <th>3</th>\n",
       "      <td>51759b5579bc_image</td>\n",
       "      <td>none 1 0 0 1 1</td>\n",
       "      <td>/kaggle/tmp/test/image/51759b5579bc_image.png</td>\n",
       "      <td>0</td>\n",
       "    </tr>\n",
       "  </tbody>\n",
       "</table>\n",
       "</div>"
      ],
      "text/plain": [
       "                   id PredictionString  \\\n",
       "2  65761e66de9f_image   none 1 0 0 1 1   \n",
       "3  51759b5579bc_image   none 1 0 0 1 1   \n",
       "\n",
       "                                       file_path  pred_2class  \n",
       "2  /kaggle/tmp/test/image/65761e66de9f_image.png            0  \n",
       "3  /kaggle/tmp/test/image/51759b5579bc_image.png            0  "
      ]
     },
     "execution_count": 14,
     "metadata": {},
     "output_type": "execute_result"
    }
   ],
   "source": [
    "if fast_sub:\n",
    "    class2_sub_df = fast_df.copy()\n",
    "else:\n",
    "    class2_sub_df = pd.read_csv('/kaggle/input/siim-covid19-detection/sample_submission.csv')\n",
    "    \n",
    "    \n",
    "class2_sub_df = class2_sub_df[study_len:]\n",
    "\n",
    "class2_sub_df[\"file_path\"] = save_dir + class2_sub_df[\"id\"] + \".png\"\n",
    "label_cols = 'pred_2class'\n",
    "class2_sub_df[label_cols] = 0\n",
    "class2_sub_df"
   ]
  },
  {
   "cell_type": "code",
   "execution_count": 15,
   "id": "lasting-concern",
   "metadata": {
    "execution": {
     "iopub.execute_input": "2021-08-08T15:20:04.601771Z",
     "iopub.status.busy": "2021-08-08T15:20:04.601033Z",
     "iopub.status.idle": "2021-08-08T15:20:04.644872Z",
     "shell.execute_reply": "2021-08-08T15:20:04.644471Z"
    },
    "papermill": {
     "duration": 0.1168,
     "end_time": "2021-08-08T15:20:04.645006",
     "exception": false,
     "start_time": "2021-08-08T15:20:04.528206",
     "status": "completed"
    },
    "tags": []
   },
   "outputs": [],
   "source": [
    "# 对 train set 和 valid set 做数据增强\n",
    "from albumentations import (\n",
    "    HorizontalFlip, VerticalFlip, IAAPerspective, CLAHE, RandomRotate90,\n",
    "    Transpose, Blur, OpticalDistortion, GridDistortion, HueSaturationValue,\n",
    "    IAAAdditiveGaussianNoise, GaussNoise, MotionBlur, MedianBlur, IAAPiecewiseAffine, RandomResizedCrop,\n",
    "    IAASharpen, IAAEmboss, RandomBrightnessContrast, Flip, OneOf, Compose, Normalize, Cutout, CoarseDropout, ShiftScaleRotate, \n",
    "    CenterCrop, Resize, RandomCrop, GaussianBlur, JpegCompression, Downscale, ElasticTransform, ImageCompression\n",
    ")\n",
    "import albumentations\n",
    "from albumentations.pytorch import ToTensorV2\n",
    "\n",
    "transforms_test = Compose([\n",
    "    Resize(CFG.image_size, CFG.image_size),\n",
    "    Normalize()\n",
    "])"
   ]
  },
  {
   "cell_type": "code",
   "execution_count": 16,
   "id": "requested-thesis",
   "metadata": {
    "execution": {
     "iopub.execute_input": "2021-08-08T15:20:04.781095Z",
     "iopub.status.busy": "2021-08-08T15:20:04.780287Z",
     "iopub.status.idle": "2021-08-08T15:20:04.824205Z",
     "shell.execute_reply": "2021-08-08T15:20:04.824586Z"
    },
    "papermill": {
     "duration": 0.115965,
     "end_time": "2021-08-08T15:20:04.824729",
     "exception": false,
     "start_time": "2021-08-08T15:20:04.708764",
     "status": "completed"
    },
    "tags": []
   },
   "outputs": [],
   "source": [
    "# 定义数据集结构\n",
    "class SIIMDataset(Dataset):\n",
    "    def __init__(self, df, mode, transform=None):\n",
    "        self.df = df.reset_index(drop=True)\n",
    "        self.mode = mode # 数据集模式（train模式或test模式）\n",
    "        self.transform = transform # 数据增强\n",
    "        \n",
    "    def __len__(self):\n",
    "        return len(self.df) # 获取dataframe行数\n",
    "    \n",
    "    def __getitem__(self, index):\n",
    "        row = self.df.loc[index] # 获取指定（index）行\n",
    "        \n",
    "        img = cv2.imread(row.file_path) # 用cv2读入图片数据\n",
    "        img = cv2.cvtColor(img, cv2.COLOR_BGR2RGB) # cv2默认读入是BGR格式，现在转换成RGB格式\n",
    "        \n",
    "        # 如果有数据增强，则做数据增强\n",
    "        if self.transform is not None: \n",
    "            img = self.transform(image=img)['image']\n",
    "        \n",
    "        # 调整一下数据格式\n",
    "        img = img.transpose(2,0,1)\n",
    "        img = img.astype(np.float32)\n",
    "        # img = img/255 \n",
    "        \n",
    "        return torch.tensor(img).float() # 如果test模式，则只返回图片"
   ]
  },
  {
   "cell_type": "code",
   "execution_count": 17,
   "id": "unique-translator",
   "metadata": {
    "execution": {
     "iopub.execute_input": "2021-08-08T15:20:04.964322Z",
     "iopub.status.busy": "2021-08-08T15:20:04.963556Z",
     "iopub.status.idle": "2021-08-08T15:20:05.006432Z",
     "shell.execute_reply": "2021-08-08T15:20:05.006791Z"
    },
    "papermill": {
     "duration": 0.117559,
     "end_time": "2021-08-08T15:20:05.006942",
     "exception": false,
     "start_time": "2021-08-08T15:20:04.889383",
     "status": "completed"
    },
    "tags": []
   },
   "outputs": [],
   "source": [
    "class EfficientNetModel(nn.Module):\n",
    "    def __init__(self, num_classes=1, model_arch=CFG.model_arch, pretrained=True):\n",
    "        super(EfficientNetModel, self).__init__()\n",
    "        e = timm.create_model(model_arch, pretrained=pretrained, drop_rate=0, drop_path_rate=0)\n",
    "        \n",
    "        self.logit = nn.Linear(e.classifier.in_features, num_classes)\n",
    "        self.e1 = nn.Sequential(e.conv_stem, e.bn1, e.act1,)\n",
    "        \n",
    "        self.b0 = e.blocks[0]\n",
    "        self.b1 = e.blocks[1]\n",
    "        self.b2 = e.blocks[2]\n",
    "        self.b3 = e.blocks[3]\n",
    "        self.b4 = e.blocks[4] # channel = 224\n",
    "        self.b5 = e.blocks[5]\n",
    "        self.b6 = e.blocks[6]\n",
    "        \n",
    "        self.mask = nn.Sequential(\n",
    "            nn.Conv2d(224, 128, kernel_size=3, padding=1),\n",
    "            nn.BatchNorm2d(128),\n",
    "            nn.ReLU(inplace=True),\n",
    "            nn.Conv2d(128, 128, kernel_size=3, padding=1),\n",
    "            nn.BatchNorm2d(128),\n",
    "            nn.ReLU(inplace=True),\n",
    "            nn.Conv2d(128, 1, kernel_size=1, padding=0),\n",
    "        )\n",
    "        self.e2 = nn.Sequential(e.conv_head, e.bn2, e.act2,)\n",
    "\n",
    "    def forward(self, x):\n",
    "        batch_size = len(x)\n",
    "        x = self.e1(x)\n",
    "        x = self.b0(x)\n",
    "        x = self.b1(x)\n",
    "        x = self.b2(x)\n",
    "        x = self.b3(x)\n",
    "        x = self.b4(x)\n",
    "        # ==========================\n",
    "        mask = self.mask(x)\n",
    "        # ==========================\n",
    "        x = self.b5(x)\n",
    "        x = self.b6(x)\n",
    "        x = self.e2(x)\n",
    "        x = F.adaptive_avg_pool2d(x,1).reshape(batch_size,-1)\n",
    "        logit = self.logit(x)\n",
    "\n",
    "        return logit, mask"
   ]
  },
  {
   "cell_type": "code",
   "execution_count": 18,
   "id": "human-dubai",
   "metadata": {
    "execution": {
     "iopub.execute_input": "2021-08-08T15:20:05.141969Z",
     "iopub.status.busy": "2021-08-08T15:20:05.141204Z",
     "iopub.status.idle": "2021-08-08T15:20:49.556921Z",
     "shell.execute_reply": "2021-08-08T15:20:49.556467Z"
    },
    "papermill": {
     "duration": 44.485633,
     "end_time": "2021-08-08T15:20:49.557071",
     "exception": false,
     "start_time": "2021-08-08T15:20:05.071438",
     "status": "completed"
    },
    "tags": []
   },
   "outputs": [
    {
     "name": "stdout",
     "output_type": "stream",
     "text": [
      "/kaggle/input/2class-pth/stage1_4632_fold0_tf_efficientnetv2_l_21k_512_best_9_9685.pth\n",
      "/kaggle/input/2class-pth/stage1_5812_fold1_tf_efficientnetv2_l_21k_512_best_5_9688.pth\n",
      "/kaggle/input/2class-pth/stage1_5812_fold2_tf_efficientnetv2_l_21k_512_best_7_9729.pth\n",
      "/kaggle/input/2class-pth/stage1_5812_fold3_tf_efficientnetv2_l_21k_512_best_8_9691.pth\n",
      "/kaggle/input/2class-pth/stage1_5812_fold4_tf_efficientnetv2_l_21k_512_best_9_9682.pth\n",
      "multi_gpu:  True\n",
      "5\n"
     ]
    }
   ],
   "source": [
    "models_list = []\n",
    "def load_study_model():\n",
    "    for one_model_pth in CFG.class2_path:\n",
    "        if('v2_m' in one_model_pth):\n",
    "            model = EfficientNetB7(pretrained=False)\n",
    "        else:\n",
    "            model = EfficientNetModel(pretrained=False)\n",
    "        print(one_model_pth)\n",
    "        state = torch.load(one_model_pth, map_location='cuda:0') \n",
    "        if 1:\n",
    "            new_state_dict = OrderedDict()\n",
    "            for k, v in state.items():\n",
    "                k=k[7:]\n",
    "                new_state_dict[k]=v\n",
    "            model.load_state_dict(new_state_dict)\n",
    "        else:\n",
    "            model.load_state_dict(state)\n",
    "        model.to(device);\n",
    "        model.eval()\n",
    "        models_list.append(model)\n",
    "\n",
    "    print(\"multi_gpu: \", CFG.multi_gpu)\n",
    "    print(len(models_list))\n",
    "    \n",
    "load_study_model()"
   ]
  },
  {
   "cell_type": "code",
   "execution_count": 19,
   "id": "boring-weather",
   "metadata": {
    "execution": {
     "iopub.execute_input": "2021-08-08T15:20:49.711375Z",
     "iopub.status.busy": "2021-08-08T15:20:49.710607Z",
     "iopub.status.idle": "2021-08-08T15:20:49.799821Z",
     "shell.execute_reply": "2021-08-08T15:20:49.799357Z"
    },
    "papermill": {
     "duration": 0.169833,
     "end_time": "2021-08-08T15:20:49.799979",
     "exception": false,
     "start_time": "2021-08-08T15:20:49.630146",
     "status": "completed"
    },
    "tags": []
   },
   "outputs": [],
   "source": [
    "def test_func(models_list,test_loader):\n",
    "    model.eval() # 模型调整到评估模式\n",
    "    all_logits = []\n",
    "    with torch.no_grad():\n",
    "        for images in tqdm(test_loader): \n",
    "            avg_model_preds = []\n",
    "            for model in models_list:\n",
    "                images = images.to(device).float() \n",
    "                logits, mask = model(images)  \n",
    "                avg_model_preds.append(logits)\n",
    "            avg_model_preds = np.mean(avg_model_preds, axis=0)\n",
    "        all_logits += [avg_model_preds.detach().cpu()] \n",
    "        all_logits = torch.cat(all_logits).cpu().numpy() \n",
    "        return all_logits\n",
    "\n",
    "def test_func_tta(models_list, test_loader):\n",
    "     # 模型调整到评估模式\n",
    "    all_logits = []\n",
    "    with torch.no_grad():\n",
    "        for images in tqdm(test_loader): \n",
    "            images = images.to(device).float() \n",
    "            avg_model_preds = []\n",
    "            for model in models_list:\n",
    "                model.eval()\n",
    "                logits1, mask1 = model(images)  \n",
    "                logits2, mask2 = model(images.flip(-1))\n",
    "                logits = (logits1.sigmoid().to('cpu').numpy() + logits2.sigmoid().to('cpu').numpy()) / 2\n",
    "                avg_model_preds.append(logits)\n",
    "            avg_model_preds = np.mean(avg_model_preds, axis=0)\n",
    "            all_logits.append(avg_model_preds)\n",
    "        all_logits = np.concatenate(all_logits)\n",
    "        return all_logits"
   ]
  },
  {
   "cell_type": "code",
   "execution_count": 20,
   "id": "vulnerable-ensemble",
   "metadata": {
    "execution": {
     "iopub.execute_input": "2021-08-08T15:20:49.944384Z",
     "iopub.status.busy": "2021-08-08T15:20:49.943632Z",
     "iopub.status.idle": "2021-08-08T15:20:53.238564Z",
     "shell.execute_reply": "2021-08-08T15:20:53.239056Z"
    },
    "papermill": {
     "duration": 3.371474,
     "end_time": "2021-08-08T15:20:53.239239",
     "exception": false,
     "start_time": "2021-08-08T15:20:49.867765",
     "status": "completed"
    },
    "tags": []
   },
   "outputs": [
    {
     "data": {
      "application/vnd.jupyter.widget-view+json": {
       "model_id": "0da7cfbe73394f7aa813c15ae9ea0464",
       "version_major": 2,
       "version_minor": 0
      },
      "text/plain": [
       "  0%|          | 0/1 [00:00<?, ?it/s]"
      ]
     },
     "metadata": {},
     "output_type": "display_data"
    }
   ],
   "source": [
    "dataset_test = SIIMDataset(class2_sub_df, 'test', transform = transforms_test)\n",
    "test_loader = torch.utils.data.DataLoader(dataset_test, batch_size=CFG.valid_bs, shuffle=False, num_workers = CFG.n_worker, drop_last=False)\n",
    "\n",
    "if CFG.tta:\n",
    "    class2_sub_df[label_cols] = test_func_tta(models_list,test_loader)\n",
    "else:\n",
    "    class2_sub_df[label_cols] = test_func(models_list,test_loader)"
   ]
  },
  {
   "cell_type": "code",
   "execution_count": 21,
   "id": "lovely-people",
   "metadata": {
    "execution": {
     "iopub.execute_input": "2021-08-08T15:20:53.385472Z",
     "iopub.status.busy": "2021-08-08T15:20:53.384721Z",
     "iopub.status.idle": "2021-08-08T15:20:53.488498Z",
     "shell.execute_reply": "2021-08-08T15:20:53.489178Z"
    },
    "papermill": {
     "duration": 0.180382,
     "end_time": "2021-08-08T15:20:53.489377",
     "exception": false,
     "start_time": "2021-08-08T15:20:53.308995",
     "status": "completed"
    },
    "tags": []
   },
   "outputs": [
    {
     "data": {
      "text/html": [
       "<div>\n",
       "<style scoped>\n",
       "    .dataframe tbody tr th:only-of-type {\n",
       "        vertical-align: middle;\n",
       "    }\n",
       "\n",
       "    .dataframe tbody tr th {\n",
       "        vertical-align: top;\n",
       "    }\n",
       "\n",
       "    .dataframe thead th {\n",
       "        text-align: right;\n",
       "    }\n",
       "</style>\n",
       "<table border=\"1\" class=\"dataframe\">\n",
       "  <thead>\n",
       "    <tr style=\"text-align: right;\">\n",
       "      <th></th>\n",
       "      <th>id</th>\n",
       "      <th>PredictionString</th>\n",
       "      <th>file_path</th>\n",
       "      <th>pred_2class</th>\n",
       "    </tr>\n",
       "  </thead>\n",
       "  <tbody>\n",
       "    <tr>\n",
       "      <th>2</th>\n",
       "      <td>65761e66de9f_image</td>\n",
       "      <td>none 1 0 0 1 1</td>\n",
       "      <td>/kaggle/tmp/test/image/65761e66de9f_image.png</td>\n",
       "      <td>0.890850</td>\n",
       "    </tr>\n",
       "    <tr>\n",
       "      <th>3</th>\n",
       "      <td>51759b5579bc_image</td>\n",
       "      <td>none 1 0 0 1 1</td>\n",
       "      <td>/kaggle/tmp/test/image/51759b5579bc_image.png</td>\n",
       "      <td>0.645077</td>\n",
       "    </tr>\n",
       "  </tbody>\n",
       "</table>\n",
       "</div>"
      ],
      "text/plain": [
       "                   id PredictionString  \\\n",
       "2  65761e66de9f_image   none 1 0 0 1 1   \n",
       "3  51759b5579bc_image   none 1 0 0 1 1   \n",
       "\n",
       "                                       file_path  pred_2class  \n",
       "2  /kaggle/tmp/test/image/65761e66de9f_image.png     0.890850  \n",
       "3  /kaggle/tmp/test/image/51759b5579bc_image.png     0.645077  "
      ]
     },
     "execution_count": 21,
     "metadata": {},
     "output_type": "execute_result"
    }
   ],
   "source": [
    "class2_sub_df"
   ]
  },
  {
   "cell_type": "code",
   "execution_count": 22,
   "id": "going-electricity",
   "metadata": {
    "execution": {
     "iopub.execute_input": "2021-08-08T15:20:53.769983Z",
     "iopub.status.busy": "2021-08-08T15:20:53.766804Z",
     "iopub.status.idle": "2021-08-08T15:20:53.859681Z",
     "shell.execute_reply": "2021-08-08T15:20:53.860661Z"
    },
    "papermill": {
     "duration": 0.241234,
     "end_time": "2021-08-08T15:20:53.860854",
     "exception": false,
     "start_time": "2021-08-08T15:20:53.619620",
     "status": "completed"
    },
    "tags": []
   },
   "outputs": [
    {
     "data": {
      "text/html": [
       "<div>\n",
       "<style scoped>\n",
       "    .dataframe tbody tr th:only-of-type {\n",
       "        vertical-align: middle;\n",
       "    }\n",
       "\n",
       "    .dataframe tbody tr th {\n",
       "        vertical-align: top;\n",
       "    }\n",
       "\n",
       "    .dataframe thead th {\n",
       "        text-align: right;\n",
       "    }\n",
       "</style>\n",
       "<table border=\"1\" class=\"dataframe\">\n",
       "  <thead>\n",
       "    <tr style=\"text-align: right;\">\n",
       "      <th></th>\n",
       "      <th>id</th>\n",
       "      <th>PredictionString</th>\n",
       "      <th>file_path</th>\n",
       "      <th>pred_2class</th>\n",
       "      <th>dim0</th>\n",
       "      <th>dim1</th>\n",
       "      <th>split</th>\n",
       "      <th>none</th>\n",
       "      <th>image_path</th>\n",
       "    </tr>\n",
       "  </thead>\n",
       "  <tbody>\n",
       "    <tr>\n",
       "      <th>0</th>\n",
       "      <td>65761e66de9f_image</td>\n",
       "      <td>none 1 0 0 1 1</td>\n",
       "      <td>/kaggle/tmp/test/image/65761e66de9f_image.png</td>\n",
       "      <td>0.890850</td>\n",
       "      <td>2330</td>\n",
       "      <td>2783</td>\n",
       "      <td>test</td>\n",
       "      <td>0.109150</td>\n",
       "      <td>/kaggle/tmp/test/image/65761e66de9f_image.png</td>\n",
       "    </tr>\n",
       "    <tr>\n",
       "      <th>1</th>\n",
       "      <td>51759b5579bc_image</td>\n",
       "      <td>none 1 0 0 1 1</td>\n",
       "      <td>/kaggle/tmp/test/image/51759b5579bc_image.png</td>\n",
       "      <td>0.645077</td>\n",
       "      <td>3093</td>\n",
       "      <td>2850</td>\n",
       "      <td>test</td>\n",
       "      <td>0.354923</td>\n",
       "      <td>/kaggle/tmp/test/image/51759b5579bc_image.png</td>\n",
       "    </tr>\n",
       "  </tbody>\n",
       "</table>\n",
       "</div>"
      ],
      "text/plain": [
       "                   id PredictionString  \\\n",
       "0  65761e66de9f_image   none 1 0 0 1 1   \n",
       "1  51759b5579bc_image   none 1 0 0 1 1   \n",
       "\n",
       "                                       file_path  pred_2class  dim0  dim1  \\\n",
       "0  /kaggle/tmp/test/image/65761e66de9f_image.png     0.890850  2330  2783   \n",
       "1  /kaggle/tmp/test/image/51759b5579bc_image.png     0.645077  3093  2850   \n",
       "\n",
       "  split      none                                     image_path  \n",
       "0  test  0.109150  /kaggle/tmp/test/image/65761e66de9f_image.png  \n",
       "1  test  0.354923  /kaggle/tmp/test/image/51759b5579bc_image.png  "
      ]
     },
     "execution_count": 22,
     "metadata": {},
     "output_type": "execute_result"
    }
   ],
   "source": [
    "df_2class = class2_sub_df.merge(meta,how=\"left\",on='id')\n",
    "df_2class[\"none\"] = 1-df_2class[label_cols]\n",
    "df_2class[\"image_path\"] = df_2class[\"file_path\"]\n",
    "df_2class"
   ]
  },
  {
   "cell_type": "code",
   "execution_count": 23,
   "id": "final-little",
   "metadata": {
    "execution": {
     "iopub.execute_input": "2021-08-08T15:20:54.084121Z",
     "iopub.status.busy": "2021-08-08T15:20:54.083284Z",
     "iopub.status.idle": "2021-08-08T15:20:54.431702Z",
     "shell.execute_reply": "2021-08-08T15:20:54.431209Z"
    },
    "papermill": {
     "duration": 0.4377,
     "end_time": "2021-08-08T15:20:54.431851",
     "exception": false,
     "start_time": "2021-08-08T15:20:53.994151",
     "status": "completed"
    },
    "tags": []
   },
   "outputs": [
    {
     "data": {
      "text/plain": [
       "60"
      ]
     },
     "execution_count": 23,
     "metadata": {},
     "output_type": "execute_result"
    }
   ],
   "source": [
    "del models_list\n",
    "torch.cuda.empty_cache()\n",
    "gc.collect()"
   ]
  },
  {
   "cell_type": "markdown",
   "id": "incorrect-cambodia",
   "metadata": {
    "papermill": {
     "duration": 0.073739,
     "end_time": "2021-08-08T15:20:54.575185",
     "exception": false,
     "start_time": "2021-08-08T15:20:54.501446",
     "status": "completed"
    },
    "tags": []
   },
   "source": [
    "# Yolov5 predict"
   ]
  },
  {
   "cell_type": "code",
   "execution_count": 24,
   "id": "decimal-moscow",
   "metadata": {
    "execution": {
     "iopub.execute_input": "2021-08-08T15:20:54.728675Z",
     "iopub.status.busy": "2021-08-08T15:20:54.727744Z",
     "iopub.status.idle": "2021-08-08T15:20:54.787242Z",
     "shell.execute_reply": "2021-08-08T15:20:54.787665Z"
    },
    "papermill": {
     "duration": 0.13736,
     "end_time": "2021-08-08T15:20:54.787841",
     "exception": false,
     "start_time": "2021-08-08T15:20:54.650481",
     "status": "completed"
    },
    "tags": []
   },
   "outputs": [
    {
     "data": {
      "text/html": [
       "<div>\n",
       "<style scoped>\n",
       "    .dataframe tbody tr th:only-of-type {\n",
       "        vertical-align: middle;\n",
       "    }\n",
       "\n",
       "    .dataframe tbody tr th {\n",
       "        vertical-align: top;\n",
       "    }\n",
       "\n",
       "    .dataframe thead th {\n",
       "        text-align: right;\n",
       "    }\n",
       "</style>\n",
       "<table border=\"1\" class=\"dataframe\">\n",
       "  <thead>\n",
       "    <tr style=\"text-align: right;\">\n",
       "      <th></th>\n",
       "      <th>id</th>\n",
       "      <th>id_last_str</th>\n",
       "      <th>dim0</th>\n",
       "      <th>dim1</th>\n",
       "      <th>split</th>\n",
       "    </tr>\n",
       "  </thead>\n",
       "  <tbody>\n",
       "    <tr>\n",
       "      <th>0</th>\n",
       "      <td>65761e66de9f_image</td>\n",
       "      <td>e</td>\n",
       "      <td>2330</td>\n",
       "      <td>2783</td>\n",
       "      <td>test</td>\n",
       "    </tr>\n",
       "    <tr>\n",
       "      <th>1</th>\n",
       "      <td>51759b5579bc_image</td>\n",
       "      <td>e</td>\n",
       "      <td>3093</td>\n",
       "      <td>2850</td>\n",
       "      <td>test</td>\n",
       "    </tr>\n",
       "  </tbody>\n",
       "</table>\n",
       "</div>"
      ],
      "text/plain": [
       "                   id id_last_str  dim0  dim1 split\n",
       "0  65761e66de9f_image           e  2330  2783  test\n",
       "1  51759b5579bc_image           e  3093  2850  test"
      ]
     },
     "execution_count": 24,
     "metadata": {},
     "output_type": "execute_result"
    }
   ],
   "source": [
    "yolov5_df = all_sub_df[study_len:].reset_index(drop=True) \n",
    "yolov5_df = pd.merge(yolov5_df, meta, on='id', how='left')\n",
    "yolov5_df = yolov5_df.drop(['PredictionString'], axis=1)\n",
    "yolov5_df"
   ]
  },
  {
   "cell_type": "code",
   "execution_count": 25,
   "id": "unable-affiliate",
   "metadata": {
    "execution": {
     "iopub.execute_input": "2021-08-08T15:20:54.953839Z",
     "iopub.status.busy": "2021-08-08T15:20:54.953257Z",
     "iopub.status.idle": "2021-08-08T15:20:55.547898Z",
     "shell.execute_reply": "2021-08-08T15:20:55.547076Z"
    },
    "papermill": {
     "duration": 0.679683,
     "end_time": "2021-08-08T15:20:55.548042",
     "exception": false,
     "start_time": "2021-08-08T15:20:54.868359",
     "status": "completed"
    },
    "tags": []
   },
   "outputs": [],
   "source": [
    "dim = 512\n",
    "test_dir = f'/kaggle/tmp/{split}/image'\n",
    "shutil.copytree('/kaggle/input/d/kongbai97/yolov5-repo/yolov5-master', '/kaggle/working/yolov5')\n",
    "os.chdir('/kaggle/working/yolov5')\n",
    "import torch"
   ]
  },
  {
   "cell_type": "code",
   "execution_count": 26,
   "id": "rural-image",
   "metadata": {
    "execution": {
     "iopub.execute_input": "2021-08-08T15:20:55.715861Z",
     "iopub.status.busy": "2021-08-08T15:20:55.714987Z",
     "iopub.status.idle": "2021-08-08T15:21:05.050019Z",
     "shell.execute_reply": "2021-08-08T15:21:05.049098Z"
    },
    "papermill": {
     "duration": 9.427097,
     "end_time": "2021-08-08T15:21:05.050164",
     "exception": false,
     "start_time": "2021-08-08T15:20:55.623067",
     "status": "completed"
    },
    "tags": []
   },
   "outputs": [
    {
     "name": "stdout",
     "output_type": "stream",
     "text": [
      "\u001B[34m\u001B[1mdetect: \u001B[0mweights=['/kaggle/input/siim-cov19-yolov5l-train/yolov5/runs/train/exp/weights/best.pt'], source=/kaggle/tmp/test/image, imgsz=672, conf_thres=0.001, iou_thres=0.5, max_det=1000, device=, view_img=False, save_txt=True, save_conf=True, save_crop=False, nosave=False, classes=None, agnostic_nms=False, augment=True, visualize=False, update=False, project=runs/detect, name=exp2, exist_ok=True, line_thickness=3, hide_labels=False, hide_conf=False, half=False\r\n",
      "Results saved to runs/detect/exp2\r\n",
      "2 labels saved to runs/detect/exp2/labels\r\n",
      "Done. (0.366s)\r\n"
     ]
    }
   ],
   "source": [
    "weights_dir = '/kaggle/input/siim-cov19-yolov5l-train/yolov5/runs/train/exp/weights/best.pt'\n",
    "!python detect.py --weights $weights_dir\\\n",
    "--img 672\\\n",
    "--augment\\\n",
    "--conf 0.001\\\n",
    "--iou 0.5\\\n",
    "--source $test_dir\\\n",
    "--name exp2\\\n",
    "--save-txt --save-conf --exist-ok"
   ]
  },
  {
   "cell_type": "code",
   "execution_count": 27,
   "id": "continuous-yahoo",
   "metadata": {
    "execution": {
     "iopub.execute_input": "2021-08-08T15:21:05.195313Z",
     "iopub.status.busy": "2021-08-08T15:21:05.194501Z",
     "iopub.status.idle": "2021-08-08T15:21:15.087794Z",
     "shell.execute_reply": "2021-08-08T15:21:15.088258Z"
    },
    "papermill": {
     "duration": 9.967839,
     "end_time": "2021-08-08T15:21:15.088429",
     "exception": false,
     "start_time": "2021-08-08T15:21:05.120590",
     "status": "completed"
    },
    "tags": []
   },
   "outputs": [
    {
     "name": "stdout",
     "output_type": "stream",
     "text": [
      "\u001B[34m\u001B[1mdetect: \u001B[0mweights=['/kaggle/input/new-yolov5-weights/5fold/fold0.pt'], source=/kaggle/tmp/test/image, imgsz=672, conf_thres=0.001, iou_thres=0.5, max_det=1000, device=, view_img=False, save_txt=True, save_conf=True, save_crop=False, nosave=False, classes=None, agnostic_nms=False, augment=True, visualize=False, update=False, project=runs/detect, name=expf0, exist_ok=True, line_thickness=3, hide_labels=False, hide_conf=False, half=False\r\n",
      "Results saved to runs/detect/expf0\r\n",
      "2 labels saved to runs/detect/expf0/labels\r\n",
      "Done. (0.420s)\r\n"
     ]
    }
   ],
   "source": [
    "weights_dir = '/kaggle/input/new-yolov5-weights/5fold/fold0.pt'\n",
    "!python detect.py --weights $weights_dir\\\n",
    "--img 672\\\n",
    "--augment\\\n",
    "--conf 0.001\\\n",
    "--iou 0.5\\\n",
    "--source $test_dir\\\n",
    "--name expf0\\\n",
    "--save-txt --save-conf --exist-ok"
   ]
  },
  {
   "cell_type": "code",
   "execution_count": 28,
   "id": "wicked-regular",
   "metadata": {
    "execution": {
     "iopub.execute_input": "2021-08-08T15:21:15.233574Z",
     "iopub.status.busy": "2021-08-08T15:21:15.232809Z",
     "iopub.status.idle": "2021-08-08T15:21:25.029280Z",
     "shell.execute_reply": "2021-08-08T15:21:25.028764Z"
    },
    "papermill": {
     "duration": 9.87098,
     "end_time": "2021-08-08T15:21:25.029410",
     "exception": false,
     "start_time": "2021-08-08T15:21:15.158430",
     "status": "completed"
    },
    "tags": []
   },
   "outputs": [
    {
     "name": "stdout",
     "output_type": "stream",
     "text": [
      "\u001B[34m\u001B[1mdetect: \u001B[0mweights=['/kaggle/input/new-yolov5-weights/5fold/fold1.pt'], source=/kaggle/tmp/test/image, imgsz=672, conf_thres=0.001, iou_thres=0.5, max_det=1000, device=, view_img=False, save_txt=True, save_conf=True, save_crop=False, nosave=False, classes=None, agnostic_nms=False, augment=True, visualize=False, update=False, project=runs/detect, name=expf1, exist_ok=True, line_thickness=3, hide_labels=False, hide_conf=False, half=False\r\n",
      "Results saved to runs/detect/expf1\r\n",
      "2 labels saved to runs/detect/expf1/labels\r\n",
      "Done. (0.406s)\r\n"
     ]
    }
   ],
   "source": [
    "weights_dir = '/kaggle/input/new-yolov5-weights/5fold/fold1.pt'\n",
    "import torch\n",
    "!python detect.py --weights $weights_dir\\\n",
    "--img 672\\\n",
    "--augment\\\n",
    "--conf 0.001\\\n",
    "--iou 0.5\\\n",
    "--source $test_dir\\\n",
    "--name expf1\\\n",
    "--save-txt --save-conf --exist-ok"
   ]
  },
  {
   "cell_type": "code",
   "execution_count": 29,
   "id": "successful-magic",
   "metadata": {
    "execution": {
     "iopub.execute_input": "2021-08-08T15:21:25.178406Z",
     "iopub.status.busy": "2021-08-08T15:21:25.177587Z",
     "iopub.status.idle": "2021-08-08T15:21:34.172436Z",
     "shell.execute_reply": "2021-08-08T15:21:34.171553Z"
    },
    "papermill": {
     "duration": 9.071459,
     "end_time": "2021-08-08T15:21:34.172580",
     "exception": false,
     "start_time": "2021-08-08T15:21:25.101121",
     "status": "completed"
    },
    "tags": []
   },
   "outputs": [
    {
     "name": "stdout",
     "output_type": "stream",
     "text": [
      "\u001B[34m\u001B[1mdetect: \u001B[0mweights=['/kaggle/input/new-yolov5-weights/5fold/fold2.pt'], source=/kaggle/tmp/test/image, imgsz=672, conf_thres=0.001, iou_thres=0.5, max_det=1000, device=, view_img=False, save_txt=True, save_conf=True, save_crop=False, nosave=False, classes=None, agnostic_nms=False, augment=True, visualize=False, update=False, project=runs/detect, name=expf2, exist_ok=True, line_thickness=3, hide_labels=False, hide_conf=False, half=False\r\n",
      "Results saved to runs/detect/expf2\r\n",
      "2 labels saved to runs/detect/expf2/labels\r\n",
      "Done. (0.440s)\r\n"
     ]
    }
   ],
   "source": [
    "weights_dir = '/kaggle/input/new-yolov5-weights/5fold/fold2.pt'\n",
    "import torch\n",
    "!python detect.py --weights $weights_dir\\\n",
    "--img 672\\\n",
    "--augment\\\n",
    "--conf 0.001\\\n",
    "--iou 0.5\\\n",
    "--source $test_dir\\\n",
    "--name expf2\\\n",
    "--save-txt --save-conf --exist-ok"
   ]
  },
  {
   "cell_type": "code",
   "execution_count": 30,
   "id": "graphic-purchase",
   "metadata": {
    "execution": {
     "iopub.execute_input": "2021-08-08T15:21:34.324185Z",
     "iopub.status.busy": "2021-08-08T15:21:34.318986Z",
     "iopub.status.idle": "2021-08-08T15:21:44.398515Z",
     "shell.execute_reply": "2021-08-08T15:21:44.397981Z"
    },
    "papermill": {
     "duration": 10.155049,
     "end_time": "2021-08-08T15:21:44.398661",
     "exception": false,
     "start_time": "2021-08-08T15:21:34.243612",
     "status": "completed"
    },
    "tags": []
   },
   "outputs": [
    {
     "name": "stdout",
     "output_type": "stream",
     "text": [
      "\u001B[34m\u001B[1mdetect: \u001B[0mweights=['/kaggle/input/new-yolov5-weights/5fold/fold3.pt'], source=/kaggle/tmp/test/image, imgsz=672, conf_thres=0.001, iou_thres=0.5, max_det=1000, device=, view_img=False, save_txt=True, save_conf=True, save_crop=False, nosave=False, classes=None, agnostic_nms=False, augment=True, visualize=False, update=False, project=runs/detect, name=expf3, exist_ok=True, line_thickness=3, hide_labels=False, hide_conf=False, half=False\r\n",
      "Results saved to runs/detect/expf3\r\n",
      "2 labels saved to runs/detect/expf3/labels\r\n",
      "Done. (0.459s)\r\n"
     ]
    }
   ],
   "source": [
    "weights_dir = '/kaggle/input/new-yolov5-weights/5fold/fold3.pt'\n",
    "import torch\n",
    "!python detect.py --weights $weights_dir\\\n",
    "--img 672\\\n",
    "--augment\\\n",
    "--conf 0.001\\\n",
    "--iou 0.5\\\n",
    "--source $test_dir\\\n",
    "--name expf3\\\n",
    "--save-txt --save-conf --exist-ok"
   ]
  },
  {
   "cell_type": "code",
   "execution_count": 31,
   "id": "controversial-identification",
   "metadata": {
    "execution": {
     "iopub.execute_input": "2021-08-08T15:21:44.558897Z",
     "iopub.status.busy": "2021-08-08T15:21:44.558131Z",
     "iopub.status.idle": "2021-08-08T15:21:54.581540Z",
     "shell.execute_reply": "2021-08-08T15:21:54.581023Z"
    },
    "papermill": {
     "duration": 10.107863,
     "end_time": "2021-08-08T15:21:54.581660",
     "exception": false,
     "start_time": "2021-08-08T15:21:44.473797",
     "status": "completed"
    },
    "tags": []
   },
   "outputs": [
    {
     "name": "stdout",
     "output_type": "stream",
     "text": [
      "\u001B[34m\u001B[1mdetect: \u001B[0mweights=['/kaggle/input/new-yolov5-weights/5fold/fold4.pt'], source=/kaggle/tmp/test/image, imgsz=672, conf_thres=0.001, iou_thres=0.5, max_det=1000, device=, view_img=False, save_txt=True, save_conf=True, save_crop=False, nosave=False, classes=None, agnostic_nms=False, augment=True, visualize=False, update=False, project=runs/detect, name=expf4, exist_ok=True, line_thickness=3, hide_labels=False, hide_conf=False, half=False\r\n",
      "Results saved to runs/detect/expf4\r\n",
      "2 labels saved to runs/detect/expf4/labels\r\n",
      "Done. (0.427s)\r\n"
     ]
    }
   ],
   "source": [
    "weights_dir = '/kaggle/input/new-yolov5-weights/5fold/fold4.pt'\n",
    "import torch\n",
    "!python detect.py --weights $weights_dir\\\n",
    "--img 672\\\n",
    "--augment\\\n",
    "--conf 0.001\\\n",
    "--iou 0.5\\\n",
    "--source $test_dir\\\n",
    "--name expf4\\\n",
    "--save-txt --save-conf --exist-ok"
   ]
  },
  {
   "cell_type": "code",
   "execution_count": 32,
   "id": "polyphonic-scout",
   "metadata": {
    "execution": {
     "iopub.execute_input": "2021-08-08T15:21:54.748258Z",
     "iopub.status.busy": "2021-08-08T15:21:54.747336Z",
     "iopub.status.idle": "2021-08-08T15:21:54.805712Z",
     "shell.execute_reply": "2021-08-08T15:21:54.804762Z"
    },
    "papermill": {
     "duration": 0.143438,
     "end_time": "2021-08-08T15:21:54.805820",
     "exception": false,
     "start_time": "2021-08-08T15:21:54.662382",
     "status": "completed"
    },
    "tags": []
   },
   "outputs": [],
   "source": [
    "def yolo2voc(bboxes):\n",
    "    \"\"\"\n",
    "    yolo => [xmid, ymid, w, h] (normalized)\n",
    "    voc  => [x1, y1, x2, y1]\n",
    "\n",
    "    \"\"\" \n",
    "    bboxes = bboxes.copy().astype(float) # otherwise all value will be 0 as voc_pascal dtype is np.int\n",
    "\n",
    "    bboxes[..., [0, 1]] = bboxes[..., [0, 1]] - bboxes[..., [2, 3]]/2\n",
    "    bboxes[..., [2, 3]] = bboxes[..., [0, 1]] + bboxes[..., [2, 3]]\n",
    "    \n",
    "    return bboxes\n",
    "\n",
    "def yolo2voc1(image_height, image_width, bboxes):\n",
    "    bboxes = bboxes.copy().astype(float) # otherwise all value will be 0 as voc_pascal dtype is np.int\n",
    "\n",
    "    bboxes[..., [0, 2]] = bboxes[..., [0, 2]]* image_width\n",
    "    bboxes[..., [1, 3]] = bboxes[..., [1, 3]]* image_height\n",
    "    \n",
    "    return bboxes"
   ]
  },
  {
   "cell_type": "code",
   "execution_count": 33,
   "id": "pregnant-engineer",
   "metadata": {
    "execution": {
     "iopub.execute_input": "2021-08-08T15:21:54.993761Z",
     "iopub.status.busy": "2021-08-08T15:21:54.986486Z",
     "iopub.status.idle": "2021-08-08T15:21:55.568076Z",
     "shell.execute_reply": "2021-08-08T15:21:55.567490Z",
     "shell.execute_reply.started": "2021-08-06T15:23:10.925499Z"
    },
    "papermill": {
     "duration": 0.683417,
     "end_time": "2021-08-08T15:21:55.568218",
     "exception": false,
     "start_time": "2021-08-08T15:21:54.884801",
     "status": "completed"
    },
    "tags": []
   },
   "outputs": [
    {
     "name": "stdout",
     "output_type": "stream",
     "text": [
      "weights: [1, 1, 2, 1, 1]\n",
      "weights: [1, 1, 2, 1, 1]\n"
     ]
    }
   ],
   "source": [
    "from ensemble_boxes import weighted_boxes_fusion\n",
    "image_ids = []\n",
    "PredictionStrings = []\n",
    "\n",
    "for i in range(len(yolov5_df)):\n",
    "    boxes_list = []\n",
    "    scores_list = []\n",
    "    labels_list = []\n",
    "    is_exist1 = True\n",
    "    is_exist2 = True\n",
    "    \n",
    "    iou_thr = 0.5\n",
    "    skip_box_thr = 0.0001\n",
    "    image_id = yolov5_df.loc[i,'id']\n",
    "    w, h = yolov5_df.loc[yolov5_df.id==image_id,['dim1', 'dim0']].values[0]\n",
    "    \n",
    "    boxes_list = []\n",
    "    scores_list = []\n",
    "    labels_list = []\n",
    "    weights = [1, 1, 1, 1, 1]\n",
    "    file_pathf0 = '/kaggle/working/yolov5/runs/detect/expf0/labels/{}.txt'.format(image_id)\n",
    "    if os.path.exists(file_pathf0):\n",
    "        f = open(file_pathf0, 'r')\n",
    "        data = np.array(f.read().replace('\\n', ' ').strip().split(' ')).astype(np.float32).reshape(-1, 6)\n",
    "        data = data[:, [0, 5, 1, 2, 3, 4]]\n",
    "        data[:,2:] = yolo2voc(data[:, 2:])\n",
    "        boxes_list.append(data[:,2:].tolist())\n",
    "        scores_list.append(data[:,1].tolist())\n",
    "        labels_list.append(data[:,0].tolist())\n",
    "        \n",
    "    file_pathf1 = '/kaggle/working/yolov5/runs/detect/expf1/labels/{}.txt'.format(image_id)\n",
    "    if os.path.exists(file_pathf1):\n",
    "        f = open(file_pathf1, 'r')\n",
    "        data = np.array(f.read().replace('\\n', ' ').strip().split(' ')).astype(np.float32).reshape(-1, 6)\n",
    "        data = data[:, [0, 5, 1, 2, 3, 4]]\n",
    "        data[:,2:] = yolo2voc(data[:, 2:])\n",
    "        boxes_list.append(data[:,2:].tolist())\n",
    "        scores_list.append(data[:,1].tolist())\n",
    "        labels_list.append(data[:,0].tolist())\n",
    "        \n",
    "    file_pathf2 = '/kaggle/working/yolov5/runs/detect/expf2/labels/{}.txt'.format(image_id)\n",
    "    if os.path.exists(file_pathf2):\n",
    "        f = open(file_pathf2, 'r')\n",
    "        data = np.array(f.read().replace('\\n', ' ').strip().split(' ')).astype(np.float32).reshape(-1, 6)\n",
    "        data = data[:, [0, 5, 1, 2, 3, 4]]\n",
    "        data[:,2:] = yolo2voc(data[:, 2:])\n",
    "        boxes_list.append(data[:,2:].tolist())\n",
    "        scores_list.append(data[:,1].tolist())\n",
    "        labels_list.append(data[:,0].tolist())\n",
    "        \n",
    "    file_pathf3 = '/kaggle/working/yolov5/runs/detect/expf3/labels/{}.txt'.format(image_id)\n",
    "    if os.path.exists(file_pathf3):\n",
    "        f = open(file_pathf3, 'r')\n",
    "        data = np.array(f.read().replace('\\n', ' ').strip().split(' ')).astype(np.float32).reshape(-1, 6)\n",
    "        data = data[:, [0, 5, 1, 2, 3, 4]]\n",
    "        data[:,2:] = yolo2voc(data[:, 2:])\n",
    "        boxes_list.append(data[:,2:].tolist())\n",
    "        scores_list.append(data[:,1].tolist())\n",
    "        labels_list.append(data[:,0].tolist())\n",
    "        \n",
    "    file_pathf4 = '/kaggle/working/yolov5/runs/detect/expf4/labels/{}.txt'.format(image_id)\n",
    "    if os.path.exists(file_pathf4):\n",
    "        f = open(file_pathf4, 'r')\n",
    "        data = np.array(f.read().replace('\\n', ' ').strip().split(' ')).astype(np.float32).reshape(-1, 6)\n",
    "        data = data[:, [0, 5, 1, 2, 3, 4]]\n",
    "        data[:,2:] = yolo2voc(data[:, 2:])\n",
    "        boxes_list.append(data[:,2:].tolist())\n",
    "        scores_list.append(data[:,1].tolist())\n",
    "        labels_list.append(data[:,0].tolist())\n",
    "        \n",
    "    \n",
    "    if len(boxes_list)>1:\n",
    "        if len(boxes_list)==2:\n",
    "            weights = [1, 1]\n",
    "        elif len(boxes_list)==3:\n",
    "            weights = [1, 1, 1]\n",
    "        elif len(boxes_list)==4:\n",
    "            weights = [1, 1, 1, 1]\n",
    "        else:\n",
    "            weights = [1, 1, 2, 1, 1] ####\n",
    "        print(\"weights:\",weights)\n",
    "        boxes, scores, labels = weighted_boxes_fusion(boxes_list, scores_list, labels_list, weights=weights, iou_thr=iou_thr, skip_box_thr=skip_box_thr)\n",
    "        data1 = np.zeros((boxes.shape[0],6))\n",
    "        data1[:,0] = labels\n",
    "        data1[:,1] = scores\n",
    "        data1[:,2:] = boxes\n",
    "    elif len(boxes_list)==1:\n",
    "        data1 = data\n",
    "    else:\n",
    "        is_exist1 = False\n",
    "        \n",
    "    file_path = '/kaggle/working/yolov5/runs/detect/exp2/labels/{}.txt'.format(image_id)\n",
    "    if os.path.exists(file_path):\n",
    "        f = open(file_path, 'r')\n",
    "        data = np.array(f.read().replace('\\n', ' ').strip().split(' ')).astype(np.float32).reshape(-1, 6)\n",
    "        data = data[:, [0, 5, 1, 2, 3, 4]]\n",
    "        data[:,2:] = yolo2voc(data[:, 2:])\n",
    "            \n",
    "    boxes_list = []\n",
    "    scores_list = []\n",
    "    labels_list = []\n",
    "    weights = [1, 6]\n",
    "    if os.path.exists(file_path) and is_exist1:\n",
    "        boxes_list.append(data[:,2:].tolist())\n",
    "        scores_list.append(data[:,1].tolist())\n",
    "        labels_list.append(data[:,0].tolist())\n",
    "        boxes_list.append(data1[:,2:].tolist())\n",
    "        scores_list.append(data1[:,1].tolist())\n",
    "        labels_list.append(data1[:,0].tolist())\n",
    "        boxes, scores, labels = weighted_boxes_fusion(boxes_list, scores_list, labels_list, weights=weights, iou_thr=iou_thr, skip_box_thr=skip_box_thr)\n",
    "        data2 = np.zeros((boxes.shape[0],6))\n",
    "        data2[:,0] = labels\n",
    "        data2[:,1] = scores\n",
    "        data2[:,2:] = boxes\n",
    "    elif os.path.exists(file_path) or is_exist1:\n",
    "        data2 = data\n",
    "    else:\n",
    "        is_exist2 = False\n",
    "        \n",
    "    if is_exist1==False and is_exist2==False:\n",
    "        continue\n",
    "            \n",
    "    bboxes = list(np.round(np.concatenate((data2[:, :2], np.round(yolo2voc1(h, w, data2[:, 2:]))), axis =1).reshape(-1), 12).astype(str))\n",
    "    for idx in range(len(bboxes)):\n",
    "        bboxes[idx] = str(int(float(bboxes[idx]))) if idx%6!=1 else bboxes[idx]\n",
    "    image_ids.append(image_id)\n",
    "    PredictionStrings.append(' '.join(bboxes))\n",
    "\n",
    "image_sub_2_df = pd.DataFrame({'id':image_ids,\n",
    "                        'PredictionString':PredictionStrings})"
   ]
  },
  {
   "cell_type": "code",
   "execution_count": 34,
   "id": "stuck-spencer",
   "metadata": {
    "execution": {
     "iopub.execute_input": "2021-08-08T15:21:55.736443Z",
     "iopub.status.busy": "2021-08-08T15:21:55.735666Z",
     "iopub.status.idle": "2021-08-08T15:21:55.784815Z",
     "shell.execute_reply": "2021-08-08T15:21:55.784336Z"
    },
    "papermill": {
     "duration": 0.131967,
     "end_time": "2021-08-08T15:21:55.784956",
     "exception": false,
     "start_time": "2021-08-08T15:21:55.652989",
     "status": "completed"
    },
    "tags": []
   },
   "outputs": [
    {
     "data": {
      "text/html": [
       "<div>\n",
       "<style scoped>\n",
       "    .dataframe tbody tr th:only-of-type {\n",
       "        vertical-align: middle;\n",
       "    }\n",
       "\n",
       "    .dataframe tbody tr th {\n",
       "        vertical-align: top;\n",
       "    }\n",
       "\n",
       "    .dataframe thead th {\n",
       "        text-align: right;\n",
       "    }\n",
       "</style>\n",
       "<table border=\"1\" class=\"dataframe\">\n",
       "  <thead>\n",
       "    <tr style=\"text-align: right;\">\n",
       "      <th></th>\n",
       "      <th>id</th>\n",
       "      <th>PredictionString</th>\n",
       "    </tr>\n",
       "  </thead>\n",
       "  <tbody>\n",
       "    <tr>\n",
       "      <th>0</th>\n",
       "      <td>65761e66de9f_image</td>\n",
       "      <td>0 0.185589805245 669 751 1261 1441 0 0.1627866...</td>\n",
       "    </tr>\n",
       "    <tr>\n",
       "      <th>1</th>\n",
       "      <td>51759b5579bc_image</td>\n",
       "      <td>0 0.110834948719 1900 1235 2565 2095 0 0.08008...</td>\n",
       "    </tr>\n",
       "  </tbody>\n",
       "</table>\n",
       "</div>"
      ],
      "text/plain": [
       "                   id                                   PredictionString\n",
       "0  65761e66de9f_image  0 0.185589805245 669 751 1261 1441 0 0.1627866...\n",
       "1  51759b5579bc_image  0 0.110834948719 1900 1235 2565 2095 0 0.08008..."
      ]
     },
     "execution_count": 34,
     "metadata": {},
     "output_type": "execute_result"
    }
   ],
   "source": [
    "image_sub_2_df"
   ]
  },
  {
   "cell_type": "code",
   "execution_count": 35,
   "id": "understanding-maximum",
   "metadata": {
    "execution": {
     "iopub.execute_input": "2021-08-08T15:21:55.948083Z",
     "iopub.status.busy": "2021-08-08T15:21:55.947301Z",
     "iopub.status.idle": "2021-08-08T15:21:55.998579Z",
     "shell.execute_reply": "2021-08-08T15:21:55.998193Z"
    },
    "papermill": {
     "duration": 0.13378,
     "end_time": "2021-08-08T15:21:55.998683",
     "exception": false,
     "start_time": "2021-08-08T15:21:55.864903",
     "status": "completed"
    },
    "tags": []
   },
   "outputs": [
    {
     "data": {
      "text/html": [
       "<div>\n",
       "<style scoped>\n",
       "    .dataframe tbody tr th:only-of-type {\n",
       "        vertical-align: middle;\n",
       "    }\n",
       "\n",
       "    .dataframe tbody tr th {\n",
       "        vertical-align: top;\n",
       "    }\n",
       "\n",
       "    .dataframe thead th {\n",
       "        text-align: right;\n",
       "    }\n",
       "</style>\n",
       "<table border=\"1\" class=\"dataframe\">\n",
       "  <thead>\n",
       "    <tr style=\"text-align: right;\">\n",
       "      <th></th>\n",
       "      <th>id</th>\n",
       "      <th>PredictionString</th>\n",
       "    </tr>\n",
       "  </thead>\n",
       "  <tbody>\n",
       "    <tr>\n",
       "      <th>0</th>\n",
       "      <td>65761e66de9f_image</td>\n",
       "      <td>0 0.185589805245 669 751 1261 1441 0 0.1627866...</td>\n",
       "    </tr>\n",
       "    <tr>\n",
       "      <th>1</th>\n",
       "      <td>51759b5579bc_image</td>\n",
       "      <td>0 0.110834948719 1900 1235 2565 2095 0 0.08008...</td>\n",
       "    </tr>\n",
       "  </tbody>\n",
       "</table>\n",
       "</div>"
      ],
      "text/plain": [
       "                   id                                   PredictionString\n",
       "0  65761e66de9f_image  0 0.185589805245 669 751 1261 1441 0 0.1627866...\n",
       "1  51759b5579bc_image  0 0.110834948719 1900 1235 2565 2095 0 0.08008..."
      ]
     },
     "execution_count": 35,
     "metadata": {},
     "output_type": "execute_result"
    }
   ],
   "source": [
    "yolov5_df = pd.merge(yolov5_df, image_sub_2_df, on = 'id', how = 'left').fillna(\"none 1 0 0 1 1\")\n",
    "yolov5_df = yolov5_df[['id', 'PredictionString']]\n",
    "yolov5_df"
   ]
  },
  {
   "cell_type": "code",
   "execution_count": 36,
   "id": "mounted-intention",
   "metadata": {
    "execution": {
     "iopub.execute_input": "2021-08-08T15:21:56.166065Z",
     "iopub.status.busy": "2021-08-08T15:21:56.165311Z",
     "iopub.status.idle": "2021-08-08T15:21:56.215554Z",
     "shell.execute_reply": "2021-08-08T15:21:56.215923Z"
    },
    "papermill": {
     "duration": 0.137445,
     "end_time": "2021-08-08T15:21:56.216057",
     "exception": false,
     "start_time": "2021-08-08T15:21:56.078612",
     "status": "completed"
    },
    "tags": []
   },
   "outputs": [
    {
     "data": {
      "text/html": [
       "<div>\n",
       "<style scoped>\n",
       "    .dataframe tbody tr th:only-of-type {\n",
       "        vertical-align: middle;\n",
       "    }\n",
       "\n",
       "    .dataframe tbody tr th {\n",
       "        vertical-align: top;\n",
       "    }\n",
       "\n",
       "    .dataframe thead th {\n",
       "        text-align: right;\n",
       "    }\n",
       "</style>\n",
       "<table border=\"1\" class=\"dataframe\">\n",
       "  <thead>\n",
       "    <tr style=\"text-align: right;\">\n",
       "      <th></th>\n",
       "      <th>id</th>\n",
       "      <th>PredictionString</th>\n",
       "    </tr>\n",
       "  </thead>\n",
       "  <tbody>\n",
       "    <tr>\n",
       "      <th>0</th>\n",
       "      <td>65761e66de9f_image</td>\n",
       "      <td>opacity 0.185589805245 669 751 1261 1441 opaci...</td>\n",
       "    </tr>\n",
       "    <tr>\n",
       "      <th>1</th>\n",
       "      <td>51759b5579bc_image</td>\n",
       "      <td>opacity 0.110834948719 1900 1235 2565 2095 opa...</td>\n",
       "    </tr>\n",
       "  </tbody>\n",
       "</table>\n",
       "</div>"
      ],
      "text/plain": [
       "                   id                                   PredictionString\n",
       "0  65761e66de9f_image  opacity 0.185589805245 669 751 1261 1441 opaci...\n",
       "1  51759b5579bc_image  opacity 0.110834948719 1900 1235 2565 2095 opa..."
      ]
     },
     "execution_count": 36,
     "metadata": {},
     "output_type": "execute_result"
    }
   ],
   "source": [
    "for i in range(yolov5_df.shape[0]):\n",
    "    if yolov5_df.loc[i,'PredictionString'] == \"none 1 0 0 1 1\":\n",
    "        continue\n",
    "    sub_df_split = yolov5_df.loc[i,'PredictionString'].split()\n",
    "    sub_df_list = []\n",
    "    for j in range(int(len(sub_df_split) / 6)):\n",
    "        sub_df_list.append('opacity')\n",
    "        sub_df_list.append(sub_df_split[6 * j + 1])\n",
    "        sub_df_list.append(sub_df_split[6 * j + 2])\n",
    "        sub_df_list.append(sub_df_split[6 * j + 3])\n",
    "        sub_df_list.append(sub_df_split[6 * j + 4])\n",
    "        sub_df_list.append(sub_df_split[6 * j + 5])\n",
    "    yolov5_df.loc[i,'PredictionString'] = ' '.join(sub_df_list)\n",
    "\n",
    "yolov5_df['none'] = df_2class['none'] \n",
    "for i in range(yolov5_df.shape[0]):\n",
    "    if yolov5_df.loc[i,'PredictionString'] != 'none 1 0 0 1 1':\n",
    "        yolov5_df.loc[i,'PredictionString'] = yolov5_df.loc[i,'PredictionString'] + ' none ' + str(yolov5_df.loc[i,'none']) + ' 0 0 1 1'\n",
    "\n",
    "yolov5_df = yolov5_df[['id', 'PredictionString']] \n",
    "yolov5_df"
   ]
  },
  {
   "cell_type": "code",
   "execution_count": 37,
   "id": "imported-wiring",
   "metadata": {
    "execution": {
     "iopub.execute_input": "2021-08-08T15:21:56.381781Z",
     "iopub.status.busy": "2021-08-08T15:21:56.381010Z",
     "iopub.status.idle": "2021-08-08T15:21:56.425423Z",
     "shell.execute_reply": "2021-08-08T15:21:56.425780Z"
    },
    "papermill": {
     "duration": 0.129241,
     "end_time": "2021-08-08T15:21:56.425926",
     "exception": false,
     "start_time": "2021-08-08T15:21:56.296685",
     "status": "completed"
    },
    "tags": []
   },
   "outputs": [],
   "source": [
    "image_all_df = yolov5_df"
   ]
  },
  {
   "cell_type": "markdown",
   "id": "adjustable-chorus",
   "metadata": {
    "papermill": {
     "duration": 0.080068,
     "end_time": "2021-08-08T15:21:56.587302",
     "exception": false,
     "start_time": "2021-08-08T15:21:56.507234",
     "status": "completed"
    },
    "tags": []
   },
   "source": [
    "# YOLOV5 2"
   ]
  },
  {
   "cell_type": "markdown",
   "id": "identical-absorption",
   "metadata": {
    "papermill": {
     "duration": 0.079375,
     "end_time": "2021-08-08T15:21:56.744177",
     "exception": false,
     "start_time": "2021-08-08T15:21:56.664802",
     "status": "completed"
    },
    "tags": []
   },
   "source": [
    "# MMDET"
   ]
  },
  {
   "cell_type": "code",
   "execution_count": 38,
   "id": "pretty-return",
   "metadata": {
    "execution": {
     "iopub.execute_input": "2021-08-08T15:21:56.913079Z",
     "iopub.status.busy": "2021-08-08T15:21:56.912308Z",
     "iopub.status.idle": "2021-08-08T15:22:12.395130Z",
     "shell.execute_reply": "2021-08-08T15:22:12.394657Z"
    },
    "papermill": {
     "duration": 15.570458,
     "end_time": "2021-08-08T15:22:12.395264",
     "exception": false,
     "start_time": "2021-08-08T15:21:56.824806",
     "status": "completed"
    },
    "tags": []
   },
   "outputs": [
    {
     "name": "stdout",
     "output_type": "stream",
     "text": [
      "cuda\n",
      "1.7.0 True\n",
      "11.0\n",
      "GCC 7.3\n"
     ]
    }
   ],
   "source": [
    "from tqdm.notebook import tqdm\n",
    "\n",
    "import torch\n",
    "device = torch.device(\"cuda\") if torch.cuda.is_available() else torch.device(\"cpu\")\n",
    "print(device.type)\n",
    "\n",
    "import torchvision\n",
    "print(torch.__version__, torch.cuda.is_available())\n",
    "\n",
    "# Check mmcv installation\n",
    "from mmcv.ops import get_compiling_cuda_version, get_compiler_version\n",
    "print(get_compiling_cuda_version())\n",
    "print(get_compiler_version())\n",
    "\n",
    "# Check MMDetection installation\n",
    "from mmdet.apis import set_random_seed\n",
    "\n",
    "# Imports\n",
    "import mmdet\n",
    "from mmdet.apis import set_random_seed\n",
    "from mmdet.datasets import build_dataset\n",
    "from mmdet.models import build_detector\n",
    "\n",
    "import mmcv\n",
    "from mmcv import Config\n",
    "from mmcv.runner import load_checkpoint\n",
    "from mmcv.parallel import MMDataParallel\n",
    "from mmdet.apis import inference_detector, init_detector, show_result_pyplot\n",
    "from mmdet.apis import single_gpu_test\n",
    "from mmdet.datasets import build_dataloader, build_dataset"
   ]
  },
  {
   "cell_type": "code",
   "execution_count": 39,
   "id": "united-plasma",
   "metadata": {
    "execution": {
     "iopub.execute_input": "2021-08-08T15:22:12.565802Z",
     "iopub.status.busy": "2021-08-08T15:22:12.564985Z",
     "iopub.status.idle": "2021-08-08T15:22:12.616926Z",
     "shell.execute_reply": "2021-08-08T15:22:12.616497Z"
    },
    "papermill": {
     "duration": 0.14585,
     "end_time": "2021-08-08T15:22:12.617054",
     "exception": false,
     "start_time": "2021-08-08T15:22:12.471204",
     "status": "completed"
    },
    "tags": []
   },
   "outputs": [],
   "source": [
    "import cv2\n",
    "import matplotlib.pyplot as plt\n",
    "\n",
    "label2color = [[59, 238, 119]]\n",
    "IMAGE_DIMS = (512, 512)\n",
    "\n",
    "viz_labels =  [\"Covid_Abnormality\"]\n",
    "\n",
    "def plot_img(img, size=(18, 18), is_rgb=True, title=\"\", cmap=None):\n",
    "    plt.figure(figsize=size)\n",
    "    plt.imshow(img, cmap=cmap)\n",
    "    plt.suptitle(title)\n",
    "    plt.show()\n",
    "    \n",
    "def plot_imgs(imgs, cols=2, size=10, is_rgb=True, title=\"\", cmap=None, img_size=None):\n",
    "    rows = len(imgs)//cols + 1\n",
    "    fig = plt.figure(figsize=(cols*size, rows*size))\n",
    "    for i, img in enumerate(imgs):\n",
    "        if img_size is not None:\n",
    "            img = cv2.resize(img, img_size)\n",
    "        fig.add_subplot(rows, cols, i+1)\n",
    "        plt.imshow(img, cmap=cmap)\n",
    "    plt.suptitle(title)\n",
    "    return fig\n",
    "    \n",
    "def draw_bbox(image, box, label, color):   \n",
    "    alpha = 0.1\n",
    "    alpha_font = 0.6\n",
    "    thickness = 8\n",
    "    font_size = 2.0\n",
    "    font_weight = 1\n",
    "    overlay_bbox = image.copy()\n",
    "    overlay_text = image.copy()\n",
    "    output = image.copy()\n",
    "\n",
    "    text_width, text_height = cv2.getTextSize(label.upper(), cv2.FONT_HERSHEY_SIMPLEX, font_size, font_weight)[0]\n",
    "    cv2.rectangle(overlay_bbox, (box[0], box[1]), (box[2], box[3]),\n",
    "                color, -1)\n",
    "    cv2.addWeighted(overlay_bbox, alpha, output, 1 - alpha, 0, output)\n",
    "    cv2.rectangle(overlay_text, (box[0], box[1]-18-text_height), (box[0]+text_width+8, box[1]),\n",
    "                (0, 0, 0), -1)\n",
    "    cv2.addWeighted(overlay_text, alpha_font, output, 1 - alpha_font, 0, output)\n",
    "    cv2.rectangle(output, (box[0], box[1]), (box[2], box[3]),\n",
    "                    color, thickness)\n",
    "    cv2.putText(output, label.upper(), (box[0], box[1]-12),\n",
    "            cv2.FONT_HERSHEY_SIMPLEX, font_size, (255, 255, 255), font_weight, cv2.LINE_AA)\n",
    "    return output\n",
    "\n",
    "def draw_bbox_small(image, box, label, color):   \n",
    "    alpha = 0.1\n",
    "    alpha_text = 0.3\n",
    "    thickness = 1\n",
    "    font_size = 0.4\n",
    "    overlay_bbox = image.copy()\n",
    "    overlay_text = image.copy()\n",
    "    output = image.copy()\n",
    "\n",
    "    text_width, text_height = cv2.getTextSize(label.upper(), cv2.FONT_HERSHEY_SIMPLEX, font_size, thickness)[0]\n",
    "    cv2.rectangle(overlay_bbox, (box[0], box[1]), (box[2], box[3]),\n",
    "                color, -1)\n",
    "    cv2.addWeighted(overlay_bbox, alpha, output, 1 - alpha, 0, output)\n",
    "    cv2.rectangle(overlay_text, (box[0], box[1]-7-text_height), (box[0]+text_width+2, box[1]),\n",
    "                (0, 0, 0), -1)\n",
    "    cv2.addWeighted(overlay_text, alpha_text, output, 1 - alpha_text, 0, output)\n",
    "    cv2.rectangle(output, (box[0], box[1]), (box[2], box[3]),\n",
    "                    color, thickness)\n",
    "    cv2.putText(output, label.upper(), (box[0], box[1]-5),\n",
    "            cv2.FONT_HERSHEY_SIMPLEX, font_size, (255, 255, 255), thickness, cv2.LINE_AA)\n",
    "    return output"
   ]
  },
  {
   "cell_type": "code",
   "execution_count": 40,
   "id": "latest-scout",
   "metadata": {
    "execution": {
     "iopub.execute_input": "2021-08-08T15:22:12.777114Z",
     "iopub.status.busy": "2021-08-08T15:22:12.776328Z",
     "iopub.status.idle": "2021-08-08T15:22:21.774015Z",
     "shell.execute_reply": "2021-08-08T15:22:21.774981Z"
    },
    "papermill": {
     "duration": 9.083261,
     "end_time": "2021-08-08T15:22:21.775185",
     "exception": false,
     "start_time": "2021-08-08T15:22:12.691924",
     "status": "completed"
    },
    "tags": []
   },
   "outputs": [
    {
     "name": "stdout",
     "output_type": "stream",
     "text": [
      "Use load_from_local loader\n"
     ]
    },
    {
     "name": "stderr",
     "output_type": "stream",
     "text": [
      "/kaggle/working/mmdetection/mmdet/apis/inference.py:47: UserWarning: Class names are not saved in the checkpoint's meta data, use COCO classes by default.\n",
      "  warnings.warn('Class names are not saved in the checkpoint\\'s '\n"
     ]
    }
   ],
   "source": [
    "baseline_cfg_path = \"/kaggle/input/siim-mmdetection-cascadercnn-weight-bias/job4_cascade_rcnn_x101_32x4d_fpn_1x_fold0/job4_cascade_rcnn_x101_32x4d_fpn_1x_coco.py\"\n",
    "cfg = Config.fromfile(baseline_cfg_path)\n",
    "\n",
    "cfg.classes = (\"Covid_Abnormality\")\n",
    "cfg.data.test.img_prefix = ''\n",
    "cfg.data.test.classes = cfg.classes\n",
    "\n",
    "# cfg.model.roi_head.bbox_head.num_classes = 1\n",
    "# cfg.model.bbox_head.num_classes = 1\n",
    "for head in cfg.model.roi_head.bbox_head:\n",
    "    head.num_classes = 1\n",
    "\n",
    "# Set seed thus the results are more reproducible\n",
    "cfg.seed = 211\n",
    "set_random_seed(211, deterministic=False)\n",
    "cfg.gpu_ids = [0]\n",
    "\n",
    "cfg.data.test.pipeline=[\n",
    "            dict(type='LoadImageFromFile'),\n",
    "            dict(\n",
    "                type='MultiScaleFlipAug',\n",
    "                img_scale=(1333, 800),\n",
    "                flip=False,\n",
    "                transforms=[\n",
    "                    dict(type='Resize', keep_ratio=True),\n",
    "                    dict(type='RandomFlip', direction='horizontal'),\n",
    "                    dict(\n",
    "                        type='Normalize',\n",
    "                        mean=[123.675, 116.28, 103.53],\n",
    "                        std=[58.395, 57.12, 57.375],\n",
    "                        to_rgb=True),\n",
    "                    dict(type='Pad', size_divisor=32),\n",
    "                    dict(type='DefaultFormatBundle'),\n",
    "                    dict(type='Collect', keys=['img'])\n",
    "                ])\n",
    "        ]\n",
    "\n",
    "cfg.test_pipeline = [\n",
    "            dict(type='LoadImageFromFile'),\n",
    "            dict(\n",
    "                type='MultiScaleFlipAug',\n",
    "                img_scale=(1333, 800),\n",
    "                flip=False,\n",
    "                transforms=[\n",
    "                    dict(type='Resize', keep_ratio=True),\n",
    "                    dict(type='RandomFlip', direction='horizontal'),\n",
    "                    dict(\n",
    "                        type='Normalize',\n",
    "                        mean=[123.675, 116.28, 103.53],\n",
    "                        std=[58.395, 57.12, 57.375],\n",
    "                        to_rgb=True),\n",
    "                    dict(type='Pad', size_divisor=32),\n",
    "                    dict(type='DefaultFormatBundle'),\n",
    "                    dict(type='Collect', keys=['img'])\n",
    "                ])\n",
    "        ]\n",
    "\n",
    "\n",
    "cfg.model.test_cfg.rcnn.score_thr = 0.001\n",
    "\n",
    "WEIGHTS_FILE = '/kaggle/input/siim-mmdetection-cascadercnn-weight-bias/job4_cascade_rcnn_x101_32x4d_fpn_1x_fold0/epoch_10.pth'\n",
    "options = dict(classes = (\"Covid_Abnormality\"))\n",
    "model = init_detector(cfg, WEIGHTS_FILE, device='cuda:0')"
   ]
  },
  {
   "cell_type": "code",
   "execution_count": 41,
   "id": "coupled-distinction",
   "metadata": {
    "execution": {
     "iopub.execute_input": "2021-08-08T15:22:22.041368Z",
     "iopub.status.busy": "2021-08-08T15:22:22.040560Z",
     "iopub.status.idle": "2021-08-08T15:22:23.827011Z",
     "shell.execute_reply": "2021-08-08T15:22:23.827423Z"
    },
    "papermill": {
     "duration": 1.916678,
     "end_time": "2021-08-08T15:22:23.827566",
     "exception": false,
     "start_time": "2021-08-08T15:22:21.910888",
     "status": "completed"
    },
    "tags": []
   },
   "outputs": [
    {
     "name": "stderr",
     "output_type": "stream",
     "text": [
      "/opt/conda/lib/python3.7/site-packages/ipykernel/ipkernel.py:283: DeprecationWarning: `should_run_async` will not call `transform_cell` automatically in the future. Please pass the result to `transformed_cell` argument and any exception that happen during thetransform in `preprocessing_exc_tuple` in IPython 7.17 and above.\n",
      "  and should_run_async(code)\n"
     ]
    },
    {
     "data": {
      "application/vnd.jupyter.widget-view+json": {
       "model_id": "85a5322b112748a0b4834249ce3452ff",
       "version_major": 2,
       "version_minor": 0
      },
      "text/plain": [
       "  0%|          | 0/2 [00:00<?, ?it/s]"
      ]
     },
     "metadata": {},
     "output_type": "display_data"
    },
    {
     "name": "stderr",
     "output_type": "stream",
     "text": [
      "/kaggle/working/mmdetection/mmdet/core/anchor/anchor_generator.py:323: UserWarning: ``grid_anchors`` would be deprecated soon. Please use ``grid_priors`` \n",
      "  warnings.warn('``grid_anchors`` would be deprecated soon. '\n",
      "/kaggle/working/mmdetection/mmdet/core/anchor/anchor_generator.py:360: UserWarning: ``single_level_grid_anchors`` would be deprecated soon. Please use ``single_level_grid_priors`` \n",
      "  '``single_level_grid_anchors`` would be deprecated soon. '\n"
     ]
    },
    {
     "data": {
      "text/html": [
       "<div>\n",
       "<style scoped>\n",
       "    .dataframe tbody tr th:only-of-type {\n",
       "        vertical-align: middle;\n",
       "    }\n",
       "\n",
       "    .dataframe tbody tr th {\n",
       "        vertical-align: top;\n",
       "    }\n",
       "\n",
       "    .dataframe thead th {\n",
       "        text-align: right;\n",
       "    }\n",
       "</style>\n",
       "<table border=\"1\" class=\"dataframe\">\n",
       "  <thead>\n",
       "    <tr style=\"text-align: right;\">\n",
       "      <th></th>\n",
       "      <th>id</th>\n",
       "      <th>PredictionString</th>\n",
       "    </tr>\n",
       "  </thead>\n",
       "  <tbody>\n",
       "    <tr>\n",
       "      <th>1</th>\n",
       "      <td>51759b5579bc_image</td>\n",
       "      <td>opacity 0.7418073415756226 145 1851 998 2550 o...</td>\n",
       "    </tr>\n",
       "    <tr>\n",
       "      <th>0</th>\n",
       "      <td>65761e66de9f_image</td>\n",
       "      <td>opacity 0.8058207631111145 1821 813 2418 1529 ...</td>\n",
       "    </tr>\n",
       "  </tbody>\n",
       "</table>\n",
       "</div>"
      ],
      "text/plain": [
       "                   id                                   PredictionString\n",
       "1  51759b5579bc_image  opacity 0.7418073415756226 145 1851 998 2550 o...\n",
       "0  65761e66de9f_image  opacity 0.8058207631111145 1821 813 2418 1529 ..."
      ]
     },
     "metadata": {},
     "output_type": "display_data"
    },
    {
     "data": {
      "image/png": "[encoded data removed]",
      "text/plain": [
       "<Figure size 1440x1440 with 2 Axes>"
      ]
     },
     "metadata": {
      "needs_background": "light"
     },
     "output_type": "display_data"
    }
   ],
   "source": [
    "viz_images = []\n",
    "results = []\n",
    "score_threshold = cfg.model.test_cfg.rcnn.score_thr\n",
    "\n",
    "def format_pred(boxes: np.ndarray, scores: np.ndarray, labels: np.ndarray) -> str:\n",
    "    pred_strings = []\n",
    "    label_str = ['opacity']\n",
    "    for label, score, bbox in zip(labels, scores, boxes):\n",
    "        xmin, ymin, xmax, ymax = bbox.astype(np.int64)\n",
    "        pred_strings.append(f\"{label_str[int(label)]} {score:.16f} {xmin} {ymin} {xmax} {ymax}\")\n",
    "    return \" \".join(pred_strings)\n",
    "\n",
    "model.to(device)\n",
    "model.eval()\n",
    "\n",
    "viz_images = []\n",
    "\n",
    "with torch.no_grad():\n",
    "    for index, row in tqdm(df_2class.iterrows(), total=df_2class.shape[0]):\n",
    "        original_H, original_W = (int(row.dim0), int(row.dim1))\n",
    "        predictions = inference_detector(model, row.image_path)\n",
    "        boxes, scores, labels = (list(), list(), list())\n",
    "\n",
    "        for k, cls_result in enumerate(predictions):\n",
    "#             print(\"cls_result\", cls_result)\n",
    "            if cls_result.size != 0:\n",
    "                if len(labels)==0:\n",
    "                    boxes = np.array(cls_result[:, :4])\n",
    "                    scores = np.array(cls_result[:, 4])\n",
    "                    labels = np.array([k]*len(cls_result[:, 4]))\n",
    "                else:    \n",
    "                    boxes = np.concatenate((boxes, np.array(cls_result[:, :4])))\n",
    "                    scores = np.concatenate((scores, np.array(cls_result[:, 4])))\n",
    "                    labels = np.concatenate((labels, [k]*len(cls_result[:, 4])))\n",
    "                    \n",
    "            if fast_sub:\n",
    "                img_viz = cv2.imread(row.image_path)\n",
    "                for box, label, score in zip(boxes, labels, scores):\n",
    "                    color = label2color[int(label)]\n",
    "                    img_viz = draw_bbox_small(img_viz, box.astype(np.int32), f'opacity_{score:.4f}', color)\n",
    "                viz_images.append(img_viz)\n",
    "\n",
    "        indexes = np.where(scores > score_threshold)\n",
    "#         print(indexes)\n",
    "        boxes = boxes[indexes]\n",
    "        scores = scores[indexes]\n",
    "        labels = labels[indexes]\n",
    "\n",
    "        if len(labels) != 0:\n",
    "            h_ratio = original_H/IMAGE_DIMS[0]\n",
    "            w_ratio = original_W/IMAGE_DIMS[1]\n",
    "            boxes[:, [0, 2]] *= w_ratio\n",
    "            boxes[:, [1, 3]] *= h_ratio\n",
    "\n",
    "            result = {\n",
    "                \"id\": row.id,\n",
    "                \"PredictionString\": format_pred(\n",
    "                    boxes, scores, labels\n",
    "                ),\n",
    "            }\n",
    "\n",
    "            results.append(result)\n",
    "del model\n",
    "gc.collect()\n",
    "\n",
    "mmdet_df = pd.DataFrame(results, columns=['id', 'PredictionString'])\n",
    "\n",
    "if fast_sub:\n",
    "    display(mmdet_df.sample(2))\n",
    "    # Plot sample images\n",
    "    plot_imgs(viz_images, cmap=None)\n",
    "    plt.savefig('viz_fig_siim.png', bbox_inches='tight')\n",
    "    plt.show()"
   ]
  },
  {
   "cell_type": "code",
   "execution_count": 42,
   "id": "strategic-contributor",
   "metadata": {
    "execution": {
     "iopub.execute_input": "2021-08-08T15:22:24.020656Z",
     "iopub.status.busy": "2021-08-08T15:22:24.020135Z",
     "iopub.status.idle": "2021-08-08T15:22:24.125150Z",
     "shell.execute_reply": "2021-08-08T15:22:24.124717Z"
    },
    "papermill": {
     "duration": 0.203291,
     "end_time": "2021-08-08T15:22:24.125264",
     "exception": false,
     "start_time": "2021-08-08T15:22:23.921973",
     "status": "completed"
    },
    "tags": []
   },
   "outputs": [
    {
     "name": "stderr",
     "output_type": "stream",
     "text": [
      "/opt/conda/lib/python3.7/site-packages/ipykernel/ipkernel.py:283: DeprecationWarning: `should_run_async` will not call `transform_cell` automatically in the future. Please pass the result to `transformed_cell` argument and any exception that happen during thetransform in `preprocessing_exc_tuple` in IPython 7.17 and above.\n",
      "  and should_run_async(code)\n"
     ]
    },
    {
     "data": {
      "text/html": [
       "<div>\n",
       "<style scoped>\n",
       "    .dataframe tbody tr th:only-of-type {\n",
       "        vertical-align: middle;\n",
       "    }\n",
       "\n",
       "    .dataframe tbody tr th {\n",
       "        vertical-align: top;\n",
       "    }\n",
       "\n",
       "    .dataframe thead th {\n",
       "        text-align: right;\n",
       "    }\n",
       "</style>\n",
       "<table border=\"1\" class=\"dataframe\">\n",
       "  <thead>\n",
       "    <tr style=\"text-align: right;\">\n",
       "      <th></th>\n",
       "      <th>id</th>\n",
       "      <th>PredictionString</th>\n",
       "    </tr>\n",
       "  </thead>\n",
       "  <tbody>\n",
       "    <tr>\n",
       "      <th>0</th>\n",
       "      <td>65761e66de9f_image</td>\n",
       "      <td>opacity 0.8058207631111145 1821 813 2418 1529 ...</td>\n",
       "    </tr>\n",
       "    <tr>\n",
       "      <th>1</th>\n",
       "      <td>51759b5579bc_image</td>\n",
       "      <td>opacity 0.7418073415756226 145 1851 998 2550 o...</td>\n",
       "    </tr>\n",
       "  </tbody>\n",
       "</table>\n",
       "</div>"
      ],
      "text/plain": [
       "                   id                                   PredictionString\n",
       "0  65761e66de9f_image  opacity 0.8058207631111145 1821 813 2418 1529 ...\n",
       "1  51759b5579bc_image  opacity 0.7418073415756226 145 1851 998 2550 o..."
      ]
     },
     "execution_count": 42,
     "metadata": {},
     "output_type": "execute_result"
    }
   ],
   "source": [
    "mmdet_df = mmdet_df.merge(df_2class[['id', 'none']], on='id', how='left')\n",
    "\n",
    "for i in range(mmdet_df.shape[0]):\n",
    "    if mmdet_df.loc[i,'PredictionString'] != 'none 1 0 0 1 1':\n",
    "        mmdet_df.loc[i,'PredictionString'] = mmdet_df.loc[i,'PredictionString'] + ' none ' + str(mmdet_df.loc[i,'none']) + ' 0 0 1 1'\n",
    "mmdet_df = mmdet_df[['id', 'PredictionString']]\n",
    "\n",
    "mmdet_df"
   ]
  },
  {
   "cell_type": "code",
   "execution_count": 43,
   "id": "generic-jesus",
   "metadata": {
    "execution": {
     "iopub.execute_input": "2021-08-08T15:22:24.316287Z",
     "iopub.status.busy": "2021-08-08T15:22:24.315751Z",
     "iopub.status.idle": "2021-08-08T15:22:24.571498Z",
     "shell.execute_reply": "2021-08-08T15:22:24.570990Z"
    },
    "papermill": {
     "duration": 0.353163,
     "end_time": "2021-08-08T15:22:24.571620",
     "exception": false,
     "start_time": "2021-08-08T15:22:24.218457",
     "status": "completed"
    },
    "tags": []
   },
   "outputs": [
    {
     "name": "stderr",
     "output_type": "stream",
     "text": [
      "/opt/conda/lib/python3.7/site-packages/ipykernel/ipkernel.py:283: DeprecationWarning: `should_run_async` will not call `transform_cell` automatically in the future. Please pass the result to `transformed_cell` argument and any exception that happen during thetransform in `preprocessing_exc_tuple` in IPython 7.17 and above.\n",
      "  and should_run_async(code)\n"
     ]
    }
   ],
   "source": [
    "mmdet_df.to_csv(\"/kaggle/working/mmdet_df.csv\",index=False)\n",
    "!rm -r /kaggle/working/mmdetection"
   ]
  },
  {
   "cell_type": "markdown",
   "id": "rubber-twins",
   "metadata": {
    "papermill": {
     "duration": 0.094147,
     "end_time": "2021-08-08T15:22:24.761086",
     "exception": false,
     "start_time": "2021-08-08T15:22:24.666939",
     "status": "completed"
    },
    "tags": []
   },
   "source": [
    "# Study_Level Predict"
   ]
  },
  {
   "cell_type": "code",
   "execution_count": 44,
   "id": "younger-frank",
   "metadata": {
    "execution": {
     "iopub.execute_input": "2021-08-08T15:22:24.954368Z",
     "iopub.status.busy": "2021-08-08T15:22:24.953658Z",
     "iopub.status.idle": "2021-08-08T15:22:25.017125Z",
     "shell.execute_reply": "2021-08-08T15:22:25.016708Z"
    },
    "papermill": {
     "duration": 0.162796,
     "end_time": "2021-08-08T15:22:25.017239",
     "exception": false,
     "start_time": "2021-08-08T15:22:24.854443",
     "status": "completed"
    },
    "tags": []
   },
   "outputs": [
    {
     "data": {
      "text/plain": [
       "Index(['negative', 'typical', 'indeterminate', 'atypical'], dtype='object')"
      ]
     },
     "execution_count": 44,
     "metadata": {},
     "output_type": "execute_result"
    }
   ],
   "source": [
    "if fast_sub:\n",
    "    study_sub_df = fast_df.copy()\n",
    "else:\n",
    "    study_sub_df = pd.read_csv('/kaggle/input/siim-covid19-detection/sample_submission.csv')\n",
    "    \n",
    "    \n",
    "study_sub_df = study_sub_df[:study_len]\n",
    "\n",
    "study_sub_df[\"file_path\"] = save_study_dir + study_sub_df[\"id\"] + \".png\"\n",
    "study_sub_df['negative'] = 0\n",
    "study_sub_df['typical'] = 0\n",
    "study_sub_df['indeterminate'] = 0\n",
    "study_sub_df['atypical'] = 0\n",
    "\n",
    "label_cols = study_sub_df.columns[3:]\n",
    "label_cols"
   ]
  },
  {
   "cell_type": "code",
   "execution_count": 45,
   "id": "elder-robin",
   "metadata": {
    "execution": {
     "iopub.execute_input": "2021-08-08T15:22:25.211675Z",
     "iopub.status.busy": "2021-08-08T15:22:25.210903Z",
     "iopub.status.idle": "2021-08-08T15:22:25.259336Z",
     "shell.execute_reply": "2021-08-08T15:22:25.258899Z"
    },
    "papermill": {
     "duration": 0.148401,
     "end_time": "2021-08-08T15:22:25.259447",
     "exception": false,
     "start_time": "2021-08-08T15:22:25.111046",
     "status": "completed"
    },
    "tags": []
   },
   "outputs": [],
   "source": [
    "# 对 train set 和 valid set 做数据增强\n",
    "from albumentations import (\n",
    "    HorizontalFlip, VerticalFlip, IAAPerspective, CLAHE, RandomRotate90,\n",
    "    Transpose, Blur, OpticalDistortion, GridDistortion, HueSaturationValue,\n",
    "    IAAAdditiveGaussianNoise, GaussNoise, MotionBlur, MedianBlur, IAAPiecewiseAffine, RandomResizedCrop,\n",
    "    IAASharpen, IAAEmboss, RandomBrightnessContrast, Flip, OneOf, Compose, Normalize, Cutout, CoarseDropout, ShiftScaleRotate, \n",
    "    CenterCrop, Resize, RandomCrop, GaussianBlur, JpegCompression, Downscale, ElasticTransform, ImageCompression\n",
    ")\n",
    "import albumentations\n",
    "from albumentations.pytorch import ToTensorV2\n",
    "\n",
    "transforms_test = Compose([\n",
    "    Resize(CFG.image_size, CFG.image_size),\n",
    "    Normalize()\n",
    "])"
   ]
  },
  {
   "cell_type": "code",
   "execution_count": 46,
   "id": "fixed-pilot",
   "metadata": {
    "execution": {
     "iopub.execute_input": "2021-08-08T15:22:25.454877Z",
     "iopub.status.busy": "2021-08-08T15:22:25.454123Z",
     "iopub.status.idle": "2021-08-08T15:22:25.501753Z",
     "shell.execute_reply": "2021-08-08T15:22:25.502156Z"
    },
    "papermill": {
     "duration": 0.149173,
     "end_time": "2021-08-08T15:22:25.502287",
     "exception": false,
     "start_time": "2021-08-08T15:22:25.353114",
     "status": "completed"
    },
    "tags": []
   },
   "outputs": [],
   "source": [
    "# 定义数据集结构\n",
    "class SIIMDataset(Dataset):\n",
    "    def __init__(self, df, mode, transform=None):\n",
    "        self.df = df.reset_index(drop=True)\n",
    "        self.mode = mode # 数据集模式（train模式或test模式）\n",
    "        self.transform = transform # 数据增强\n",
    "        \n",
    "    def __len__(self):\n",
    "        return len(self.df) # 获取dataframe行数\n",
    "    \n",
    "    def __getitem__(self, index):\n",
    "        row = self.df.loc[index] # 获取指定（index）行\n",
    "        \n",
    "        img = cv2.imread(row.file_path) # 用cv2读入图片数据\n",
    "        img = cv2.cvtColor(img, cv2.COLOR_BGR2RGB) # cv2默认读入是BGR格式，现在转换成RGB格式\n",
    "        \n",
    "        # 如果有数据增强，则做数据增强\n",
    "        if self.transform is not None: \n",
    "            img = self.transform(image=img)['image']\n",
    "        \n",
    "        # 调整一下数据格式\n",
    "        img = img.transpose(2,0,1)\n",
    "        img = img.astype(np.float32)\n",
    "        # img = img/255 \n",
    "        \n",
    "        # 返回 获取到的图片\n",
    "        if self.mode == 'test':\n",
    "            return torch.tensor(img).float() # 如果test模式，则只返回图片\n",
    "        else:\n",
    "            return torch.tensor(img).float(), torch.tensor(row[:4]).float() # 如果其他模式，则返回 图片 和 其所属类别标签"
   ]
  },
  {
   "cell_type": "code",
   "execution_count": 47,
   "id": "supposed-amount",
   "metadata": {
    "execution": {
     "iopub.execute_input": "2021-08-08T15:22:25.724300Z",
     "iopub.status.busy": "2021-08-08T15:22:25.723343Z",
     "iopub.status.idle": "2021-08-08T15:22:25.782750Z",
     "shell.execute_reply": "2021-08-08T15:22:25.782260Z"
    },
    "papermill": {
     "duration": 0.185566,
     "end_time": "2021-08-08T15:22:25.782897",
     "exception": false,
     "start_time": "2021-08-08T15:22:25.597331",
     "status": "completed"
    },
    "tags": []
   },
   "outputs": [],
   "source": [
    "class EfficientNetModel(nn.Module):\n",
    "    def __init__(self, num_classes=4, model_arch=CFG.model_arch, pretrained=True):\n",
    "        super(EfficientNetModel, self).__init__()\n",
    "        e = timm.create_model(model_arch, pretrained=pretrained, drop_rate=0, drop_path_rate=0)\n",
    "        \n",
    "        self.logit = nn.Linear(e.classifier.in_features, num_classes)\n",
    "        self.e1 = nn.Sequential(e.conv_stem, e.bn1, e.act1,)\n",
    "        \n",
    "        self.b0 = e.blocks[0]\n",
    "        self.b1 = e.blocks[1]\n",
    "        self.b2 = e.blocks[2]\n",
    "        self.b3 = e.blocks[3]\n",
    "        self.b4 = e.blocks[4] # channel = 224\n",
    "        self.b5 = e.blocks[5]\n",
    "        self.b6 = e.blocks[6]\n",
    "        \n",
    "        self.mask = nn.Sequential(\n",
    "            nn.Conv2d(224, 128, kernel_size=3, padding=1),\n",
    "            nn.BatchNorm2d(128),\n",
    "            nn.ReLU(inplace=True),\n",
    "            nn.Conv2d(128, 128, kernel_size=3, padding=1),\n",
    "            nn.BatchNorm2d(128),\n",
    "            nn.ReLU(inplace=True),\n",
    "            nn.Conv2d(128, 1, kernel_size=1, padding=0),\n",
    "        )\n",
    "        self.e2 = nn.Sequential(e.conv_head, e.bn2, e.act2,)\n",
    "\n",
    "    def forward(self, x):\n",
    "        batch_size = len(x)\n",
    "        x = self.e1(x)\n",
    "        x = self.b0(x)\n",
    "        x = self.b1(x)\n",
    "        x = self.b2(x)\n",
    "        x = self.b3(x)\n",
    "        x = self.b4(x)\n",
    "        # ==========================\n",
    "        mask = self.mask(x)\n",
    "        # ==========================\n",
    "        x = self.b5(x)\n",
    "        x = self.b6(x)\n",
    "        x = self.e2(x)\n",
    "        x = F.adaptive_avg_pool2d(x,1).reshape(batch_size,-1)\n",
    "        logit = self.logit(x)\n",
    "\n",
    "        return logit, mask\n",
    "    \n",
    "    \n",
    "class EfficientNetB7(nn.Module):\n",
    "    def __init__(self, model_name='tf_efficientnet_b7_ns',pretrained=False):\n",
    "        super().__init__()        \n",
    "        e = timm.create_model(model_name, pretrained=False)\n",
    "#         print(e)\n",
    "        self.logit = nn.Linear(e.classifier.in_features, 4)\n",
    "        self.e1 = nn.Sequential(e.conv_stem, e.bn1, e.act1,)\n",
    "        \n",
    "        self.b0 = e.blocks[0]\n",
    "        self.b1 = e.blocks[1]\n",
    "        self.b2 = e.blocks[2]\n",
    "        self.b3 = e.blocks[3]\n",
    "        self.b4 = e.blocks[4] # channel = 224\n",
    "        self.b5 = e.blocks[5]\n",
    "        self.b6 = e.blocks[6]\n",
    "        \n",
    "        self.mask = nn.Sequential(\n",
    "            nn.Conv2d(224, 128, kernel_size=3, padding=1),\n",
    "            nn.BatchNorm2d(128),\n",
    "            nn.ReLU(inplace=True),\n",
    "            nn.Conv2d(128, 128, kernel_size=3, padding=1),\n",
    "            nn.BatchNorm2d(128),\n",
    "            nn.ReLU(inplace=True),\n",
    "            nn.Conv2d(128, 1, kernel_size=1, padding=0),\n",
    "        )\n",
    "        \n",
    "        self.e2 = nn.Sequential(e.conv_head, e.bn2, e.act2,)\n",
    "    def forward(self, x):\n",
    "        batch_size = len(x)\n",
    "        x = self.e1(x)\n",
    "        x = self.b0(x)\n",
    "        x = self.b1(x)\n",
    "        x = self.b2(x)\n",
    "        x = self.b3(x)\n",
    "        x = self.b4(x)\n",
    "        # ==========================\n",
    "        mask = self.mask(x)\n",
    "        # ==========================\n",
    "        x = self.b5(x)\n",
    "        x = self.b6(x)\n",
    "        x = self.e2(x)\n",
    "        x = F.adaptive_avg_pool2d(x,1).reshape(batch_size,-1)\n",
    "        logit = self.logit(x)\n",
    "#         print(mask.size())\n",
    "#         print(logit.size())\n",
    "        return logit, mask"
   ]
  },
  {
   "cell_type": "code",
   "execution_count": 48,
   "id": "victorian-paintball",
   "metadata": {
    "execution": {
     "iopub.execute_input": "2021-08-08T15:22:25.991410Z",
     "iopub.status.busy": "2021-08-08T15:22:25.990682Z",
     "iopub.status.idle": "2021-08-08T15:23:31.266182Z",
     "shell.execute_reply": "2021-08-08T15:23:31.265669Z"
    },
    "papermill": {
     "duration": 65.376235,
     "end_time": "2021-08-08T15:23:31.266323",
     "exception": false,
     "start_time": "2021-08-08T15:22:25.890088",
     "status": "completed"
    },
    "scrolled": true,
    "tags": []
   },
   "outputs": [
    {
     "name": "stdout",
     "output_type": "stream",
     "text": [
      "/kaggle/input/study-model-2/stage1_4749_fold0_tf_efficientnetv2_l_21k_512_best_9_5701.pth\n",
      "/kaggle/input/study-model-2/stage1_1852_fold1_tf_efficientnetv2_l_21k_512_best_9_5724.pth\n",
      "/kaggle/input/study-model/stage1_0218_fold2_tf_efficientnetv2_l_21k_512_best_7_6025.pth\n",
      "/kaggle/input/study-model/stage1_0218_fold3_tf_efficientnetv2_l_21k_512_best_9_5855.pth\n",
      "/kaggle/input/study-model/stage1_0218_fold4_tf_efficientnetv2_l_21k_512_best_9_5945.pth\n",
      "/kaggle/input/simeffb7/stage1_1852_fold0_tf_efficientnetv2_m_512_best_5_5800.pth\n",
      "/kaggle/input/simeffb7/stage1_1852_fold1_tf_efficientnetv2_m_512_best_6_5684.pth\n",
      "/kaggle/input/simeffb7/stage1_1852_fold2_tf_efficientnetv2_m_512_best_6_6087.pth\n",
      "/kaggle/input/simeffb7/stage1_1852_fold3_tf_efficientnetv2_m_512_best_5_5798.pth\n",
      "/kaggle/input/simeffb7/stage1_1852_fold4_tf_efficientnetv2_m_512_best_3_5965.pth\n",
      "multi_gpu:  True\n",
      "10\n"
     ]
    }
   ],
   "source": [
    "models_list = []\n",
    "def load_study_model():\n",
    "    for one_model_pth in CFG.model_path:\n",
    "        if('v2_m' in one_model_pth):\n",
    "            model = EfficientNetB7(pretrained=False)\n",
    "        else:\n",
    "            model = EfficientNetModel(pretrained=False)\n",
    "        print(one_model_pth)\n",
    "        state = torch.load(one_model_pth, map_location='cuda:0') \n",
    "        if 1:\n",
    "            new_state_dict = OrderedDict()\n",
    "            for k, v in state.items():\n",
    "                k=k[7:]\n",
    "                new_state_dict[k]=v\n",
    "            model.load_state_dict(new_state_dict)\n",
    "        else:\n",
    "            model.load_state_dict(state)\n",
    "        model.to(device);\n",
    "        model.eval()\n",
    "        models_list.append(model)\n",
    "\n",
    "    print(\"multi_gpu: \", CFG.multi_gpu)\n",
    "    print(len(models_list))\n",
    "    \n",
    "load_study_model()"
   ]
  },
  {
   "cell_type": "code",
   "execution_count": 49,
   "id": "excellent-charity",
   "metadata": {
    "execution": {
     "iopub.execute_input": "2021-08-08T15:23:31.471315Z",
     "iopub.status.busy": "2021-08-08T15:23:31.470528Z",
     "iopub.status.idle": "2021-08-08T15:23:31.569168Z",
     "shell.execute_reply": "2021-08-08T15:23:31.568157Z"
    },
    "papermill": {
     "duration": 0.204901,
     "end_time": "2021-08-08T15:23:31.569285",
     "exception": false,
     "start_time": "2021-08-08T15:23:31.364384",
     "status": "completed"
    },
    "tags": []
   },
   "outputs": [],
   "source": [
    "def test_func(models_list,test_loader):\n",
    "    model.eval() # 模型调整到评估模式\n",
    "    all_logits = []\n",
    "    with torch.no_grad():\n",
    "        for images in tqdm(test_loader): \n",
    "            avg_model_preds = []\n",
    "            for model in models_list:\n",
    "                images = images.to(device).float() \n",
    "                logits, mask = model(images)  \n",
    "                avg_model_preds.append(logits)\n",
    "            avg_model_preds = np.mean(avg_model_preds, axis=0)\n",
    "        all_logits += [avg_model_preds.detach().cpu()] \n",
    "        all_logits = torch.cat(all_logits).cpu().numpy() \n",
    "        return all_logits\n",
    "\n",
    "def test_func_tta(models_list, test_loader):\n",
    "     # 模型调整到评估模式\n",
    "    all_logits = []\n",
    "    with torch.no_grad():\n",
    "        for images in tqdm(test_loader): \n",
    "            images = images.to(device).float() \n",
    "            avg_model_preds = []\n",
    "            for model in models_list:\n",
    "                model.eval()\n",
    "                logits1, mask1 = model(images)  \n",
    "                logits2, mask2 = model(images.flip(-1))\n",
    "                logits = (logits1.sigmoid().to('cpu').numpy() + logits2.sigmoid().to('cpu').numpy()) / 2\n",
    "                avg_model_preds.append(logits)\n",
    "            avg_model_preds = np.average(avg_model_preds, axis=0, weights=CFG.class_weight) ####\n",
    "            all_logits.append(avg_model_preds)\n",
    "        all_logits = np.concatenate(all_logits)\n",
    "        return all_logits"
   ]
  },
  {
   "cell_type": "code",
   "execution_count": 50,
   "id": "molecular-rebecca",
   "metadata": {
    "execution": {
     "iopub.execute_input": "2021-08-08T15:23:31.771125Z",
     "iopub.status.busy": "2021-08-08T15:23:31.770343Z",
     "iopub.status.idle": "2021-08-08T15:23:35.889375Z",
     "shell.execute_reply": "2021-08-08T15:23:35.888891Z"
    },
    "papermill": {
     "duration": 4.223111,
     "end_time": "2021-08-08T15:23:35.889499",
     "exception": false,
     "start_time": "2021-08-08T15:23:31.666388",
     "status": "completed"
    },
    "tags": []
   },
   "outputs": [
    {
     "data": {
      "application/vnd.jupyter.widget-view+json": {
       "model_id": "4fc53e5ac3d444e8aa8d426bac62dd6c",
       "version_major": 2,
       "version_minor": 0
      },
      "text/plain": [
       "  0%|          | 0/1 [00:00<?, ?it/s]"
      ]
     },
     "metadata": {},
     "output_type": "display_data"
    },
    {
     "data": {
      "text/html": [
       "<div>\n",
       "<style scoped>\n",
       "    .dataframe tbody tr th:only-of-type {\n",
       "        vertical-align: middle;\n",
       "    }\n",
       "\n",
       "    .dataframe tbody tr th {\n",
       "        vertical-align: top;\n",
       "    }\n",
       "\n",
       "    .dataframe thead th {\n",
       "        text-align: right;\n",
       "    }\n",
       "</style>\n",
       "<table border=\"1\" class=\"dataframe\">\n",
       "  <thead>\n",
       "    <tr style=\"text-align: right;\">\n",
       "      <th></th>\n",
       "      <th>id</th>\n",
       "      <th>PredictionString</th>\n",
       "      <th>id_last_str</th>\n",
       "      <th>PredictionString1</th>\n",
       "      <th>negative</th>\n",
       "      <th>typical</th>\n",
       "      <th>indeterminate</th>\n",
       "      <th>atypical</th>\n",
       "    </tr>\n",
       "  </thead>\n",
       "  <tbody>\n",
       "    <tr>\n",
       "      <th>0</th>\n",
       "      <td>00086460a852_study</td>\n",
       "      <td>negative 1 0 0 1 1</td>\n",
       "      <td>y</td>\n",
       "      <td>negative 1 0 0 1 1</td>\n",
       "      <td>0.082841</td>\n",
       "      <td>0.378069</td>\n",
       "      <td>0.203301</td>\n",
       "      <td>0.335101</td>\n",
       "    </tr>\n",
       "    <tr>\n",
       "      <th>1</th>\n",
       "      <td>000c9c05fd14_study</td>\n",
       "      <td>negative 1 0 0 1 1</td>\n",
       "      <td>y</td>\n",
       "      <td>negative 1 0 0 1 1</td>\n",
       "      <td>0.043461</td>\n",
       "      <td>0.065455</td>\n",
       "      <td>0.068631</td>\n",
       "      <td>0.862181</td>\n",
       "    </tr>\n",
       "    <tr>\n",
       "      <th>2</th>\n",
       "      <td>65761e66de9f_image</td>\n",
       "      <td>none 1 0 0 1 1</td>\n",
       "      <td>e</td>\n",
       "      <td>NaN</td>\n",
       "      <td>NaN</td>\n",
       "      <td>NaN</td>\n",
       "      <td>NaN</td>\n",
       "      <td>NaN</td>\n",
       "    </tr>\n",
       "    <tr>\n",
       "      <th>3</th>\n",
       "      <td>51759b5579bc_image</td>\n",
       "      <td>none 1 0 0 1 1</td>\n",
       "      <td>e</td>\n",
       "      <td>NaN</td>\n",
       "      <td>NaN</td>\n",
       "      <td>NaN</td>\n",
       "      <td>NaN</td>\n",
       "      <td>NaN</td>\n",
       "    </tr>\n",
       "  </tbody>\n",
       "</table>\n",
       "</div>"
      ],
      "text/plain": [
       "                   id    PredictionString id_last_str   PredictionString1  \\\n",
       "0  00086460a852_study  negative 1 0 0 1 1           y  negative 1 0 0 1 1   \n",
       "1  000c9c05fd14_study  negative 1 0 0 1 1           y  negative 1 0 0 1 1   \n",
       "2  65761e66de9f_image      none 1 0 0 1 1           e                 NaN   \n",
       "3  51759b5579bc_image      none 1 0 0 1 1           e                 NaN   \n",
       "\n",
       "   negative   typical  indeterminate  atypical  \n",
       "0  0.082841  0.378069       0.203301  0.335101  \n",
       "1  0.043461  0.065455       0.068631  0.862181  \n",
       "2       NaN       NaN            NaN       NaN  \n",
       "3       NaN       NaN            NaN       NaN  "
      ]
     },
     "execution_count": 50,
     "metadata": {},
     "output_type": "execute_result"
    }
   ],
   "source": [
    "dataset_test = SIIMDataset(study_sub_df, 'test', transform = transforms_test)\n",
    "test_loader = torch.utils.data.DataLoader(dataset_test, batch_size=CFG.valid_bs, shuffle=False, num_workers = CFG.n_worker, drop_last=False)\n",
    "\n",
    "if CFG.tta:\n",
    "    study_sub_df[label_cols] = test_func_tta(models_list,test_loader)\n",
    "else:\n",
    "    study_sub_df[label_cols] = test_func(models_list,test_loader)\n",
    "    \n",
    "    \n",
    "study_sub_df = study_sub_df.drop(\"file_path\",axis=1)\n",
    "study_sub_df.columns = ['id', 'PredictionString1', 'negative', 'typical', 'indeterminate', 'atypical']\n",
    "all_sub_df = pd.merge(all_sub_df, study_sub_df, on = 'id', how = 'left')\n",
    "all_sub_df"
   ]
  },
  {
   "cell_type": "code",
   "execution_count": 51,
   "id": "concrete-parking",
   "metadata": {
    "execution": {
     "iopub.execute_input": "2021-08-08T15:23:36.113967Z",
     "iopub.status.busy": "2021-08-08T15:23:36.113182Z",
     "iopub.status.idle": "2021-08-08T15:23:36.178103Z",
     "shell.execute_reply": "2021-08-08T15:23:36.178499Z"
    },
    "papermill": {
     "duration": 0.183813,
     "end_time": "2021-08-08T15:23:36.178637",
     "exception": false,
     "start_time": "2021-08-08T15:23:35.994824",
     "status": "completed"
    },
    "tags": []
   },
   "outputs": [
    {
     "name": "stderr",
     "output_type": "stream",
     "text": [
      "/opt/conda/lib/python3.7/site-packages/ipykernel/ipkernel.py:283: DeprecationWarning: `should_run_async` will not call `transform_cell` automatically in the future. Please pass the result to `transformed_cell` argument and any exception that happen during thetransform in `preprocessing_exc_tuple` in IPython 7.17 and above.\n",
      "  and should_run_async(code)\n"
     ]
    },
    {
     "data": {
      "text/html": [
       "<div>\n",
       "<style scoped>\n",
       "    .dataframe tbody tr th:only-of-type {\n",
       "        vertical-align: middle;\n",
       "    }\n",
       "\n",
       "    .dataframe tbody tr th {\n",
       "        vertical-align: top;\n",
       "    }\n",
       "\n",
       "    .dataframe thead th {\n",
       "        text-align: right;\n",
       "    }\n",
       "</style>\n",
       "<table border=\"1\" class=\"dataframe\">\n",
       "  <thead>\n",
       "    <tr style=\"text-align: right;\">\n",
       "      <th></th>\n",
       "      <th>id</th>\n",
       "      <th>PredictionString</th>\n",
       "    </tr>\n",
       "  </thead>\n",
       "  <tbody>\n",
       "    <tr>\n",
       "      <th>0</th>\n",
       "      <td>00086460a852_study</td>\n",
       "      <td>negative 0.08284110790118575 0 0 1 1 typical 0...</td>\n",
       "    </tr>\n",
       "    <tr>\n",
       "      <th>1</th>\n",
       "      <td>000c9c05fd14_study</td>\n",
       "      <td>negative 0.04346077236259589 0 0 1 1 typical 0...</td>\n",
       "    </tr>\n",
       "  </tbody>\n",
       "</table>\n",
       "</div>"
      ],
      "text/plain": [
       "                   id                                   PredictionString\n",
       "0  00086460a852_study  negative 0.08284110790118575 0 0 1 1 typical 0...\n",
       "1  000c9c05fd14_study  negative 0.04346077236259589 0 0 1 1 typical 0..."
      ]
     },
     "execution_count": 51,
     "metadata": {},
     "output_type": "execute_result"
    }
   ],
   "source": [
    "for i in range(study_len):\n",
    "    negative = all_sub_df.loc[i,'negative']\n",
    "    typical = all_sub_df.loc[i,'typical']\n",
    "    indeterminate = all_sub_df.loc[i,'indeterminate']\n",
    "    atypical = all_sub_df.loc[i,'atypical']\n",
    "    all_sub_df.loc[i, 'PredictionString'] = f'negative {negative} 0 0 1 1 typical {typical} 0 0 1 1 indeterminate {indeterminate} 0 0 1 1 atypical {atypical} 0 0 1 1'\n",
    "    \n",
    "study_sub_df = all_sub_df[['id', 'PredictionString']][:study_len]\n",
    "study_sub_df"
   ]
  },
  {
   "cell_type": "code",
   "execution_count": 52,
   "id": "finite-slide",
   "metadata": {
    "execution": {
     "iopub.execute_input": "2021-08-08T15:23:36.382093Z",
     "iopub.status.busy": "2021-08-08T15:23:36.381315Z",
     "iopub.status.idle": "2021-08-08T15:23:36.837304Z",
     "shell.execute_reply": "2021-08-08T15:23:36.836508Z"
    },
    "papermill": {
     "duration": 0.559234,
     "end_time": "2021-08-08T15:23:36.837435",
     "exception": false,
     "start_time": "2021-08-08T15:23:36.278201",
     "status": "completed"
    },
    "tags": []
   },
   "outputs": [
    {
     "name": "stderr",
     "output_type": "stream",
     "text": [
      "/opt/conda/lib/python3.7/site-packages/ipykernel/ipkernel.py:283: DeprecationWarning: `should_run_async` will not call `transform_cell` automatically in the future. Please pass the result to `transformed_cell` argument and any exception that happen during thetransform in `preprocessing_exc_tuple` in IPython 7.17 and above.\n",
      "  and should_run_async(code)\n"
     ]
    },
    {
     "data": {
      "text/plain": [
       "40"
      ]
     },
     "execution_count": 52,
     "metadata": {},
     "output_type": "execute_result"
    }
   ],
   "source": [
    "del models_list\n",
    "torch.cuda.empty_cache()\n",
    "gc.collect()"
   ]
  },
  {
   "cell_type": "markdown",
   "id": "important-stationery",
   "metadata": {
    "papermill": {
     "duration": 0.099537,
     "end_time": "2021-08-08T15:23:37.037189",
     "exception": false,
     "start_time": "2021-08-08T15:23:36.937652",
     "status": "completed"
    },
    "tags": []
   },
   "source": [
    "# Merge study and image"
   ]
  },
  {
   "cell_type": "code",
   "execution_count": 53,
   "id": "wanted-election",
   "metadata": {
    "execution": {
     "iopub.execute_input": "2021-08-08T15:23:37.243037Z",
     "iopub.status.busy": "2021-08-08T15:23:37.242213Z",
     "iopub.status.idle": "2021-08-08T15:23:37.303010Z",
     "shell.execute_reply": "2021-08-08T15:23:37.302582Z"
    },
    "papermill": {
     "duration": 0.165598,
     "end_time": "2021-08-08T15:23:37.303126",
     "exception": false,
     "start_time": "2021-08-08T15:23:37.137528",
     "status": "completed"
    },
    "tags": []
   },
   "outputs": [
    {
     "data": {
      "text/html": [
       "<div>\n",
       "<style scoped>\n",
       "    .dataframe tbody tr th:only-of-type {\n",
       "        vertical-align: middle;\n",
       "    }\n",
       "\n",
       "    .dataframe tbody tr th {\n",
       "        vertical-align: top;\n",
       "    }\n",
       "\n",
       "    .dataframe thead th {\n",
       "        text-align: right;\n",
       "    }\n",
       "</style>\n",
       "<table border=\"1\" class=\"dataframe\">\n",
       "  <thead>\n",
       "    <tr style=\"text-align: right;\">\n",
       "      <th></th>\n",
       "      <th>id</th>\n",
       "      <th>dim0</th>\n",
       "      <th>dim1</th>\n",
       "      <th>split</th>\n",
       "      <th>PredictionString_x</th>\n",
       "      <th>PredictionString_y</th>\n",
       "    </tr>\n",
       "  </thead>\n",
       "  <tbody>\n",
       "    <tr>\n",
       "      <th>0</th>\n",
       "      <td>65761e66de9f_image</td>\n",
       "      <td>2330</td>\n",
       "      <td>2783</td>\n",
       "      <td>test</td>\n",
       "      <td>opacity 0.185589805245 669 751 1261 1441 opaci...</td>\n",
       "      <td>opacity 0.8058207631111145 1821 813 2418 1529 ...</td>\n",
       "    </tr>\n",
       "    <tr>\n",
       "      <th>1</th>\n",
       "      <td>51759b5579bc_image</td>\n",
       "      <td>3093</td>\n",
       "      <td>2850</td>\n",
       "      <td>test</td>\n",
       "      <td>opacity 0.110834948719 1900 1235 2565 2095 opa...</td>\n",
       "      <td>opacity 0.7418073415756226 145 1851 998 2550 o...</td>\n",
       "    </tr>\n",
       "  </tbody>\n",
       "</table>\n",
       "</div>"
      ],
      "text/plain": [
       "                   id  dim0  dim1 split  \\\n",
       "0  65761e66de9f_image  2330  2783  test   \n",
       "1  51759b5579bc_image  3093  2850  test   \n",
       "\n",
       "                                  PredictionString_x  \\\n",
       "0  opacity 0.185589805245 669 751 1261 1441 opaci...   \n",
       "1  opacity 0.110834948719 1900 1235 2565 2095 opa...   \n",
       "\n",
       "                                  PredictionString_y  \n",
       "0  opacity 0.8058207631111145 1821 813 2418 1529 ...  \n",
       "1  opacity 0.7418073415756226 145 1851 998 2550 o...  "
      ]
     },
     "execution_count": 53,
     "metadata": {},
     "output_type": "execute_result"
    }
   ],
   "source": [
    "image_all_df = meta.merge(yolov5_df,on=\"id\").merge(mmdet_df,on=\"id\")\n",
    "image_all_df"
   ]
  },
  {
   "cell_type": "code",
   "execution_count": 54,
   "id": "multiple-perspective",
   "metadata": {
    "execution": {
     "iopub.execute_input": "2021-08-08T15:23:37.523354Z",
     "iopub.status.busy": "2021-08-08T15:23:37.522563Z",
     "iopub.status.idle": "2021-08-08T15:23:37.618171Z",
     "shell.execute_reply": "2021-08-08T15:23:37.618569Z"
    },
    "papermill": {
     "duration": 0.212404,
     "end_time": "2021-08-08T15:23:37.618791",
     "exception": false,
     "start_time": "2021-08-08T15:23:37.406387",
     "status": "completed"
    },
    "tags": []
   },
   "outputs": [
    {
     "name": "stderr",
     "output_type": "stream",
     "text": [
      "/opt/conda/lib/python3.7/site-packages/ipykernel/ipkernel.py:283: DeprecationWarning: `should_run_async` will not call `transform_cell` automatically in the future. Please pass the result to `transformed_cell` argument and any exception that happen during thetransform in `preprocessing_exc_tuple` in IPython 7.17 and above.\n",
      "  and should_run_async(code)\n"
     ]
    },
    {
     "data": {
      "text/html": [
       "<div>\n",
       "<style scoped>\n",
       "    .dataframe tbody tr th:only-of-type {\n",
       "        vertical-align: middle;\n",
       "    }\n",
       "\n",
       "    .dataframe tbody tr th {\n",
       "        vertical-align: top;\n",
       "    }\n",
       "\n",
       "    .dataframe thead th {\n",
       "        text-align: right;\n",
       "    }\n",
       "</style>\n",
       "<table border=\"1\" class=\"dataframe\">\n",
       "  <thead>\n",
       "    <tr style=\"text-align: right;\">\n",
       "      <th></th>\n",
       "      <th>id</th>\n",
       "      <th>PredictionString</th>\n",
       "    </tr>\n",
       "  </thead>\n",
       "  <tbody>\n",
       "    <tr>\n",
       "      <th>0</th>\n",
       "      <td>65761e66de9f_image</td>\n",
       "      <td>opacity 0.3235451877117157 1825 827 2414 1518 ...</td>\n",
       "    </tr>\n",
       "    <tr>\n",
       "      <th>1</th>\n",
       "      <td>51759b5579bc_image</td>\n",
       "      <td>opacity 0.2455153912305832 163 1824 1004 2527 ...</td>\n",
       "    </tr>\n",
       "  </tbody>\n",
       "</table>\n",
       "</div>"
      ],
      "text/plain": [
       "                   id                                   PredictionString\n",
       "0  65761e66de9f_image  opacity 0.3235451877117157 1825 827 2414 1518 ...\n",
       "1  51759b5579bc_image  opacity 0.2455153912305832 163 1824 1004 2527 ..."
      ]
     },
     "execution_count": 54,
     "metadata": {},
     "output_type": "execute_result"
    }
   ],
   "source": [
    "from ensemble_boxes import *\n",
    "\n",
    "weights = [3, 1]\n",
    "iou_thr = 0.6\n",
    "skip_box_thr = 0.0001\n",
    "image_output_list = []\n",
    "\n",
    "for index, id_, dim0, dim1, split, yolo5_boxes, mmdet_boxes in image_all_df.itertuples():\n",
    "    yolo5_boxes_list = yolo5_boxes.split(\" \"); mmdet_boxes_list = mmdet_boxes.split(\" \")\n",
    "    assert len(yolo5_boxes_list) % 6 == 0;    assert len(mmdet_boxes_list) % 6 == 0\n",
    "    none_list = yolo5_boxes_list[-6:]\n",
    "    yolo5_boxes_list = yolo5_boxes_list[:-6];  mmdet_boxes_list = mmdet_boxes_list[:-6]\n",
    "    boxes_list = [[],[]]\n",
    "    scores_list = [[],[]]\n",
    "    for i in range(len(yolo5_boxes_list)):\n",
    "        if i % 6 == 1:\n",
    "            scores_list[0].append(float(yolo5_boxes_list[i]))\n",
    "        if i % 6 == 2:\n",
    "            boxes_list[0].append([float(yolo5_boxes_list[i])/dim1,\n",
    "                                  float(yolo5_boxes_list[i+1])/dim0,\n",
    "                                  float(yolo5_boxes_list[i+2])/dim1,\n",
    "                                  float(yolo5_boxes_list[i+3])/dim0])\n",
    "            \n",
    "    for i in range(len(mmdet_boxes_list)):\n",
    "        if i % 6 == 1:\n",
    "            scores_list[1].append(float(mmdet_boxes_list[i]))\n",
    "        if i % 6 == 2:\n",
    "            boxes_list[1].append([float(mmdet_boxes_list[i])/dim1,\n",
    "                                  float(mmdet_boxes_list[i+1])/dim0,\n",
    "                                  float(mmdet_boxes_list[i+2])/dim1,\n",
    "                                  float(mmdet_boxes_list[i+3])/dim0]) \n",
    "            \n",
    "    labels_list = [[0]*len(scores_list[0]), [0]*len(scores_list[1])]        \n",
    "    boxes, scores, labels = weighted_boxes_fusion(boxes_list, scores_list, labels_list, weights=weights, iou_thr=iou_thr, skip_box_thr=skip_box_thr)\n",
    "    \n",
    "    output_str = \"\"\n",
    "    for box, score in zip(boxes, scores): \n",
    "        output_str += \"opacity \"\n",
    "        output_str += f\"{score} \"\n",
    "        for b_i in range(4):\n",
    "            if b_i in [0,2]:\n",
    "                output_str += f\"{int(round(box[b_i]*dim1,0))} \"\n",
    "            elif b_i in [1,3]:\n",
    "                output_str += f\"{int(round(box[b_i]*dim0,0))} \"\n",
    "\n",
    "    output_str += \" \".join(none_list)\n",
    "    image_output_list.append(output_str)\n",
    "\n",
    "    \n",
    "image_all_df[\"PredictionString\"] = image_output_list\n",
    "image_all_df = image_all_df[[\"id\", \"PredictionString\"]]\n",
    "image_all_df"
   ]
  },
  {
   "cell_type": "code",
   "execution_count": 55,
   "id": "comfortable-sunday",
   "metadata": {
    "execution": {
     "iopub.execute_input": "2021-08-08T15:23:37.824271Z",
     "iopub.status.busy": "2021-08-08T15:23:37.823534Z",
     "iopub.status.idle": "2021-08-08T15:23:37.882211Z",
     "shell.execute_reply": "2021-08-08T15:23:37.882611Z"
    },
    "papermill": {
     "duration": 0.16355,
     "end_time": "2021-08-08T15:23:37.882730",
     "exception": false,
     "start_time": "2021-08-08T15:23:37.719180",
     "status": "completed"
    },
    "tags": []
   },
   "outputs": [
    {
     "name": "stderr",
     "output_type": "stream",
     "text": [
      "/opt/conda/lib/python3.7/site-packages/ipykernel/ipkernel.py:283: DeprecationWarning: `should_run_async` will not call `transform_cell` automatically in the future. Please pass the result to `transformed_cell` argument and any exception that happen during thetransform in `preprocessing_exc_tuple` in IPython 7.17 and above.\n",
      "  and should_run_async(code)\n"
     ]
    },
    {
     "data": {
      "text/html": [
       "<div>\n",
       "<style scoped>\n",
       "    .dataframe tbody tr th:only-of-type {\n",
       "        vertical-align: middle;\n",
       "    }\n",
       "\n",
       "    .dataframe tbody tr th {\n",
       "        vertical-align: top;\n",
       "    }\n",
       "\n",
       "    .dataframe thead th {\n",
       "        text-align: right;\n",
       "    }\n",
       "</style>\n",
       "<table border=\"1\" class=\"dataframe\">\n",
       "  <thead>\n",
       "    <tr style=\"text-align: right;\">\n",
       "      <th></th>\n",
       "      <th>id</th>\n",
       "      <th>PredictionString</th>\n",
       "    </tr>\n",
       "  </thead>\n",
       "  <tbody>\n",
       "    <tr>\n",
       "      <th>0</th>\n",
       "      <td>00086460a852_study</td>\n",
       "      <td>negative 0.08284110790118575 0 0 1 1 typical 0...</td>\n",
       "    </tr>\n",
       "    <tr>\n",
       "      <th>1</th>\n",
       "      <td>000c9c05fd14_study</td>\n",
       "      <td>negative 0.04346077236259589 0 0 1 1 typical 0...</td>\n",
       "    </tr>\n",
       "    <tr>\n",
       "      <th>2</th>\n",
       "      <td>65761e66de9f_image</td>\n",
       "      <td>opacity 0.3235451877117157 1825 827 2414 1518 ...</td>\n",
       "    </tr>\n",
       "    <tr>\n",
       "      <th>3</th>\n",
       "      <td>51759b5579bc_image</td>\n",
       "      <td>opacity 0.2455153912305832 163 1824 1004 2527 ...</td>\n",
       "    </tr>\n",
       "  </tbody>\n",
       "</table>\n",
       "</div>"
      ],
      "text/plain": [
       "                   id                                   PredictionString\n",
       "0  00086460a852_study  negative 0.08284110790118575 0 0 1 1 typical 0...\n",
       "1  000c9c05fd14_study  negative 0.04346077236259589 0 0 1 1 typical 0...\n",
       "2  65761e66de9f_image  opacity 0.3235451877117157 1825 827 2414 1518 ...\n",
       "3  51759b5579bc_image  opacity 0.2455153912305832 163 1824 1004 2527 ..."
      ]
     },
     "execution_count": 55,
     "metadata": {},
     "output_type": "execute_result"
    }
   ],
   "source": [
    "study_sub_df = study_sub_df.append(image_all_df).reset_index(drop=True)\n",
    "study_sub_df.to_csv('/kaggle/working/submission.csv',index = False)\n",
    "study_sub_df"
   ]
  },
  {
   "cell_type": "code",
   "execution_count": 56,
   "id": "hispanic-drinking",
   "metadata": {
    "execution": {
     "iopub.execute_input": "2021-08-08T15:23:38.130514Z",
     "iopub.status.busy": "2021-08-08T15:23:38.129708Z",
     "iopub.status.idle": "2021-08-08T15:23:38.184526Z",
     "shell.execute_reply": "2021-08-08T15:23:38.184945Z"
    },
    "papermill": {
     "duration": 0.161835,
     "end_time": "2021-08-08T15:23:38.185075",
     "exception": false,
     "start_time": "2021-08-08T15:23:38.023240",
     "status": "completed"
    },
    "tags": []
   },
   "outputs": [
    {
     "name": "stderr",
     "output_type": "stream",
     "text": [
      "/opt/conda/lib/python3.7/site-packages/ipykernel/ipkernel.py:283: DeprecationWarning: `should_run_async` will not call `transform_cell` automatically in the future. Please pass the result to `transformed_cell` argument and any exception that happen during thetransform in `preprocessing_exc_tuple` in IPython 7.17 and above.\n",
      "  and should_run_async(code)\n"
     ]
    }
   ],
   "source": [
    "shutil.rmtree('/kaggle/working/yolov5')"
   ]
  }
 ],
 "metadata": {
  "kernelspec": {
   "display_name": "Python 3",
   "language": "python",
   "name": "python3"
  },
  "language_info": {
   "codemirror_mode": {
    "name": "ipython",
    "version": 3
   },
   "file_extension": ".py",
   "mimetype": "text/x-python",
   "name": "python",
   "nbconvert_exporter": "python",
   "pygments_lexer": "ipython3",
   "version": "3.7.10"
  },
  "papermill": {
   "default_parameters": {},
   "duration": 594.954418,
   "end_time": "2021-08-08T15:23:39.750649",
   "environment_variables": {},
   "exception": null,
   "input_path": "__notebook__.ipynb",
   "output_path": "__notebook__.ipynb",
   "parameters": {},
   "start_time": "2021-08-08T15:13:44.796231",
   "version": "2.3.3"
  },
  "widgets": {
   "application/vnd.jupyter.widget-state+json": {
    "state": {
     "05733341489a45bc92a60f2763468f70": {
      "model_module": "@jupyter-widgets/base",
      "model_module_version": "1.2.0",
      "model_name": "LayoutModel",
      "state": {
       "_model_module": "@jupyter-widgets/base",
       "_model_module_version": "1.2.0",
       "_model_name": "LayoutModel",
       "_view_count": null,
       "_view_module": "@jupyter-widgets/base",
       "_view_module_version": "1.2.0",
       "_view_name": "LayoutView",
       "align_content": null,
       "align_items": null,
       "align_self": null,
       "border": null,
       "bottom": null,
       "display": null,
       "flex": null,
       "flex_flow": null,
       "grid_area": null,
       "grid_auto_columns": null,
       "grid_auto_flow": null,
       "grid_auto_rows": null,
       "grid_column": null,
       "grid_gap": null,
       "grid_row": null,
       "grid_template_areas": null,
       "grid_template_columns": null,
       "grid_template_rows": null,
       "height": null,
       "justify_content": null,
       "justify_items": null,
       "left": null,
       "margin": null,
       "max_height": null,
       "max_width": null,
       "min_height": null,
       "min_width": null,
       "object_fit": null,
       "object_position": null,
       "order": null,
       "overflow": null,
       "overflow_x": null,
       "overflow_y": null,
       "padding": null,
       "right": null,
       "top": null,
       "visibility": null,
       "width": null
      }
     },
     "0da7cfbe73394f7aa813c15ae9ea0464": {
      "model_module": "@jupyter-widgets/controls",
      "model_module_version": "1.5.0",
      "model_name": "HBoxModel",
      "state": {
       "_dom_classes": [],
       "_model_module": "@jupyter-widgets/controls",
       "_model_module_version": "1.5.0",
       "_model_name": "HBoxModel",
       "_view_count": null,
       "_view_module": "@jupyter-widgets/controls",
       "_view_module_version": "1.5.0",
       "_view_name": "HBoxView",
       "box_style": "",
       "children": [
        "IPY_MODEL_d6106bd87a1848649de2b52a55fbe775",
        "IPY_MODEL_be068344caa04f7fba626041ded17e9a",
        "IPY_MODEL_a82aa14ed2854dd2a98a4f002299584f"
       ],
       "layout": "IPY_MODEL_c83e0a301c3540f5bcd07846e1d34ca5"
      }
     },
     "1ac58a384e854215b67ea553176c9463": {
      "model_module": "@jupyter-widgets/controls",
      "model_module_version": "1.5.0",
      "model_name": "ProgressStyleModel",
      "state": {
       "_model_module": "@jupyter-widgets/controls",
       "_model_module_version": "1.5.0",
       "_model_name": "ProgressStyleModel",
       "_view_count": null,
       "_view_module": "@jupyter-widgets/base",
       "_view_module_version": "1.2.0",
       "_view_name": "StyleView",
       "bar_color": null,
       "description_width": ""
      }
     },
     "322576a4f6fe443f9272294fbe8e7d63": {
      "model_module": "@jupyter-widgets/base",
      "model_module_version": "1.2.0",
      "model_name": "LayoutModel",
      "state": {
       "_model_module": "@jupyter-widgets/base",
       "_model_module_version": "1.2.0",
       "_model_name": "LayoutModel",
       "_view_count": null,
       "_view_module": "@jupyter-widgets/base",
       "_view_module_version": "1.2.0",
       "_view_name": "LayoutView",
       "align_content": null,
       "align_items": null,
       "align_self": null,
       "border": null,
       "bottom": null,
       "display": null,
       "flex": null,
       "flex_flow": null,
       "grid_area": null,
       "grid_auto_columns": null,
       "grid_auto_flow": null,
       "grid_auto_rows": null,
       "grid_column": null,
       "grid_gap": null,
       "grid_row": null,
       "grid_template_areas": null,
       "grid_template_columns": null,
       "grid_template_rows": null,
       "height": null,
       "justify_content": null,
       "justify_items": null,
       "left": null,
       "margin": null,
       "max_height": null,
       "max_width": null,
       "min_height": null,
       "min_width": null,
       "object_fit": null,
       "object_position": null,
       "order": null,
       "overflow": null,
       "overflow_x": null,
       "overflow_y": null,
       "padding": null,
       "right": null,
       "top": null,
       "visibility": null,
       "width": null
      }
     },
     "343e1b9c452643f3acec9a0dc55a1c1d": {
      "model_module": "@jupyter-widgets/controls",
      "model_module_version": "1.5.0",
      "model_name": "DescriptionStyleModel",
      "state": {
       "_model_module": "@jupyter-widgets/controls",
       "_model_module_version": "1.5.0",
       "_model_name": "DescriptionStyleModel",
       "_view_count": null,
       "_view_module": "@jupyter-widgets/base",
       "_view_module_version": "1.2.0",
       "_view_name": "StyleView",
       "description_width": ""
      }
     },
     "4fc53e5ac3d444e8aa8d426bac62dd6c": {
      "model_module": "@jupyter-widgets/controls",
      "model_module_version": "1.5.0",
      "model_name": "HBoxModel",
      "state": {
       "_dom_classes": [],
       "_model_module": "@jupyter-widgets/controls",
       "_model_module_version": "1.5.0",
       "_model_name": "HBoxModel",
       "_view_count": null,
       "_view_module": "@jupyter-widgets/controls",
       "_view_module_version": "1.5.0",
       "_view_name": "HBoxView",
       "box_style": "",
       "children": [
        "IPY_MODEL_e902510ff9f643579416d84a7996f4bb",
        "IPY_MODEL_951f155eb44545c9a02ac52b4f2e4160",
        "IPY_MODEL_9fb11a740ea4442db9d886addd0a0ae7"
       ],
       "layout": "IPY_MODEL_febb3ff0fec44edc8751ce793c7aa23e"
      }
     },
     "60f6934baeb8403aa670c78900a29bfe": {
      "model_module": "@jupyter-widgets/controls",
      "model_module_version": "1.5.0",
      "model_name": "DescriptionStyleModel",
      "state": {
       "_model_module": "@jupyter-widgets/controls",
       "_model_module_version": "1.5.0",
       "_model_name": "DescriptionStyleModel",
       "_view_count": null,
       "_view_module": "@jupyter-widgets/base",
       "_view_module_version": "1.2.0",
       "_view_name": "StyleView",
       "description_width": ""
      }
     },
     "6ad78fcae8c645508c038c299e3b14b3": {
      "model_module": "@jupyter-widgets/controls",
      "model_module_version": "1.5.0",
      "model_name": "DescriptionStyleModel",
      "state": {
       "_model_module": "@jupyter-widgets/controls",
       "_model_module_version": "1.5.0",
       "_model_name": "DescriptionStyleModel",
       "_view_count": null,
       "_view_module": "@jupyter-widgets/base",
       "_view_module_version": "1.2.0",
       "_view_name": "StyleView",
       "description_width": ""
      }
     },
     "7ec1d076190541c6ac837d7280a3e30f": {
      "model_module": "@jupyter-widgets/base",
      "model_module_version": "1.2.0",
      "model_name": "LayoutModel",
      "state": {
       "_model_module": "@jupyter-widgets/base",
       "_model_module_version": "1.2.0",
       "_model_name": "LayoutModel",
       "_view_count": null,
       "_view_module": "@jupyter-widgets/base",
       "_view_module_version": "1.2.0",
       "_view_name": "LayoutView",
       "align_content": null,
       "align_items": null,
       "align_self": null,
       "border": null,
       "bottom": null,
       "display": null,
       "flex": null,
       "flex_flow": null,
       "grid_area": null,
       "grid_auto_columns": null,
       "grid_auto_flow": null,
       "grid_auto_rows": null,
       "grid_column": null,
       "grid_gap": null,
       "grid_row": null,
       "grid_template_areas": null,
       "grid_template_columns": null,
       "grid_template_rows": null,
       "height": null,
       "justify_content": null,
       "justify_items": null,
       "left": null,
       "margin": null,
       "max_height": null,
       "max_width": null,
       "min_height": null,
       "min_width": null,
       "object_fit": null,
       "object_position": null,
       "order": null,
       "overflow": null,
       "overflow_x": null,
       "overflow_y": null,
       "padding": null,
       "right": null,
       "top": null,
       "visibility": null,
       "width": null
      }
     },
     "85a5322b112748a0b4834249ce3452ff": {
      "model_module": "@jupyter-widgets/controls",
      "model_module_version": "1.5.0",
      "model_name": "HBoxModel",
      "state": {
       "_dom_classes": [],
       "_model_module": "@jupyter-widgets/controls",
       "_model_module_version": "1.5.0",
       "_model_name": "HBoxModel",
       "_view_count": null,
       "_view_module": "@jupyter-widgets/controls",
       "_view_module_version": "1.5.0",
       "_view_name": "HBoxView",
       "box_style": "",
       "children": [
        "IPY_MODEL_bcbaa703c6f34237a2e5591d02aed974",
        "IPY_MODEL_d59e0666c89d4512aa0e09ba95bb6410",
        "IPY_MODEL_c167bd88a1154381bebf30671b49edfe"
       ],
       "layout": "IPY_MODEL_e42cdf18c7ac45cd82708e690a8240ec"
      }
     },
     "951f155eb44545c9a02ac52b4f2e4160": {
      "model_module": "@jupyter-widgets/controls",
      "model_module_version": "1.5.0",
      "model_name": "FloatProgressModel",
      "state": {
       "_dom_classes": [],
       "_model_module": "@jupyter-widgets/controls",
       "_model_module_version": "1.5.0",
       "_model_name": "FloatProgressModel",
       "_view_count": null,
       "_view_module": "@jupyter-widgets/controls",
       "_view_module_version": "1.5.0",
       "_view_name": "ProgressView",
       "bar_style": "success",
       "description": "",
       "description_tooltip": null,
       "layout": "IPY_MODEL_be1b6051e4d14cfbb59359d9b0350979",
       "max": 1.0,
       "min": 0.0,
       "orientation": "horizontal",
       "style": "IPY_MODEL_a8f8c9126470401898ff6307019be1b0",
       "value": 1.0
      }
     },
     "9e258fc40f024361a293d8a26c7d3025": {
      "model_module": "@jupyter-widgets/controls",
      "model_module_version": "1.5.0",
      "model_name": "DescriptionStyleModel",
      "state": {
       "_model_module": "@jupyter-widgets/controls",
       "_model_module_version": "1.5.0",
       "_model_name": "DescriptionStyleModel",
       "_view_count": null,
       "_view_module": "@jupyter-widgets/base",
       "_view_module_version": "1.2.0",
       "_view_name": "StyleView",
       "description_width": ""
      }
     },
     "9fb11a740ea4442db9d886addd0a0ae7": {
      "model_module": "@jupyter-widgets/controls",
      "model_module_version": "1.5.0",
      "model_name": "HTMLModel",
      "state": {
       "_dom_classes": [],
       "_model_module": "@jupyter-widgets/controls",
       "_model_module_version": "1.5.0",
       "_model_name": "HTMLModel",
       "_view_count": null,
       "_view_module": "@jupyter-widgets/controls",
       "_view_module_version": "1.5.0",
       "_view_name": "HTMLView",
       "description": "",
       "description_tooltip": null,
       "layout": "IPY_MODEL_fac03817a7204cf1853a52d6bce74d9b",
       "placeholder": "​",
       "style": "IPY_MODEL_9e258fc40f024361a293d8a26c7d3025",
       "value": " 1/1 [00:04&lt;00:00,  3.84s/it]"
      }
     },
     "a46e2714fd4a4ef1b7889e814185eb50": {
      "model_module": "@jupyter-widgets/base",
      "model_module_version": "1.2.0",
      "model_name": "LayoutModel",
      "state": {
       "_model_module": "@jupyter-widgets/base",
       "_model_module_version": "1.2.0",
       "_model_name": "LayoutModel",
       "_view_count": null,
       "_view_module": "@jupyter-widgets/base",
       "_view_module_version": "1.2.0",
       "_view_name": "LayoutView",
       "align_content": null,
       "align_items": null,
       "align_self": null,
       "border": null,
       "bottom": null,
       "display": null,
       "flex": null,
       "flex_flow": null,
       "grid_area": null,
       "grid_auto_columns": null,
       "grid_auto_flow": null,
       "grid_auto_rows": null,
       "grid_column": null,
       "grid_gap": null,
       "grid_row": null,
       "grid_template_areas": null,
       "grid_template_columns": null,
       "grid_template_rows": null,
       "height": null,
       "justify_content": null,
       "justify_items": null,
       "left": null,
       "margin": null,
       "max_height": null,
       "max_width": null,
       "min_height": null,
       "min_width": null,
       "object_fit": null,
       "object_position": null,
       "order": null,
       "overflow": null,
       "overflow_x": null,
       "overflow_y": null,
       "padding": null,
       "right": null,
       "top": null,
       "visibility": null,
       "width": null
      }
     },
     "a82aa14ed2854dd2a98a4f002299584f": {
      "model_module": "@jupyter-widgets/controls",
      "model_module_version": "1.5.0",
      "model_name": "HTMLModel",
      "state": {
       "_dom_classes": [],
       "_model_module": "@jupyter-widgets/controls",
       "_model_module_version": "1.5.0",
       "_model_name": "HTMLModel",
       "_view_count": null,
       "_view_module": "@jupyter-widgets/controls",
       "_view_module_version": "1.5.0",
       "_view_name": "HTMLView",
       "description": "",
       "description_tooltip": null,
       "layout": "IPY_MODEL_d26290f36d654f92bfe139cf0f8baa53",
       "placeholder": "​",
       "style": "IPY_MODEL_e39448c39b0d4f7691a9e1873a9110e7",
       "value": " 1/1 [00:03&lt;00:00,  3.06s/it]"
      }
     },
     "a8f8c9126470401898ff6307019be1b0": {
      "model_module": "@jupyter-widgets/controls",
      "model_module_version": "1.5.0",
      "model_name": "ProgressStyleModel",
      "state": {
       "_model_module": "@jupyter-widgets/controls",
       "_model_module_version": "1.5.0",
       "_model_name": "ProgressStyleModel",
       "_view_count": null,
       "_view_module": "@jupyter-widgets/base",
       "_view_module_version": "1.2.0",
       "_view_name": "StyleView",
       "bar_color": null,
       "description_width": ""
      }
     },
     "aa4e000b48934e71a43ca07fd33a98a5": {
      "model_module": "@jupyter-widgets/base",
      "model_module_version": "1.2.0",
      "model_name": "LayoutModel",
      "state": {
       "_model_module": "@jupyter-widgets/base",
       "_model_module_version": "1.2.0",
       "_model_name": "LayoutModel",
       "_view_count": null,
       "_view_module": "@jupyter-widgets/base",
       "_view_module_version": "1.2.0",
       "_view_name": "LayoutView",
       "align_content": null,
       "align_items": null,
       "align_self": null,
       "border": null,
       "bottom": null,
       "display": null,
       "flex": null,
       "flex_flow": null,
       "grid_area": null,
       "grid_auto_columns": null,
       "grid_auto_flow": null,
       "grid_auto_rows": null,
       "grid_column": null,
       "grid_gap": null,
       "grid_row": null,
       "grid_template_areas": null,
       "grid_template_columns": null,
       "grid_template_rows": null,
       "height": null,
       "justify_content": null,
       "justify_items": null,
       "left": null,
       "margin": null,
       "max_height": null,
       "max_width": null,
       "min_height": null,
       "min_width": null,
       "object_fit": null,
       "object_position": null,
       "order": null,
       "overflow": null,
       "overflow_x": null,
       "overflow_y": null,
       "padding": null,
       "right": null,
       "top": null,
       "visibility": null,
       "width": null
      }
     },
     "b5a03c2a45784b6bbadc5b8e0af601ad": {
      "model_module": "@jupyter-widgets/controls",
      "model_module_version": "1.5.0",
      "model_name": "DescriptionStyleModel",
      "state": {
       "_model_module": "@jupyter-widgets/controls",
       "_model_module_version": "1.5.0",
       "_model_name": "DescriptionStyleModel",
       "_view_count": null,
       "_view_module": "@jupyter-widgets/base",
       "_view_module_version": "1.2.0",
       "_view_name": "StyleView",
       "description_width": ""
      }
     },
     "bcbaa703c6f34237a2e5591d02aed974": {
      "model_module": "@jupyter-widgets/controls",
      "model_module_version": "1.5.0",
      "model_name": "HTMLModel",
      "state": {
       "_dom_classes": [],
       "_model_module": "@jupyter-widgets/controls",
       "_model_module_version": "1.5.0",
       "_model_name": "HTMLModel",
       "_view_count": null,
       "_view_module": "@jupyter-widgets/controls",
       "_view_module_version": "1.5.0",
       "_view_name": "HTMLView",
       "description": "",
       "description_tooltip": null,
       "layout": "IPY_MODEL_aa4e000b48934e71a43ca07fd33a98a5",
       "placeholder": "​",
       "style": "IPY_MODEL_60f6934baeb8403aa670c78900a29bfe",
       "value": "100%"
      }
     },
     "be068344caa04f7fba626041ded17e9a": {
      "model_module": "@jupyter-widgets/controls",
      "model_module_version": "1.5.0",
      "model_name": "FloatProgressModel",
      "state": {
       "_dom_classes": [],
       "_model_module": "@jupyter-widgets/controls",
       "_model_module_version": "1.5.0",
       "_model_name": "FloatProgressModel",
       "_view_count": null,
       "_view_module": "@jupyter-widgets/controls",
       "_view_module_version": "1.5.0",
       "_view_name": "ProgressView",
       "bar_style": "success",
       "description": "",
       "description_tooltip": null,
       "layout": "IPY_MODEL_a46e2714fd4a4ef1b7889e814185eb50",
       "max": 1.0,
       "min": 0.0,
       "orientation": "horizontal",
       "style": "IPY_MODEL_1ac58a384e854215b67ea553176c9463",
       "value": 1.0
      }
     },
     "be1b6051e4d14cfbb59359d9b0350979": {
      "model_module": "@jupyter-widgets/base",
      "model_module_version": "1.2.0",
      "model_name": "LayoutModel",
      "state": {
       "_model_module": "@jupyter-widgets/base",
       "_model_module_version": "1.2.0",
       "_model_name": "LayoutModel",
       "_view_count": null,
       "_view_module": "@jupyter-widgets/base",
       "_view_module_version": "1.2.0",
       "_view_name": "LayoutView",
       "align_content": null,
       "align_items": null,
       "align_self": null,
       "border": null,
       "bottom": null,
       "display": null,
       "flex": null,
       "flex_flow": null,
       "grid_area": null,
       "grid_auto_columns": null,
       "grid_auto_flow": null,
       "grid_auto_rows": null,
       "grid_column": null,
       "grid_gap": null,
       "grid_row": null,
       "grid_template_areas": null,
       "grid_template_columns": null,
       "grid_template_rows": null,
       "height": null,
       "justify_content": null,
       "justify_items": null,
       "left": null,
       "margin": null,
       "max_height": null,
       "max_width": null,
       "min_height": null,
       "min_width": null,
       "object_fit": null,
       "object_position": null,
       "order": null,
       "overflow": null,
       "overflow_x": null,
       "overflow_y": null,
       "padding": null,
       "right": null,
       "top": null,
       "visibility": null,
       "width": null
      }
     },
     "c167bd88a1154381bebf30671b49edfe": {
      "model_module": "@jupyter-widgets/controls",
      "model_module_version": "1.5.0",
      "model_name": "HTMLModel",
      "state": {
       "_dom_classes": [],
       "_model_module": "@jupyter-widgets/controls",
       "_model_module_version": "1.5.0",
       "_model_name": "HTMLModel",
       "_view_count": null,
       "_view_module": "@jupyter-widgets/controls",
       "_view_module_version": "1.5.0",
       "_view_name": "HTMLView",
       "description": "",
       "description_tooltip": null,
       "layout": "IPY_MODEL_05733341489a45bc92a60f2763468f70",
       "placeholder": "​",
       "style": "IPY_MODEL_6ad78fcae8c645508c038c299e3b14b3",
       "value": " 2/2 [00:00&lt;00:00,  4.72it/s]"
      }
     },
     "c27befaf62ab4d4d83ba63003189104c": {
      "model_module": "@jupyter-widgets/controls",
      "model_module_version": "1.5.0",
      "model_name": "ProgressStyleModel",
      "state": {
       "_model_module": "@jupyter-widgets/controls",
       "_model_module_version": "1.5.0",
       "_model_name": "ProgressStyleModel",
       "_view_count": null,
       "_view_module": "@jupyter-widgets/base",
       "_view_module_version": "1.2.0",
       "_view_name": "StyleView",
       "bar_color": null,
       "description_width": ""
      }
     },
     "c83e0a301c3540f5bcd07846e1d34ca5": {
      "model_module": "@jupyter-widgets/base",
      "model_module_version": "1.2.0",
      "model_name": "LayoutModel",
      "state": {
       "_model_module": "@jupyter-widgets/base",
       "_model_module_version": "1.2.0",
       "_model_name": "LayoutModel",
       "_view_count": null,
       "_view_module": "@jupyter-widgets/base",
       "_view_module_version": "1.2.0",
       "_view_name": "LayoutView",
       "align_content": null,
       "align_items": null,
       "align_self": null,
       "border": null,
       "bottom": null,
       "display": null,
       "flex": null,
       "flex_flow": null,
       "grid_area": null,
       "grid_auto_columns": null,
       "grid_auto_flow": null,
       "grid_auto_rows": null,
       "grid_column": null,
       "grid_gap": null,
       "grid_row": null,
       "grid_template_areas": null,
       "grid_template_columns": null,
       "grid_template_rows": null,
       "height": null,
       "justify_content": null,
       "justify_items": null,
       "left": null,
       "margin": null,
       "max_height": null,
       "max_width": null,
       "min_height": null,
       "min_width": null,
       "object_fit": null,
       "object_position": null,
       "order": null,
       "overflow": null,
       "overflow_x": null,
       "overflow_y": null,
       "padding": null,
       "right": null,
       "top": null,
       "visibility": null,
       "width": null
      }
     },
     "d26290f36d654f92bfe139cf0f8baa53": {
      "model_module": "@jupyter-widgets/base",
      "model_module_version": "1.2.0",
      "model_name": "LayoutModel",
      "state": {
       "_model_module": "@jupyter-widgets/base",
       "_model_module_version": "1.2.0",
       "_model_name": "LayoutModel",
       "_view_count": null,
       "_view_module": "@jupyter-widgets/base",
       "_view_module_version": "1.2.0",
       "_view_name": "LayoutView",
       "align_content": null,
       "align_items": null,
       "align_self": null,
       "border": null,
       "bottom": null,
       "display": null,
       "flex": null,
       "flex_flow": null,
       "grid_area": null,
       "grid_auto_columns": null,
       "grid_auto_flow": null,
       "grid_auto_rows": null,
       "grid_column": null,
       "grid_gap": null,
       "grid_row": null,
       "grid_template_areas": null,
       "grid_template_columns": null,
       "grid_template_rows": null,
       "height": null,
       "justify_content": null,
       "justify_items": null,
       "left": null,
       "margin": null,
       "max_height": null,
       "max_width": null,
       "min_height": null,
       "min_width": null,
       "object_fit": null,
       "object_position": null,
       "order": null,
       "overflow": null,
       "overflow_x": null,
       "overflow_y": null,
       "padding": null,
       "right": null,
       "top": null,
       "visibility": null,
       "width": null
      }
     },
     "d59e0666c89d4512aa0e09ba95bb6410": {
      "model_module": "@jupyter-widgets/controls",
      "model_module_version": "1.5.0",
      "model_name": "FloatProgressModel",
      "state": {
       "_dom_classes": [],
       "_model_module": "@jupyter-widgets/controls",
       "_model_module_version": "1.5.0",
       "_model_name": "FloatProgressModel",
       "_view_count": null,
       "_view_module": "@jupyter-widgets/controls",
       "_view_module_version": "1.5.0",
       "_view_name": "ProgressView",
       "bar_style": "success",
       "description": "",
       "description_tooltip": null,
       "layout": "IPY_MODEL_322576a4f6fe443f9272294fbe8e7d63",
       "max": 2.0,
       "min": 0.0,
       "orientation": "horizontal",
       "style": "IPY_MODEL_c27befaf62ab4d4d83ba63003189104c",
       "value": 2.0
      }
     },
     "d6106bd87a1848649de2b52a55fbe775": {
      "model_module": "@jupyter-widgets/controls",
      "model_module_version": "1.5.0",
      "model_name": "HTMLModel",
      "state": {
       "_dom_classes": [],
       "_model_module": "@jupyter-widgets/controls",
       "_model_module_version": "1.5.0",
       "_model_name": "HTMLModel",
       "_view_count": null,
       "_view_module": "@jupyter-widgets/controls",
       "_view_module_version": "1.5.0",
       "_view_name": "HTMLView",
       "description": "",
       "description_tooltip": null,
       "layout": "IPY_MODEL_7ec1d076190541c6ac837d7280a3e30f",
       "placeholder": "​",
       "style": "IPY_MODEL_343e1b9c452643f3acec9a0dc55a1c1d",
       "value": "100%"
      }
     },
     "e39448c39b0d4f7691a9e1873a9110e7": {
      "model_module": "@jupyter-widgets/controls",
      "model_module_version": "1.5.0",
      "model_name": "DescriptionStyleModel",
      "state": {
       "_model_module": "@jupyter-widgets/controls",
       "_model_module_version": "1.5.0",
       "_model_name": "DescriptionStyleModel",
       "_view_count": null,
       "_view_module": "@jupyter-widgets/base",
       "_view_module_version": "1.2.0",
       "_view_name": "StyleView",
       "description_width": ""
      }
     },
     "e40c2925e6e34daeabe83f28ad70b7cf": {
      "model_module": "@jupyter-widgets/base",
      "model_module_version": "1.2.0",
      "model_name": "LayoutModel",
      "state": {
       "_model_module": "@jupyter-widgets/base",
       "_model_module_version": "1.2.0",
       "_model_name": "LayoutModel",
       "_view_count": null,
       "_view_module": "@jupyter-widgets/base",
       "_view_module_version": "1.2.0",
       "_view_name": "LayoutView",
       "align_content": null,
       "align_items": null,
       "align_self": null,
       "border": null,
       "bottom": null,
       "display": null,
       "flex": null,
       "flex_flow": null,
       "grid_area": null,
       "grid_auto_columns": null,
       "grid_auto_flow": null,
       "grid_auto_rows": null,
       "grid_column": null,
       "grid_gap": null,
       "grid_row": null,
       "grid_template_areas": null,
       "grid_template_columns": null,
       "grid_template_rows": null,
       "height": null,
       "justify_content": null,
       "justify_items": null,
       "left": null,
       "margin": null,
       "max_height": null,
       "max_width": null,
       "min_height": null,
       "min_width": null,
       "object_fit": null,
       "object_position": null,
       "order": null,
       "overflow": null,
       "overflow_x": null,
       "overflow_y": null,
       "padding": null,
       "right": null,
       "top": null,
       "visibility": null,
       "width": null
      }
     },
     "e42cdf18c7ac45cd82708e690a8240ec": {
      "model_module": "@jupyter-widgets/base",
      "model_module_version": "1.2.0",
      "model_name": "LayoutModel",
      "state": {
       "_model_module": "@jupyter-widgets/base",
       "_model_module_version": "1.2.0",
       "_model_name": "LayoutModel",
       "_view_count": null,
       "_view_module": "@jupyter-widgets/base",
       "_view_module_version": "1.2.0",
       "_view_name": "LayoutView",
       "align_content": null,
       "align_items": null,
       "align_self": null,
       "border": null,
       "bottom": null,
       "display": null,
       "flex": null,
       "flex_flow": null,
       "grid_area": null,
       "grid_auto_columns": null,
       "grid_auto_flow": null,
       "grid_auto_rows": null,
       "grid_column": null,
       "grid_gap": null,
       "grid_row": null,
       "grid_template_areas": null,
       "grid_template_columns": null,
       "grid_template_rows": null,
       "height": null,
       "justify_content": null,
       "justify_items": null,
       "left": null,
       "margin": null,
       "max_height": null,
       "max_width": null,
       "min_height": null,
       "min_width": null,
       "object_fit": null,
       "object_position": null,
       "order": null,
       "overflow": null,
       "overflow_x": null,
       "overflow_y": null,
       "padding": null,
       "right": null,
       "top": null,
       "visibility": null,
       "width": null
      }
     },
     "e902510ff9f643579416d84a7996f4bb": {
      "model_module": "@jupyter-widgets/controls",
      "model_module_version": "1.5.0",
      "model_name": "HTMLModel",
      "state": {
       "_dom_classes": [],
       "_model_module": "@jupyter-widgets/controls",
       "_model_module_version": "1.5.0",
       "_model_name": "HTMLModel",
       "_view_count": null,
       "_view_module": "@jupyter-widgets/controls",
       "_view_module_version": "1.5.0",
       "_view_name": "HTMLView",
       "description": "",
       "description_tooltip": null,
       "layout": "IPY_MODEL_e40c2925e6e34daeabe83f28ad70b7cf",
       "placeholder": "​",
       "style": "IPY_MODEL_b5a03c2a45784b6bbadc5b8e0af601ad",
       "value": "100%"
      }
     },
     "fac03817a7204cf1853a52d6bce74d9b": {
      "model_module": "@jupyter-widgets/base",
      "model_module_version": "1.2.0",
      "model_name": "LayoutModel",
      "state": {
       "_model_module": "@jupyter-widgets/base",
       "_model_module_version": "1.2.0",
       "_model_name": "LayoutModel",
       "_view_count": null,
       "_view_module": "@jupyter-widgets/base",
       "_view_module_version": "1.2.0",
       "_view_name": "LayoutView",
       "align_content": null,
       "align_items": null,
       "align_self": null,
       "border": null,
       "bottom": null,
       "display": null,
       "flex": null,
       "flex_flow": null,
       "grid_area": null,
       "grid_auto_columns": null,
       "grid_auto_flow": null,
       "grid_auto_rows": null,
       "grid_column": null,
       "grid_gap": null,
       "grid_row": null,
       "grid_template_areas": null,
       "grid_template_columns": null,
       "grid_template_rows": null,
       "height": null,
       "justify_content": null,
       "justify_items": null,
       "left": null,
       "margin": null,
       "max_height": null,
       "max_width": null,
       "min_height": null,
       "min_width": null,
       "object_fit": null,
       "object_position": null,
       "order": null,
       "overflow": null,
       "overflow_x": null,
       "overflow_y": null,
       "padding": null,
       "right": null,
       "top": null,
       "visibility": null,
       "width": null
      }
     },
     "febb3ff0fec44edc8751ce793c7aa23e": {
      "model_module": "@jupyter-widgets/base",
      "model_module_version": "1.2.0",
      "model_name": "LayoutModel",
      "state": {
       "_model_module": "@jupyter-widgets/base",
       "_model_module_version": "1.2.0",
       "_model_name": "LayoutModel",
       "_view_count": null,
       "_view_module": "@jupyter-widgets/base",
       "_view_module_version": "1.2.0",
       "_view_name": "LayoutView",
       "align_content": null,
       "align_items": null,
       "align_self": null,
       "border": null,
       "bottom": null,
       "display": null,
       "flex": null,
       "flex_flow": null,
       "grid_area": null,
       "grid_auto_columns": null,
       "grid_auto_flow": null,
       "grid_auto_rows": null,
       "grid_column": null,
       "grid_gap": null,
       "grid_row": null,
       "grid_template_areas": null,
       "grid_template_columns": null,
       "grid_template_rows": null,
       "height": null,
       "justify_content": null,
       "justify_items": null,
       "left": null,
       "margin": null,
       "max_height": null,
       "max_width": null,
       "min_height": null,
       "min_width": null,
       "object_fit": null,
       "object_position": null,
       "order": null,
       "overflow": null,
       "overflow_x": null,
       "overflow_y": null,
       "padding": null,
       "right": null,
       "top": null,
       "visibility": null,
       "width": null
      }
     }
    },
    "version_major": 2,
    "version_minor": 0
   }
  }
 },
 "nbformat": 4,
 "nbformat_minor": 5
}