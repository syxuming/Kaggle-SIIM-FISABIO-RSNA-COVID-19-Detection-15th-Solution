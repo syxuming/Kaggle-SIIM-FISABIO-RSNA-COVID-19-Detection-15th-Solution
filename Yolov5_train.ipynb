{
 "cells": [
  {
   "cell_type": "markdown",
   "metadata": {},
   "source": [
    "# 1.Yolov5的数据准备"
   ]
  },
  {
   "cell_type": "markdown",
   "metadata": {},
   "source": [
    "主要是在指定的路径下放好训练所需的数据"
   ]
  },
  {
   "cell_type": "code",
   "execution_count": null,
   "metadata": {},
   "outputs": [],
   "source": [
    "ENV = \"Meg\"\n",
    "datadir = '/home/megstudio/workspace/competedata'\n",
    "outputdir = '/home/megstudio/workspace'\n",
    "archivedir = '/home/megstudio/workspace/archive'"
   ]
  },
  {
   "cell_type": "code",
   "execution_count": null,
   "metadata": {},
   "outputs": [],
   "source": [
    "import numpy as np, pandas as pd\n",
    "from glob import glob\n",
    "import shutil, os\n",
    "import matplotlib.pyplot as plt\n",
    "from sklearn.model_selection import GroupKFold\n",
    "from tqdm.notebook import tqdm\n",
    "import seaborn as sns\n",
    "import torch\n",
    "import time\n",
    "from IPython.display import Image, clear_output  # to display images\n",
    "from os import listdir\n",
    "from os.path import isfile, join\n",
    "import yaml\n",
    "from sklearn.model_selection import GroupKFold\n",
    "clear_output()"
   ]
  },
  {
   "cell_type": "code",
   "execution_count": null,
   "metadata": {},
   "outputs": [],
   "source": [
    "class CFG:\n",
    "    suffix = \"2400\"\n",
    "    batch_size = 64\n",
    "    epochs = 50\n",
    "    image_size = 672 #记得改文件名  siim_yolo_label_txt\n",
    "    model_pt = f\"{outputdir}/yolov5-master/models/yolov5_kaggle.yaml\"\n",
    "    \n",
    "    debug = False"
   ]
  },
  {
   "cell_type": "code",
   "execution_count": null,
   "metadata": {},
   "outputs": [],
   "source": [
    "# 切分fold\n",
    "train_df = pd.read_csv(f'{datadir}/train_image_level.csv')\n",
    "fold = 0\n",
    "gkf  = GroupKFold(n_splits = 5)\n",
    "train_df['fold'] = -1\n",
    "for fold, (train_idx, val_idx) in enumerate(gkf.split(train_df, groups=train_df.StudyInstanceUID.tolist())):\n",
    "    train_df.loc[val_idx, 'fold'] = fold\n",
    "\n",
    "train_df['image_path'] = f'{datadir}/train{CFG.image_size}png/train/' + train_df[\"id\"].str.replace(\"_image\",\"\") + '.png'\n",
    "val_files   = list(train_df[train_df.fold==fold].image_path.unique())\n",
    "train_files = list(train_df[train_df.fold!=fold].image_path.unique())\n",
    "len(train_files), len(val_files)"
   ]
  },
  {
   "cell_type": "code",
   "execution_count": null,
   "metadata": {},
   "outputs": [],
   "source": [
    "# 将含label的txt文件，划分到train和val文件夹下.\n",
    "label_dir = f'{datadir}/siim_yolo_label_txt'\n",
    "os.makedirs(f'{datadir}/siim_yolo_dataset/labels/train', exist_ok = True)\n",
    "os.makedirs(f'{datadir}/siim_yolo_dataset/labels/val', exist_ok = True)\n",
    "os.makedirs(f'{datadir}/siim_yolo_dataset/images/train', exist_ok = True)\n",
    "os.makedirs(f'{datadir}/siim_yolo_dataset/images/val', exist_ok = True)\n",
    "for file in tqdm(train_files):\n",
    "    shutil.copy(file, f'{datadir}/siim_yolo_dataset/images/train')\n",
    "    filename = file.split('/')[-1].split('.')[0]\n",
    "    shutil.copy(os.path.join(label_dir, filename+'.txt'), f'{datadir}/siim_yolo_dataset/labels/train')\n",
    "    \n",
    "for file in tqdm(val_files):\n",
    "    shutil.copy(file, f'{datadir}/siim_yolo_dataset/images/val')\n",
    "    filename = file.split('/')[-1].split('.')[0]\n",
    "    shutil.copy(os.path.join(label_dir, filename+'.txt'), f'{datadir}/siim_yolo_dataset/labels/val')"
   ]
  },
  {
   "cell_type": "code",
   "execution_count": null,
   "metadata": {},
   "outputs": [],
   "source": [
    "# 新建一个data yaml文件\n",
    "classes = ['0. opacity']\n",
    "\n",
    "with open(join( datadir , 'siim_yolo_dataset/train.txt'), 'w') as f:\n",
    "    for path in glob(f'{datadir}/siim_yolo_dataset/images/train/*'):\n",
    "        f.write(path+'\\n')\n",
    "            \n",
    "with open(join( datadir , 'siim_yolo_dataset/val.txt'), 'w') as f:\n",
    "    for path in glob(f'{datadir}/siim_yolo_dataset/images/val/*'):\n",
    "        f.write(path+'\\n')\n",
    "\n",
    "data = dict(\n",
    "    train =  join( datadir , 'siim_yolo_dataset/train.txt'),\n",
    "    val   =  join( datadir , 'siim_yolo_dataset/val.txt' ),\n",
    "    nc    = 1,\n",
    "    names = classes\n",
    "    )\n",
    "\n",
    "with open(join( datadir , 'siim_yolo_dataset/siim_dataset.yaml'), 'w') as outfile:\n",
    "    yaml.dump(data, outfile, default_flow_style=False)\n",
    "\n",
    "f = open(join( datadir , 'siim_yolo_dataset/siim_dataset.yaml'), 'r')\n",
    "print(f.read())"
   ]
  },
  {
   "cell_type": "markdown",
   "metadata": {},
   "source": [
    "# 2.Yolov5的训练"
   ]
  },
  {
   "cell_type": "code",
   "execution_count": 1,
   "metadata": {},
   "outputs": [
    {
     "name": "stdout",
     "output_type": "stream",
     "text": [
      "[WinError 3] 系统找不到指定的路径。: 'workspace/yolov5'\n",
      "C:\\Users\\xm\\jupyternotebook\n"
     ]
    }
   ],
   "source": [
    "%cd workspace/yolov5-master"
   ]
  },
  {
   "cell_type": "code",
   "execution_count": null,
   "metadata": {},
   "outputs": [],
   "source": [
    "!WANDB_MODE=\"dryrun\" python train.py --img $CFG.image_size --batch-size $CFG.batch_size --worker 16 --epochs $CFG.epochs --data /home/megstudio/workspace/competedata/siim_yolo_dataset/siim_dataset.yaml --hyp /home/megstudio/workspace/hyp.scratch.yaml --cfg $CFG.model_pt --weights '' --cache"
   ]
  }
 ],
 "metadata": {
  "kernelspec": {
   "display_name": "Python 3",
   "language": "python",
   "name": "python3"
  },
  "language_info": {
   "codemirror_mode": {
    "name": "ipython",
    "version": 3
   },
   "file_extension": ".py",
   "mimetype": "text/x-python",
   "name": "python",
   "nbconvert_exporter": "python",
   "pygments_lexer": "ipython3",
   "version": "3.8.3"
  },
  "toc": {
   "base_numbering": 1,
   "nav_menu": {},
   "number_sections": true,
   "sideBar": true,
   "skip_h1_title": false,
   "title_cell": "Table of Contents",
   "title_sidebar": "Contents",
   "toc_cell": false,
   "toc_position": {},
   "toc_section_display": true,
   "toc_window_display": false
  }
 },
 "nbformat": 4,
 "nbformat_minor": 4
}
